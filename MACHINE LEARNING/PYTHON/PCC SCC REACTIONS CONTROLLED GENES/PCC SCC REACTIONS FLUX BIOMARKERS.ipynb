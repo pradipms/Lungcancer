{
 "cells": [
  {
   "cell_type": "code",
   "execution_count": 1,
   "metadata": {},
   "outputs": [],
   "source": [
    "import numpy as np\n",
    "import pandas as pd\n",
    "import os"
   ]
  },
  {
   "cell_type": "code",
   "execution_count": 2,
   "metadata": {},
   "outputs": [],
   "source": [
    "os.chdir('C:\\\\Users\\\\U0033207PC\\\\Desktop\\\\GENE Enrichment\\\\REACTIONS CONTROLLED GENES')"
   ]
  },
  {
   "cell_type": "code",
   "execution_count": 3,
   "metadata": {},
   "outputs": [],
   "source": [
    "# Importing the dataset\n",
    "dt = pd.read_excel('REACTIONS_FLUX_BIOMARKERS.xlsx')"
   ]
  },
  {
   "cell_type": "code",
   "execution_count": 4,
   "metadata": {},
   "outputs": [
    {
     "data": {
      "text/html": [
       "<div>\n",
       "<style scoped>\n",
       "    .dataframe tbody tr th:only-of-type {\n",
       "        vertical-align: middle;\n",
       "    }\n",
       "\n",
       "    .dataframe tbody tr th {\n",
       "        vertical-align: top;\n",
       "    }\n",
       "\n",
       "    .dataframe thead th {\n",
       "        text-align: right;\n",
       "    }\n",
       "</style>\n",
       "<table border=\"1\" class=\"dataframe\">\n",
       "  <thead>\n",
       "    <tr style=\"text-align: right;\">\n",
       "      <th></th>\n",
       "      <th>Hugo_Symbol</th>\n",
       "      <th>FACOAL161</th>\n",
       "      <th>FACOAL226</th>\n",
       "      <th>FAOXC180x</th>\n",
       "      <th>FAOXC200180x</th>\n",
       "      <th>LPS2e</th>\n",
       "      <th>FAOXC22C20x</th>\n",
       "      <th>FAOXC5C5OHm</th>\n",
       "      <th>FOLR2</th>\n",
       "      <th>MTHFC</th>\n",
       "      <th>MTHFD2</th>\n",
       "      <th>MTHFDm</th>\n",
       "      <th>MTHFR3</th>\n",
       "      <th>PGI</th>\n",
       "      <th>GAPD</th>\n",
       "      <th>LDH_L</th>\n",
       "      <th>PGK</th>\n",
       "      <th>PGM</th>\n",
       "      <th>Overall Survival (Months)</th>\n",
       "    </tr>\n",
       "  </thead>\n",
       "  <tbody>\n",
       "    <tr>\n",
       "      <th>0</th>\n",
       "      <td>TCGA-05-4244-01</td>\n",
       "      <td>492.278261</td>\n",
       "      <td>7.079644</td>\n",
       "      <td>72.493260</td>\n",
       "      <td>72.493260</td>\n",
       "      <td>61.853054</td>\n",
       "      <td>73.132205</td>\n",
       "      <td>738.25540</td>\n",
       "      <td>108.397948</td>\n",
       "      <td>270.35413</td>\n",
       "      <td>56.871599</td>\n",
       "      <td>-297.748823</td>\n",
       "      <td>140.623096</td>\n",
       "      <td>-1030.983679</td>\n",
       "      <td>1166.701897</td>\n",
       "      <td>762.687695</td>\n",
       "      <td>-1166.701897</td>\n",
       "      <td>-749.960368</td>\n",
       "      <td>0.00</td>\n",
       "    </tr>\n",
       "    <tr>\n",
       "      <th>1</th>\n",
       "      <td>TCGA-05-4249-01</td>\n",
       "      <td>310.135139</td>\n",
       "      <td>-9.551541</td>\n",
       "      <td>56.620656</td>\n",
       "      <td>56.620656</td>\n",
       "      <td>140.936419</td>\n",
       "      <td>56.620656</td>\n",
       "      <td>652.09649</td>\n",
       "      <td>48.449442</td>\n",
       "      <td>382.29994</td>\n",
       "      <td>161.789575</td>\n",
       "      <td>-167.948581</td>\n",
       "      <td>53.053610</td>\n",
       "      <td>-948.109309</td>\n",
       "      <td>597.786527</td>\n",
       "      <td>205.141506</td>\n",
       "      <td>-597.786527</td>\n",
       "      <td>-631.433024</td>\n",
       "      <td>50.03</td>\n",
       "    </tr>\n",
       "  </tbody>\n",
       "</table>\n",
       "</div>"
      ],
      "text/plain": [
       "       Hugo_Symbol   FACOAL161  FACOAL226  FAOXC180x  FAOXC200180x  \\\n",
       "0  TCGA-05-4244-01  492.278261   7.079644  72.493260     72.493260   \n",
       "1  TCGA-05-4249-01  310.135139  -9.551541  56.620656     56.620656   \n",
       "\n",
       "        LPS2e  FAOXC22C20x  FAOXC5C5OHm       FOLR2      MTHFC      MTHFD2  \\\n",
       "0   61.853054    73.132205    738.25540  108.397948  270.35413   56.871599   \n",
       "1  140.936419    56.620656    652.09649   48.449442  382.29994  161.789575   \n",
       "\n",
       "       MTHFDm      MTHFR3          PGI         GAPD       LDH_L          PGK  \\\n",
       "0 -297.748823  140.623096 -1030.983679  1166.701897  762.687695 -1166.701897   \n",
       "1 -167.948581   53.053610  -948.109309   597.786527  205.141506  -597.786527   \n",
       "\n",
       "          PGM  Overall Survival (Months)  \n",
       "0 -749.960368                       0.00  \n",
       "1 -631.433024                      50.03  "
      ]
     },
     "execution_count": 4,
     "metadata": {},
     "output_type": "execute_result"
    }
   ],
   "source": [
    "dt.head(2)"
   ]
  },
  {
   "cell_type": "code",
   "execution_count": 5,
   "metadata": {},
   "outputs": [],
   "source": [
    "del dt['Hugo_Symbol']"
   ]
  },
  {
   "cell_type": "code",
   "execution_count": 6,
   "metadata": {},
   "outputs": [
    {
     "data": {
      "text/html": [
       "<div>\n",
       "<style scoped>\n",
       "    .dataframe tbody tr th:only-of-type {\n",
       "        vertical-align: middle;\n",
       "    }\n",
       "\n",
       "    .dataframe tbody tr th {\n",
       "        vertical-align: top;\n",
       "    }\n",
       "\n",
       "    .dataframe thead th {\n",
       "        text-align: right;\n",
       "    }\n",
       "</style>\n",
       "<table border=\"1\" class=\"dataframe\">\n",
       "  <thead>\n",
       "    <tr style=\"text-align: right;\">\n",
       "      <th></th>\n",
       "      <th>FACOAL161</th>\n",
       "      <th>FACOAL226</th>\n",
       "      <th>FAOXC180x</th>\n",
       "      <th>FAOXC200180x</th>\n",
       "      <th>LPS2e</th>\n",
       "      <th>FAOXC22C20x</th>\n",
       "      <th>FAOXC5C5OHm</th>\n",
       "      <th>FOLR2</th>\n",
       "      <th>MTHFC</th>\n",
       "      <th>MTHFD2</th>\n",
       "      <th>MTHFDm</th>\n",
       "      <th>MTHFR3</th>\n",
       "      <th>PGI</th>\n",
       "      <th>GAPD</th>\n",
       "      <th>LDH_L</th>\n",
       "      <th>PGK</th>\n",
       "      <th>PGM</th>\n",
       "      <th>Overall Survival (Months)</th>\n",
       "    </tr>\n",
       "  </thead>\n",
       "  <tbody>\n",
       "    <tr>\n",
       "      <th>0</th>\n",
       "      <td>492.278261</td>\n",
       "      <td>7.079644</td>\n",
       "      <td>72.493260</td>\n",
       "      <td>72.493260</td>\n",
       "      <td>61.853054</td>\n",
       "      <td>73.132205</td>\n",
       "      <td>738.25540</td>\n",
       "      <td>108.397948</td>\n",
       "      <td>270.35413</td>\n",
       "      <td>56.871599</td>\n",
       "      <td>-297.748823</td>\n",
       "      <td>140.623096</td>\n",
       "      <td>-1030.983679</td>\n",
       "      <td>1166.701897</td>\n",
       "      <td>762.687695</td>\n",
       "      <td>-1166.701897</td>\n",
       "      <td>-749.960368</td>\n",
       "      <td>0.00</td>\n",
       "    </tr>\n",
       "    <tr>\n",
       "      <th>1</th>\n",
       "      <td>310.135139</td>\n",
       "      <td>-9.551541</td>\n",
       "      <td>56.620656</td>\n",
       "      <td>56.620656</td>\n",
       "      <td>140.936419</td>\n",
       "      <td>56.620656</td>\n",
       "      <td>652.09649</td>\n",
       "      <td>48.449442</td>\n",
       "      <td>382.29994</td>\n",
       "      <td>161.789575</td>\n",
       "      <td>-167.948581</td>\n",
       "      <td>53.053610</td>\n",
       "      <td>-948.109309</td>\n",
       "      <td>597.786527</td>\n",
       "      <td>205.141506</td>\n",
       "      <td>-597.786527</td>\n",
       "      <td>-631.433024</td>\n",
       "      <td>50.03</td>\n",
       "    </tr>\n",
       "  </tbody>\n",
       "</table>\n",
       "</div>"
      ],
      "text/plain": [
       "    FACOAL161  FACOAL226  FAOXC180x  FAOXC200180x       LPS2e  FAOXC22C20x  \\\n",
       "0  492.278261   7.079644  72.493260     72.493260   61.853054    73.132205   \n",
       "1  310.135139  -9.551541  56.620656     56.620656  140.936419    56.620656   \n",
       "\n",
       "   FAOXC5C5OHm       FOLR2      MTHFC      MTHFD2      MTHFDm      MTHFR3  \\\n",
       "0    738.25540  108.397948  270.35413   56.871599 -297.748823  140.623096   \n",
       "1    652.09649   48.449442  382.29994  161.789575 -167.948581   53.053610   \n",
       "\n",
       "           PGI         GAPD       LDH_L          PGK         PGM  \\\n",
       "0 -1030.983679  1166.701897  762.687695 -1166.701897 -749.960368   \n",
       "1  -948.109309   597.786527  205.141506  -597.786527 -631.433024   \n",
       "\n",
       "   Overall Survival (Months)  \n",
       "0                       0.00  \n",
       "1                      50.03  "
      ]
     },
     "execution_count": 6,
     "metadata": {},
     "output_type": "execute_result"
    }
   ],
   "source": [
    "dt.head(2)"
   ]
  },
  {
   "cell_type": "code",
   "execution_count": 7,
   "metadata": {},
   "outputs": [],
   "source": [
    "PCC_REACTIONS_FLUX_BIOMARKERS = dt[dt.columns[:]].corr()['Overall Survival (Months)'][:]"
   ]
  },
  {
   "cell_type": "code",
   "execution_count": 8,
   "metadata": {},
   "outputs": [
    {
     "data": {
      "text/plain": [
       "FACOAL161                   -0.095120\n",
       "FACOAL226                    0.064798\n",
       "FAOXC180x                   -0.005710\n",
       "FAOXC200180x                -0.005710\n",
       "LPS2e                       -0.069126\n",
       "FAOXC22C20x                  0.008802\n",
       "FAOXC5C5OHm                 -0.010555\n",
       "FOLR2                       -0.118488\n",
       "MTHFC                       -0.007334\n",
       "MTHFD2                       0.041264\n",
       "MTHFDm                       0.068427\n",
       "MTHFR3                      -0.100520\n",
       "PGI                          0.086160\n",
       "GAPD                        -0.119948\n",
       "LDH_L                       -0.060125\n",
       "PGK                          0.118949\n",
       "PGM                          0.072755\n",
       "Overall Survival (Months)    1.000000\n",
       "Name: Overall Survival (Months), dtype: float64"
      ]
     },
     "execution_count": 8,
     "metadata": {},
     "output_type": "execute_result"
    }
   ],
   "source": [
    "PCC_REACTIONS_FLUX_BIOMARKERS"
   ]
  },
  {
   "cell_type": "code",
   "execution_count": 9,
   "metadata": {},
   "outputs": [],
   "source": [
    "PCC_REACTIONS_FLUX_BIOMARKERS.to_csv(r'C:\\Users\\U0033207PC\\Desktop\\GENE Enrichment\\REACTIONS CONTROLLED GENES\\OUTPUT\\PCC_REACTIONS_FLUX_BIOMARKERS.csv')"
   ]
  },
  {
   "cell_type": "code",
   "execution_count": 10,
   "metadata": {},
   "outputs": [],
   "source": [
    "SCC_REACTIONS_FLUX_BIOMARKERS = dt[dt.columns[:]].corr(method='spearman')['Overall Survival (Months)'][:]"
   ]
  },
  {
   "cell_type": "code",
   "execution_count": 11,
   "metadata": {},
   "outputs": [
    {
     "data": {
      "text/plain": [
       "FACOAL161                   -0.078373\n",
       "FACOAL226                    0.034328\n",
       "FAOXC180x                   -0.006841\n",
       "FAOXC200180x                -0.006841\n",
       "LPS2e                       -0.052892\n",
       "FAOXC22C20x                  0.012254\n",
       "FAOXC5C5OHm                 -0.020759\n",
       "FOLR2                       -0.113898\n",
       "MTHFC                        0.006389\n",
       "MTHFD2                       0.068074\n",
       "MTHFDm                       0.053101\n",
       "MTHFR3                      -0.099610\n",
       "PGI                          0.086102\n",
       "GAPD                        -0.083097\n",
       "LDH_L                       -0.071567\n",
       "PGK                          0.087274\n",
       "PGM                          0.027701\n",
       "Overall Survival (Months)    1.000000\n",
       "Name: Overall Survival (Months), dtype: float64"
      ]
     },
     "execution_count": 11,
     "metadata": {},
     "output_type": "execute_result"
    }
   ],
   "source": [
    "SCC_REACTIONS_FLUX_BIOMARKERS"
   ]
  },
  {
   "cell_type": "code",
   "execution_count": 12,
   "metadata": {},
   "outputs": [],
   "source": [
    "SCC_REACTIONS_FLUX_BIOMARKERS.to_csv(r'C:\\Users\\U0033207PC\\Desktop\\GENE Enrichment\\REACTIONS CONTROLLED GENES\\OUTPUT\\SCC_REACTIONS_FLUX_BIOMARKERS.csv')"
   ]
  },
  {
   "cell_type": "code",
   "execution_count": null,
   "metadata": {},
   "outputs": [],
   "source": []
  }
 ],
 "metadata": {
  "kernelspec": {
   "display_name": "Python 3",
   "language": "python",
   "name": "python3"
  },
  "language_info": {
   "codemirror_mode": {
    "name": "ipython",
    "version": 3
   },
   "file_extension": ".py",
   "mimetype": "text/x-python",
   "name": "python",
   "nbconvert_exporter": "python",
   "pygments_lexer": "ipython3",
   "version": "3.7.4"
  },
  "varInspector": {
   "cols": {
    "lenName": 16,
    "lenType": 16,
    "lenVar": 40
   },
   "kernels_config": {
    "python": {
     "delete_cmd_postfix": "",
     "delete_cmd_prefix": "del ",
     "library": "var_list.py",
     "varRefreshCmd": "print(var_dic_list())"
    },
    "r": {
     "delete_cmd_postfix": ") ",
     "delete_cmd_prefix": "rm(",
     "library": "var_list.r",
     "varRefreshCmd": "cat(var_dic_list()) "
    }
   },
   "types_to_exclude": [
    "module",
    "function",
    "builtin_function_or_method",
    "instance",
    "_Feature"
   ],
   "window_display": false
  }
 },
 "nbformat": 4,
 "nbformat_minor": 2
}
