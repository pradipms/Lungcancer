{
 "cells": [
  {
   "cell_type": "code",
   "execution_count": 1,
   "metadata": {},
   "outputs": [],
   "source": [
    "import numpy as np\n",
    "import pandas as pd\n",
    "import os"
   ]
  },
  {
   "cell_type": "code",
   "execution_count": 2,
   "metadata": {},
   "outputs": [],
   "source": [
    "os.chdir('C:\\\\Users\\\\U0033207PC\\\\Desktop\\\\GENE Enrichment\\\\FINAL VISUALISATION\\\\ANALYTICS\\\\PCA\\\\SUM_PCA')"
   ]
  },
  {
   "cell_type": "code",
   "execution_count": 3,
   "metadata": {},
   "outputs": [],
   "source": [
    "# Importing the dataset\n",
    "dt = pd.read_csv('PCA_SUM_PATHWAYS.csv')"
   ]
  },
  {
   "cell_type": "code",
   "execution_count": 4,
   "metadata": {},
   "outputs": [
    {
     "data": {
      "text/html": [
       "<div>\n",
       "<style scoped>\n",
       "    .dataframe tbody tr th:only-of-type {\n",
       "        vertical-align: middle;\n",
       "    }\n",
       "\n",
       "    .dataframe tbody tr th {\n",
       "        vertical-align: top;\n",
       "    }\n",
       "\n",
       "    .dataframe thead th {\n",
       "        text-align: right;\n",
       "    }\n",
       "</style>\n",
       "<table border=\"1\" class=\"dataframe\">\n",
       "  <thead>\n",
       "    <tr style=\"text-align: right;\">\n",
       "      <th></th>\n",
       "      <th>HUG0_SYMBOL</th>\n",
       "      <th>Alanine, aspartate and glutamate metabolism</th>\n",
       "      <th>D-Glutamine and D-glutamate metabolism</th>\n",
       "      <th>Amino sugar and nucleotide sugar metabolism</th>\n",
       "      <th>Butanoate metabolism</th>\n",
       "      <th>Cholesterol metabolism</th>\n",
       "      <th>Fatty acid biosynthesis</th>\n",
       "      <th>Biosynthesis of unsaturated fatty acids</th>\n",
       "      <th>Glycine, serine and threonine metabolism</th>\n",
       "      <th>Glyoxylate and dicarboxylate metabolism</th>\n",
       "      <th>Pentose and glucuronate interconversions</th>\n",
       "      <th>Pentose phosphate pathway</th>\n",
       "      <th>Purine metabolism</th>\n",
       "      <th>Sphingolipid metabolism</th>\n",
       "      <th>Tryptophan metabolism</th>\n",
       "      <th>Valine, leucine and isoleucine degradation           \\n</th>\n",
       "      <th>Valine, leucine and isoleucine biosynthesis</th>\n",
       "      <th>Overall Survival (Months)</th>\n",
       "    </tr>\n",
       "  </thead>\n",
       "  <tbody>\n",
       "    <tr>\n",
       "      <th>0</th>\n",
       "      <td>TCGA-05-4244-01</td>\n",
       "      <td>583.764387</td>\n",
       "      <td>583.764387</td>\n",
       "      <td>1070.781946</td>\n",
       "      <td>125.403072</td>\n",
       "      <td>457.654536</td>\n",
       "      <td>821.849391</td>\n",
       "      <td>821.849391</td>\n",
       "      <td>821.849391</td>\n",
       "      <td>510.695660</td>\n",
       "      <td>14.237357</td>\n",
       "      <td>14.237357</td>\n",
       "      <td>1640.909634</td>\n",
       "      <td>11.448262</td>\n",
       "      <td>360.741316</td>\n",
       "      <td>154.187481</td>\n",
       "      <td>154.187481</td>\n",
       "      <td>0.00</td>\n",
       "    </tr>\n",
       "    <tr>\n",
       "      <th>1</th>\n",
       "      <td>TCGA-05-4249-01</td>\n",
       "      <td>442.863722</td>\n",
       "      <td>442.863722</td>\n",
       "      <td>1101.988793</td>\n",
       "      <td>128.134267</td>\n",
       "      <td>149.939274</td>\n",
       "      <td>572.736884</td>\n",
       "      <td>572.736884</td>\n",
       "      <td>572.736884</td>\n",
       "      <td>506.034935</td>\n",
       "      <td>5.338254</td>\n",
       "      <td>5.338254</td>\n",
       "      <td>1030.412951</td>\n",
       "      <td>9.173955</td>\n",
       "      <td>265.626954</td>\n",
       "      <td>162.200877</td>\n",
       "      <td>162.200877</td>\n",
       "      <td>50.03</td>\n",
       "    </tr>\n",
       "  </tbody>\n",
       "</table>\n",
       "</div>"
      ],
      "text/plain": [
       "       HUG0_SYMBOL  \\\n",
       "0  TCGA-05-4244-01   \n",
       "1  TCGA-05-4249-01   \n",
       "\n",
       "   Alanine, aspartate and glutamate metabolism                              \\\n",
       "0                                         583.764387                         \n",
       "1                                         442.863722                         \n",
       "\n",
       "   D-Glutamine and D-glutamate metabolism     \\\n",
       "0                                 583.764387   \n",
       "1                                 442.863722   \n",
       "\n",
       "   Amino sugar and nucleotide sugar metabolism  Butanoate metabolism  \\\n",
       "0                                  1070.781946            125.403072   \n",
       "1                                  1101.988793            128.134267   \n",
       "\n",
       "   Cholesterol metabolism  \\\n",
       "0              457.654536   \n",
       "1              149.939274   \n",
       "\n",
       "   Fatty acid biosynthesis                                                \\\n",
       "0                                         821.849391                       \n",
       "1                                         572.736884                       \n",
       "\n",
       "   Biosynthesis of unsaturated fatty acids   \\\n",
       "0                                821.849391   \n",
       "1                                572.736884   \n",
       "\n",
       "   Glycine, serine and threonine metabolism  \\\n",
       "0                                821.849391   \n",
       "1                                572.736884   \n",
       "\n",
       "   Glyoxylate and dicarboxylate metabolism  \\\n",
       "0                               510.695660   \n",
       "1                               506.034935   \n",
       "\n",
       "   Pentose and glucuronate interconversions                      \\\n",
       "0                                          14.237357              \n",
       "1                                           5.338254              \n",
       "\n",
       "   Pentose phosphate pathway  Purine metabolism  Sphingolipid metabolism  \\\n",
       "0                  14.237357        1640.909634                11.448262   \n",
       "1                   5.338254        1030.412951                 9.173955   \n",
       "\n",
       "   Tryptophan metabolism  \\\n",
       "0             360.741316   \n",
       "1             265.626954   \n",
       "\n",
       "   Valine, leucine and isoleucine degradation           \\n  \\\n",
       "0                                         154.187481         \n",
       "1                                         162.200877         \n",
       "\n",
       "   Valine, leucine and isoleucine biosynthesis  Overall Survival (Months)  \n",
       "0                                   154.187481                       0.00  \n",
       "1                                   162.200877                      50.03  "
      ]
     },
     "execution_count": 4,
     "metadata": {},
     "output_type": "execute_result"
    }
   ],
   "source": [
    "dt.head(2)"
   ]
  },
  {
   "cell_type": "code",
   "execution_count": 5,
   "metadata": {},
   "outputs": [],
   "source": [
    "dc = \"Overall Survival (Months)\"; \n",
    "ec = \"Biosynthesis of unsaturated fatty acids\"\n",
    "\n",
    "dt_ = dt.drop('HUG0_SYMBOL', axis=1)\n",
    "\n",
    "y = dt_.pop(dc).values\n",
    "z1 = dt_.iloc[:,6]"
   ]
  },
  {
   "cell_type": "code",
   "execution_count": 7,
   "metadata": {},
   "outputs": [
    {
     "data": {
      "image/png": "[encoded data removed]",
      "text/plain": [
       "<Figure size 1008x576 with 1 Axes>"
      ]
     },
     "metadata": {
      "needs_background": "light"
     },
     "output_type": "display_data"
    }
   ],
   "source": [
    "import numpy as np\n",
    "import matplotlib.pyplot as plt\n",
    "from scipy import stats\n",
    "\n",
    "\n",
    "def pearsonr_ci(z1,y,alpha=0.05):\n",
    "    ''' calculate Pearson correlation along with the confidence interval using scipy and numpy\n",
    "    Parameters\n",
    "    ----------\n",
    "    x, y : iterable object such as a list or np.array\n",
    "      Input for correlation calculation\n",
    "    alpha : float\n",
    "      Significance level. 0.05 by default\n",
    "    Returns\n",
    "    -------\n",
    "    PCC : float\n",
    "      Pearson's correlation coefficient\n",
    "    pval : float\n",
    "      The corresponding p value\n",
    "    lo, hi : float\n",
    "      The lower and upper bound of confidence intervals\n",
    "    '''\n",
    "\n",
    "    PCC, p = stats.pearsonr(z1,y)\n",
    "    PCC_z = np.arctanh(PCC)\n",
    "    se = 1/np.sqrt(z1.size-3)\n",
    "    z = stats.norm.ppf(1-alpha/2)\n",
    "    lo_z, hi_z = PCC_z-z*se, PCC_z+z*se\n",
    "    lo, hi = np.tanh((lo_z, hi_z))\n",
    "    return ('PCC=%0.3f'%PCC, 'lo=%0.3f'%lo, 'hi=%0.3f'%hi,'p=%0.3f'%p)\n",
    "\n",
    "PCC, lo, hi, pearson = pearsonr_ci(z1,y,alpha=0.05)\n",
    "CI = [lo,hi]\n",
    "\n",
    "\n",
    "# Plotting\n",
    "plt.figure(figsize=(14 , 8))\n",
    "\n",
    "plt.subplot(1, 2, 1)\n",
    "#plt.scatter(z1, y,color = \"darkorange\")\n",
    "plt.scatter(z1, z1,color = \"blue\")\n",
    "plt.scatter(z1, y,color = \"red\")\n",
    "plt.xlabel(\"Biosynthesis of unsaturated fatty acids\", fontname=\"Arial\", fontsize=15)\n",
    "plt.ylabel(\"Overall Survival (Months)\", fontname=\"Arial\", fontsize=15)\n",
    "plt.plot([z1.min(), z1.max()], [z1.min(), z1.max()], 'k--', lw=4)\n",
    "plt.text(200, 1200, PCC , fontname=\"Arial\", fontsize=15)\n",
    "plt.text(600, 1200,CI, fontname=\"Arial\", fontsize=15)\n",
    "#plt.savefig(r'C:\\Users\\U0033207PC\\Desktop\\LUAD FIREHOSE LEGACY DATABASE\\PDF PLOT\\PCA\\DT\\FLUX\\VALIDATION_PCC_FLUXDTPCA.pdf')\n",
    "plt.show()"
   ]
  },
  {
   "cell_type": "code",
   "execution_count": null,
   "metadata": {},
   "outputs": [],
   "source": []
  }
 ],
 "metadata": {
  "kernelspec": {
   "display_name": "Python 3",
   "language": "python",
   "name": "python3"
  },
  "language_info": {
   "codemirror_mode": {
    "name": "ipython",
    "version": 3
   },
   "file_extension": ".py",
   "mimetype": "text/x-python",
   "name": "python",
   "nbconvert_exporter": "python",
   "pygments_lexer": "ipython3",
   "version": "3.7.4"
  },
  "varInspector": {
   "cols": {
    "lenName": 16,
    "lenType": 16,
    "lenVar": 40
   },
   "kernels_config": {
    "python": {
     "delete_cmd_postfix": "",
     "delete_cmd_prefix": "del ",
     "library": "var_list.py",
     "varRefreshCmd": "print(var_dic_list())"
    },
    "r": {
     "delete_cmd_postfix": ") ",
     "delete_cmd_prefix": "rm(",
     "library": "var_list.r",
     "varRefreshCmd": "cat(var_dic_list()) "
    }
   },
   "types_to_exclude": [
    "module",
    "function",
    "builtin_function_or_method",
    "instance",
    "_Feature"
   ],
   "window_display": false
  }
 },
 "nbformat": 4,
 "nbformat_minor": 2
}
