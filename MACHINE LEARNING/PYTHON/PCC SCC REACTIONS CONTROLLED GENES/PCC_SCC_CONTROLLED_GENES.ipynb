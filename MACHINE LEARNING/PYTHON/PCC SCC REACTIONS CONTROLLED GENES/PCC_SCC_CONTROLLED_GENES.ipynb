{
 "cells": [
  {
   "cell_type": "code",
   "execution_count": 1,
   "metadata": {},
   "outputs": [],
   "source": [
    "import numpy as np\n",
    "import pandas as pd\n",
    "import os"
   ]
  },
  {
   "cell_type": "code",
   "execution_count": 2,
   "metadata": {},
   "outputs": [],
   "source": [
    "os.chdir('C:\\\\Users\\\\U0033207PC\\\\Desktop\\\\GENE Enrichment\\\\REACTIONS CONTROLLED GENES')"
   ]
  },
  {
   "cell_type": "code",
   "execution_count": 3,
   "metadata": {},
   "outputs": [],
   "source": [
    "# Importing the dataset\n",
    "dt = pd.read_excel('CONTROLLED_GENES.xlsx')"
   ]
  },
  {
   "cell_type": "code",
   "execution_count": 4,
   "metadata": {},
   "outputs": [
    {
     "data": {
      "text/html": [
       "<div>\n",
       "<style scoped>\n",
       "    .dataframe tbody tr th:only-of-type {\n",
       "        vertical-align: middle;\n",
       "    }\n",
       "\n",
       "    .dataframe tbody tr th {\n",
       "        vertical-align: top;\n",
       "    }\n",
       "\n",
       "    .dataframe thead th {\n",
       "        text-align: right;\n",
       "    }\n",
       "</style>\n",
       "<table border=\"1\" class=\"dataframe\">\n",
       "  <thead>\n",
       "    <tr style=\"text-align: right;\">\n",
       "      <th></th>\n",
       "      <th>Hugo_Symbol</th>\n",
       "      <th>ACSBG2</th>\n",
       "      <th>ACSL1</th>\n",
       "      <th>SCP2</th>\n",
       "      <th>ACOX1</th>\n",
       "      <th>EHHADH</th>\n",
       "      <th>HSD17B4</th>\n",
       "      <th>ACAA1</th>\n",
       "      <th>LIPC</th>\n",
       "      <th>DHFR</th>\n",
       "      <th>...</th>\n",
       "      <th>LDHAL6A</th>\n",
       "      <th>LDHA</th>\n",
       "      <th>LDHB</th>\n",
       "      <th>LDHC</th>\n",
       "      <th>PGK1</th>\n",
       "      <th>PGK2</th>\n",
       "      <th>BPGM</th>\n",
       "      <th>PGAM1</th>\n",
       "      <th>PGAM2</th>\n",
       "      <th>Overall Survival (Months)</th>\n",
       "    </tr>\n",
       "  </thead>\n",
       "  <tbody>\n",
       "    <tr>\n",
       "      <th>0</th>\n",
       "      <td>TCGA-05-4244-01</td>\n",
       "      <td>0.3279</td>\n",
       "      <td>-0.3205</td>\n",
       "      <td>-0.0322</td>\n",
       "      <td>-0.2082</td>\n",
       "      <td>1.0379</td>\n",
       "      <td>-0.1047</td>\n",
       "      <td>-0.0549</td>\n",
       "      <td>-0.1619</td>\n",
       "      <td>0.9422</td>\n",
       "      <td>...</td>\n",
       "      <td>-0.2588</td>\n",
       "      <td>1.8839</td>\n",
       "      <td>-0.7084</td>\n",
       "      <td>-0.5444</td>\n",
       "      <td>3.3883</td>\n",
       "      <td>-0.4261</td>\n",
       "      <td>0.0287</td>\n",
       "      <td>-0.0885</td>\n",
       "      <td>0.0558</td>\n",
       "      <td>0.00</td>\n",
       "    </tr>\n",
       "    <tr>\n",
       "      <th>1</th>\n",
       "      <td>TCGA-05-4249-01</td>\n",
       "      <td>0.2287</td>\n",
       "      <td>-0.6572</td>\n",
       "      <td>-0.1166</td>\n",
       "      <td>2.4538</td>\n",
       "      <td>-1.4420</td>\n",
       "      <td>-0.6730</td>\n",
       "      <td>-0.5017</td>\n",
       "      <td>-0.1597</td>\n",
       "      <td>-1.1741</td>\n",
       "      <td>...</td>\n",
       "      <td>-0.0830</td>\n",
       "      <td>-0.5313</td>\n",
       "      <td>-0.4859</td>\n",
       "      <td>0.3085</td>\n",
       "      <td>-0.1818</td>\n",
       "      <td>-0.4261</td>\n",
       "      <td>-0.3492</td>\n",
       "      <td>-0.1284</td>\n",
       "      <td>-0.4350</td>\n",
       "      <td>50.03</td>\n",
       "    </tr>\n",
       "  </tbody>\n",
       "</table>\n",
       "<p>2 rows × 29 columns</p>\n",
       "</div>"
      ],
      "text/plain": [
       "       Hugo_Symbol  ACSBG2   ACSL1    SCP2   ACOX1  EHHADH  HSD17B4   ACAA1  \\\n",
       "0  TCGA-05-4244-01  0.3279 -0.3205 -0.0322 -0.2082  1.0379  -0.1047 -0.0549   \n",
       "1  TCGA-05-4249-01  0.2287 -0.6572 -0.1166  2.4538 -1.4420  -0.6730 -0.5017   \n",
       "\n",
       "     LIPC    DHFR  ...  LDHAL6A    LDHA    LDHB    LDHC    PGK1    PGK2  \\\n",
       "0 -0.1619  0.9422  ...  -0.2588  1.8839 -0.7084 -0.5444  3.3883 -0.4261   \n",
       "1 -0.1597 -1.1741  ...  -0.0830 -0.5313 -0.4859  0.3085 -0.1818 -0.4261   \n",
       "\n",
       "     BPGM   PGAM1   PGAM2  Overall Survival (Months)  \n",
       "0  0.0287 -0.0885  0.0558                       0.00  \n",
       "1 -0.3492 -0.1284 -0.4350                      50.03  \n",
       "\n",
       "[2 rows x 29 columns]"
      ]
     },
     "execution_count": 4,
     "metadata": {},
     "output_type": "execute_result"
    }
   ],
   "source": [
    "dt.head(2)"
   ]
  },
  {
   "cell_type": "code",
   "execution_count": 5,
   "metadata": {},
   "outputs": [],
   "source": [
    "del dt['Hugo_Symbol']"
   ]
  },
  {
   "cell_type": "code",
   "execution_count": 6,
   "metadata": {},
   "outputs": [
    {
     "data": {
      "text/html": [
       "<div>\n",
       "<style scoped>\n",
       "    .dataframe tbody tr th:only-of-type {\n",
       "        vertical-align: middle;\n",
       "    }\n",
       "\n",
       "    .dataframe tbody tr th {\n",
       "        vertical-align: top;\n",
       "    }\n",
       "\n",
       "    .dataframe thead th {\n",
       "        text-align: right;\n",
       "    }\n",
       "</style>\n",
       "<table border=\"1\" class=\"dataframe\">\n",
       "  <thead>\n",
       "    <tr style=\"text-align: right;\">\n",
       "      <th></th>\n",
       "      <th>ACSBG2</th>\n",
       "      <th>ACSL1</th>\n",
       "      <th>SCP2</th>\n",
       "      <th>ACOX1</th>\n",
       "      <th>EHHADH</th>\n",
       "      <th>HSD17B4</th>\n",
       "      <th>ACAA1</th>\n",
       "      <th>LIPC</th>\n",
       "      <th>DHFR</th>\n",
       "      <th>MTHFD1</th>\n",
       "      <th>...</th>\n",
       "      <th>LDHAL6A</th>\n",
       "      <th>LDHA</th>\n",
       "      <th>LDHB</th>\n",
       "      <th>LDHC</th>\n",
       "      <th>PGK1</th>\n",
       "      <th>PGK2</th>\n",
       "      <th>BPGM</th>\n",
       "      <th>PGAM1</th>\n",
       "      <th>PGAM2</th>\n",
       "      <th>Overall Survival (Months)</th>\n",
       "    </tr>\n",
       "  </thead>\n",
       "  <tbody>\n",
       "    <tr>\n",
       "      <th>0</th>\n",
       "      <td>0.3279</td>\n",
       "      <td>-0.3205</td>\n",
       "      <td>-0.0322</td>\n",
       "      <td>-0.2082</td>\n",
       "      <td>1.0379</td>\n",
       "      <td>-0.1047</td>\n",
       "      <td>-0.0549</td>\n",
       "      <td>-0.1619</td>\n",
       "      <td>0.9422</td>\n",
       "      <td>1.7966</td>\n",
       "      <td>...</td>\n",
       "      <td>-0.2588</td>\n",
       "      <td>1.8839</td>\n",
       "      <td>-0.7084</td>\n",
       "      <td>-0.5444</td>\n",
       "      <td>3.3883</td>\n",
       "      <td>-0.4261</td>\n",
       "      <td>0.0287</td>\n",
       "      <td>-0.0885</td>\n",
       "      <td>0.0558</td>\n",
       "      <td>0.00</td>\n",
       "    </tr>\n",
       "    <tr>\n",
       "      <th>1</th>\n",
       "      <td>0.2287</td>\n",
       "      <td>-0.6572</td>\n",
       "      <td>-0.1166</td>\n",
       "      <td>2.4538</td>\n",
       "      <td>-1.4420</td>\n",
       "      <td>-0.6730</td>\n",
       "      <td>-0.5017</td>\n",
       "      <td>-0.1597</td>\n",
       "      <td>-1.1741</td>\n",
       "      <td>-0.8367</td>\n",
       "      <td>...</td>\n",
       "      <td>-0.0830</td>\n",
       "      <td>-0.5313</td>\n",
       "      <td>-0.4859</td>\n",
       "      <td>0.3085</td>\n",
       "      <td>-0.1818</td>\n",
       "      <td>-0.4261</td>\n",
       "      <td>-0.3492</td>\n",
       "      <td>-0.1284</td>\n",
       "      <td>-0.4350</td>\n",
       "      <td>50.03</td>\n",
       "    </tr>\n",
       "  </tbody>\n",
       "</table>\n",
       "<p>2 rows × 28 columns</p>\n",
       "</div>"
      ],
      "text/plain": [
       "   ACSBG2   ACSL1    SCP2   ACOX1  EHHADH  HSD17B4   ACAA1    LIPC    DHFR  \\\n",
       "0  0.3279 -0.3205 -0.0322 -0.2082  1.0379  -0.1047 -0.0549 -0.1619  0.9422   \n",
       "1  0.2287 -0.6572 -0.1166  2.4538 -1.4420  -0.6730 -0.5017 -0.1597 -1.1741   \n",
       "\n",
       "   MTHFD1  ...  LDHAL6A    LDHA    LDHB    LDHC    PGK1    PGK2    BPGM  \\\n",
       "0  1.7966  ...  -0.2588  1.8839 -0.7084 -0.5444  3.3883 -0.4261  0.0287   \n",
       "1 -0.8367  ...  -0.0830 -0.5313 -0.4859  0.3085 -0.1818 -0.4261 -0.3492   \n",
       "\n",
       "    PGAM1   PGAM2  Overall Survival (Months)  \n",
       "0 -0.0885  0.0558                       0.00  \n",
       "1 -0.1284 -0.4350                      50.03  \n",
       "\n",
       "[2 rows x 28 columns]"
      ]
     },
     "execution_count": 6,
     "metadata": {},
     "output_type": "execute_result"
    }
   ],
   "source": [
    "dt.head(2)"
   ]
  },
  {
   "cell_type": "code",
   "execution_count": 7,
   "metadata": {},
   "outputs": [],
   "source": [
    "PCC_CONTROLLED_GENES = dt[dt.columns[:]].corr()['Overall Survival (Months)'][:]"
   ]
  },
  {
   "cell_type": "code",
   "execution_count": 8,
   "metadata": {},
   "outputs": [
    {
     "data": {
      "text/plain": [
       "ACSBG2                       0.068682\n",
       "ACSL1                        0.161881\n",
       "SCP2                         0.020655\n",
       "ACOX1                       -0.035143\n",
       "EHHADH                      -0.057023\n",
       "HSD17B4                      0.099224\n",
       "ACAA1                        0.055506\n",
       "LIPC                        -0.053798\n",
       "DHFR                        -0.056233\n",
       "MTHFD1                      -0.028245\n",
       "MTHFD2L                      0.039446\n",
       "MTHFD2                       0.011290\n",
       "MTHFD1L                     -0.057342\n",
       "MTHFR                        0.007686\n",
       "GPI                         -0.001560\n",
       "GAPDHS                      -0.023447\n",
       "GAPDH                       -0.036830\n",
       "LDHAL6B                     -0.083581\n",
       "LDHAL6A                      0.018717\n",
       "LDHA                        -0.095684\n",
       "LDHB                        -0.069475\n",
       "LDHC                        -0.015128\n",
       "PGK1                        -0.044073\n",
       "PGK2                        -0.063905\n",
       "BPGM                         0.010253\n",
       "PGAM1                       -0.087767\n",
       "PGAM2                        0.018089\n",
       "Overall Survival (Months)    1.000000\n",
       "Name: Overall Survival (Months), dtype: float64"
      ]
     },
     "execution_count": 8,
     "metadata": {},
     "output_type": "execute_result"
    }
   ],
   "source": [
    "PCC_CONTROLLED_GENES"
   ]
  },
  {
   "cell_type": "code",
   "execution_count": 9,
   "metadata": {},
   "outputs": [],
   "source": [
    "PCC_CONTROLLED_GENES.to_csv(r'C:\\Users\\U0033207PC\\Desktop\\GENE Enrichment\\REACTIONS CONTROLLED GENES\\OUTPUT\\PCC_CONTROLLED_GENES.csv')"
   ]
  },
  {
   "cell_type": "code",
   "execution_count": 10,
   "metadata": {},
   "outputs": [],
   "source": [
    "SCC_CONTROLLED_GENES = dt[dt.columns[:]].corr(method='spearman')['Overall Survival (Months)'][:]"
   ]
  },
  {
   "cell_type": "code",
   "execution_count": 11,
   "metadata": {},
   "outputs": [
    {
     "data": {
      "text/plain": [
       "ACSBG2                       0.020779\n",
       "ACSL1                        0.072158\n",
       "SCP2                         0.069237\n",
       "ACOX1                        0.040708\n",
       "EHHADH                      -0.002469\n",
       "HSD17B4                      0.053678\n",
       "ACAA1                        0.041189\n",
       "LIPC                         0.016409\n",
       "DHFR                        -0.038749\n",
       "MTHFD1                      -0.067248\n",
       "MTHFD2L                      0.077671\n",
       "MTHFD2                       0.027038\n",
       "MTHFD1L                     -0.066309\n",
       "MTHFR                        0.004722\n",
       "GPI                         -0.026091\n",
       "GAPDHS                      -0.060614\n",
       "GAPDH                       -0.074951\n",
       "LDHAL6B                     -0.146367\n",
       "LDHAL6A                      0.009948\n",
       "LDHA                        -0.123994\n",
       "LDHB                        -0.060462\n",
       "LDHC                         0.014165\n",
       "PGK1                        -0.047002\n",
       "PGK2                        -0.104296\n",
       "BPGM                         0.068839\n",
       "PGAM1                       -0.018507\n",
       "PGAM2                       -0.031988\n",
       "Overall Survival (Months)    1.000000\n",
       "Name: Overall Survival (Months), dtype: float64"
      ]
     },
     "execution_count": 11,
     "metadata": {},
     "output_type": "execute_result"
    }
   ],
   "source": [
    "SCC_CONTROLLED_GENES"
   ]
  },
  {
   "cell_type": "code",
   "execution_count": 12,
   "metadata": {},
   "outputs": [],
   "source": [
    "SCC_CONTROLLED_GENES.to_csv(r'C:\\Users\\U0033207PC\\Desktop\\GENE Enrichment\\REACTIONS CONTROLLED GENES\\OUTPUT\\SCC_CONTROLLED_GENES.csv')"
   ]
  },
  {
   "cell_type": "code",
   "execution_count": null,
   "metadata": {},
   "outputs": [],
   "source": []
  }
 ],
 "metadata": {
  "kernelspec": {
   "display_name": "Python 3",
   "language": "python",
   "name": "python3"
  },
  "language_info": {
   "codemirror_mode": {
    "name": "ipython",
    "version": 3
   },
   "file_extension": ".py",
   "mimetype": "text/x-python",
   "name": "python",
   "nbconvert_exporter": "python",
   "pygments_lexer": "ipython3",
   "version": "3.7.4"
  },
  "varInspector": {
   "cols": {
    "lenName": 16,
    "lenType": 16,
    "lenVar": 40
   },
   "kernels_config": {
    "python": {
     "delete_cmd_postfix": "",
     "delete_cmd_prefix": "del ",
     "library": "var_list.py",
     "varRefreshCmd": "print(var_dic_list())"
    },
    "r": {
     "delete_cmd_postfix": ") ",
     "delete_cmd_prefix": "rm(",
     "library": "var_list.r",
     "varRefreshCmd": "cat(var_dic_list()) "
    }
   },
   "types_to_exclude": [
    "module",
    "function",
    "builtin_function_or_method",
    "instance",
    "_Feature"
   ],
   "window_display": false
  }
 },
 "nbformat": 4,
 "nbformat_minor": 2
}
