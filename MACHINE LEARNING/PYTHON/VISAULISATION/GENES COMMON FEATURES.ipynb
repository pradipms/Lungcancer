{
 "cells": [
  {
   "cell_type": "code",
   "execution_count": 1,
   "metadata": {},
   "outputs": [],
   "source": [
    "import matplotlib_venn as vplt\n",
    "import matplotlib.pyplot as plt\n",
    "from matplotlib_venn import venn2\n",
    "\n",
    "plt.figure(figsize=(10,10))\n",
    "plt.subplot(1, 2, 1)\n",
    "#plt.title('Genes Common Features')\n",
    "v = vplt.venn2(subsets=(1643,10,3), set_labels=('PCA', 'RF'), set_colors=('w', 'w'))\n",
    "v.get_label_by_id('10').set_x(0.25)\n",
    "v.get_label_by_id('01').set_x(-.25)\n",
    "v.get_label_by_id('11').set_x(0)\n",
    "v.set_labels[0].set_position((-0.22, -0.45))\n",
    "v.set_labels[1].set_position((0.25, -0.45))\n",
    "\n",
    "\n",
    "c = vplt.venn2_circles(subsets=(2, 2, 1), linestyle='solid')\n",
    "c[0].set_radius(0.32)\n",
    "c[1].set_radius(0.32)\n",
    "c[0].set_lw(2.0)\n",
    "c[1].set_lw(2.0)\n",
    "c[0].set_color('green')\n",
    "c[1].set_color('red')\n",
    "c[0].set_alpha(0.5)\n",
    "c[1].set_alpha(0.5)\n",
    "c[0].set_edgecolor('black')\n",
    "c[1].set_edgecolor('black')\n",
    "plt.savefig(r'C:\\Users\\U0033207PC\\Desktop\\GENE Enrichment\\FINAL VISUALISATION\\PLOTS\\COMMON_GENES_FEATURES.pdf', bbox_inches=\"tight\")"
   ]
  },
  {
   "cell_type": "code",
   "execution_count": null,
   "metadata": {},
   "outputs": [],
   "source": []
  }
 ],
 "metadata": {
  "kernelspec": {
   "display_name": "Python 3",
   "language": "python",
   "name": "python3"
  },
  "language_info": {
   "codemirror_mode": {
    "name": "ipython",
    "version": 3
   },
   "file_extension": ".py",
   "mimetype": "text/x-python",
   "name": "python",
   "nbconvert_exporter": "python",
   "pygments_lexer": "ipython3",
   "version": "3.7.4"
  },
  "varInspector": {
   "cols": {
    "lenName": 16,
    "lenType": 16,
    "lenVar": 40
   },
   "kernels_config": {
    "python": {
     "delete_cmd_postfix": "",
     "delete_cmd_prefix": "del ",
     "library": "var_list.py",
     "varRefreshCmd": "print(var_dic_list())"
    },
    "r": {
     "delete_cmd_postfix": ") ",
     "delete_cmd_prefix": "rm(",
     "library": "var_list.r",
     "varRefreshCmd": "cat(var_dic_list()) "
    }
   },
   "types_to_exclude": [
    "module",
    "function",
    "builtin_function_or_method",
    "instance",
    "_Feature"
   ],
   "window_display": false
  }
 },
 "nbformat": 4,
 "nbformat_minor": 2
}
