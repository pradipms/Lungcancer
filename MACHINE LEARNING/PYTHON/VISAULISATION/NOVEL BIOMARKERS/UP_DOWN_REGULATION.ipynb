{
 "cells": [
  {
   "cell_type": "code",
   "execution_count": 2,
   "metadata": {},
   "outputs": [
    {
     "data": {
      "image/png": "[encoded data removed]",
      "text/plain": [
       "<Figure size 432x288 with 2 Axes>"
      ]
     },
     "metadata": {},
     "output_type": "display_data"
    }
   ],
   "source": [
    "import numpy as np\n",
    "import matplotlib.pyplot as plt\n",
    "\n",
    "features = [\n",
    "    'PGM',\n",
    "    'PGK',\n",
    "    'LDH_L',\n",
    "    'GAPD',\n",
    "    'PGI',\n",
    "    'MTHFR3',\n",
    "    'MTHFDm',\n",
    "    'MTHFD2',\n",
    "    'MTHFC',\n",
    "    'FOLR2',\n",
    "    'FAOXC5C5OHm',\n",
    "    'FAOXC22C20x',\n",
    "    'LPS2e',\n",
    "    'FAOXC200180x',\n",
    "    'FAOXC180x',\n",
    "    'FACOAL226',\n",
    "    'FACOAL161'    \n",
    "    ]\n",
    "\n",
    "num_features = len(features)\n",
    "\n",
    "# UPREGULATION AND DOWNREGULATION DATA\n",
    "UP = [119, 119, 256, 135, 155, 285, 343, 6, 9, 140, 44, 21, 170, 21, 21, 12, 312]\n",
    "DOWN = [396, 398, 261, 382, 361, 232, 174, 511, 508, 377, 473, 496, 347, 496, 496, 505, 205]\n",
    "\n",
    "\n",
    "# bars centered on the y axis\n",
    "pos = np.arange(num_features) + .5\n",
    "\n",
    "# make the left and right axes for UP AND DOWN\n",
    "fig = plt.figure(facecolor='white', edgecolor='none')\n",
    "ax_UP = fig.add_axes([0.05, 0.1, 0.35, 0.8])\n",
    "ax_DOWN = fig.add_axes([0.6, 0.1, 0.35, 0.8])\n",
    "\n",
    "ax_DOWN.set_xticks((100,200,300,400,515))\n",
    "ax_UP.set_xticks((100,200,300,400,515))\n",
    "\n",
    "# turn off the axes spines except on the inside y-axis\n",
    "for loc, spine in ax_UP.spines.items():\n",
    "    if loc!='right':\n",
    "        spine.set_color('none') # don't draw spine\n",
    "\n",
    "for loc, spine in ax_DOWN.spines.items():\n",
    "    if loc!='left':\n",
    "        spine.set_color('none') # don't draw spine\n",
    "\n",
    "# just tick on the top\n",
    "ax_UP.xaxis.set_ticks_position('top')\n",
    "ax_DOWN.xaxis.set_ticks_position('top')\n",
    "\n",
    "# make the UP graphs\n",
    "ax_UP.barh(pos, UP, align='center', facecolor='#008B8B',height=0.5, edgecolor='None')\n",
    "ax_UP.set_yticks([])\n",
    "ax_UP.invert_xaxis()\n",
    "\n",
    "# make the DOWN graphs\n",
    "ax_DOWN.barh(pos, DOWN, align='center', facecolor='#FF8C00',height=0.5, edgecolor='None')\n",
    "ax_DOWN.set_yticks([])\n",
    "\n",
    "# we want the feature labels to be centered in the fig coord system and\n",
    "# centered w/ respect to the bars so we use a custom transform\n",
    "import matplotlib.transforms as transforms\n",
    "transform = transforms.blended_transform_factory(\n",
    "    fig.transFigure, ax_DOWN.transData)\n",
    "for i, label in enumerate(features):\n",
    "    ax_DOWN.text(0.5, i+0.5, label, ha='center', va='center',\n",
    "transform=transform)\n",
    "\n",
    "# the axes titles are in axes coords, so x=0, y=1.025 is on the left\n",
    "# side of the axes, just above, x=1.0, y=1.025 is the right side of the\n",
    "# axes, just above\n",
    "ax_DOWN.set_title('DOWN', x=0.0, y=1.025, fontsize=12)\n",
    "ax_UP.set_title('UP', x=1.0, y=1.025, fontsize=12)\n",
    "\n",
    "plt.savefig(r'C:\\Users\\U0033207PC\\Desktop\\GENE Enrichment\\FINAL VISUALISATION\\PLOTS\\UPREGULATIONANDDOWNREGULATION_PLOT.pdf', bbox_inches=\"tight\")\n",
    "plt.show()"
   ]
  },
  {
   "cell_type": "code",
   "execution_count": null,
   "metadata": {},
   "outputs": [],
   "source": []
  }
 ],
 "metadata": {
  "kernelspec": {
   "display_name": "Python 3",
   "language": "python",
   "name": "python3"
  },
  "language_info": {
   "codemirror_mode": {
    "name": "ipython",
    "version": 3
   },
   "file_extension": ".py",
   "mimetype": "text/x-python",
   "name": "python",
   "nbconvert_exporter": "python",
   "pygments_lexer": "ipython3",
   "version": "3.7.4"
  },
  "varInspector": {
   "cols": {
    "lenName": 16,
    "lenType": 16,
    "lenVar": 40
   },
   "kernels_config": {
    "python": {
     "delete_cmd_postfix": "",
     "delete_cmd_prefix": "del ",
     "library": "var_list.py",
     "varRefreshCmd": "print(var_dic_list())"
    },
    "r": {
     "delete_cmd_postfix": ") ",
     "delete_cmd_prefix": "rm(",
     "library": "var_list.r",
     "varRefreshCmd": "cat(var_dic_list()) "
    }
   },
   "types_to_exclude": [
    "module",
    "function",
    "builtin_function_or_method",
    "instance",
    "_Feature"
   ],
   "window_display": false
  }
 },
 "nbformat": 4,
 "nbformat_minor": 2
}
