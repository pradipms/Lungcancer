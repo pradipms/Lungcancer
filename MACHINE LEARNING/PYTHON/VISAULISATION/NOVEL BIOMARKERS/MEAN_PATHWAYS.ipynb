{
 "cells": [
  {
   "cell_type": "code",
   "execution_count": 1,
   "metadata": {},
   "outputs": [],
   "source": [
    "#importing necessary python packages\n",
    "import pandas as pd\n",
    "import numpy as np\n",
    "import os"
   ]
  },
  {
   "cell_type": "code",
   "execution_count": 2,
   "metadata": {},
   "outputs": [],
   "source": [
    "os.chdir('C:\\\\Users\\\\U0033207PC\\\\Desktop\\\\GENE Enrichment\\\\FINAL VISUALISATION\\\\SUPPLENMENTARY')#setting the right directory"
   ]
  },
  {
   "cell_type": "code",
   "execution_count": 3,
   "metadata": {},
   "outputs": [],
   "source": [
    "# Importing the dataset\n",
    "dt = pd.read_excel('FEATURES_MEAN_PATHWAYS.xlsx',index_col=0)"
   ]
  },
  {
   "cell_type": "code",
   "execution_count": 4,
   "metadata": {},
   "outputs": [
    {
     "data": {
      "text/html": [
       "<div>\n",
       "<style scoped>\n",
       "    .dataframe tbody tr th:only-of-type {\n",
       "        vertical-align: middle;\n",
       "    }\n",
       "\n",
       "    .dataframe tbody tr th {\n",
       "        vertical-align: top;\n",
       "    }\n",
       "\n",
       "    .dataframe thead th {\n",
       "        text-align: right;\n",
       "    }\n",
       "</style>\n",
       "<table border=\"1\" class=\"dataframe\">\n",
       "  <thead>\n",
       "    <tr style=\"text-align: right;\">\n",
       "      <th></th>\n",
       "      <th>Fatty acid activation (cytosolic)</th>\n",
       "      <th>Fatty acid oxidation</th>\n",
       "      <th>Folate metabolism</th>\n",
       "      <th>Glycolysis / Gluconeogenesis</th>\n",
       "    </tr>\n",
       "    <tr>\n",
       "      <th>HUGO_SYMBOL</th>\n",
       "      <th></th>\n",
       "      <th></th>\n",
       "      <th></th>\n",
       "      <th></th>\n",
       "    </tr>\n",
       "  </thead>\n",
       "  <tbody>\n",
       "    <tr>\n",
       "      <th>PAT1</th>\n",
       "      <td>249.678953</td>\n",
       "      <td>203.645436</td>\n",
       "      <td>174.799119</td>\n",
       "      <td>975.407107</td>\n",
       "    </tr>\n",
       "    <tr>\n",
       "      <th>PAT2</th>\n",
       "      <td>159.843340</td>\n",
       "      <td>192.578976</td>\n",
       "      <td>162.708229</td>\n",
       "      <td>596.051379</td>\n",
       "    </tr>\n",
       "  </tbody>\n",
       "</table>\n",
       "</div>"
      ],
      "text/plain": [
       "             Fatty acid activation (cytosolic)  Fatty acid oxidation  \\\n",
       "HUGO_SYMBOL                                                            \n",
       "PAT1                                249.678953            203.645436   \n",
       "PAT2                                159.843340            192.578976   \n",
       "\n",
       "             Folate metabolism  Glycolysis / Gluconeogenesis  \n",
       "HUGO_SYMBOL                                                   \n",
       "PAT1                174.799119                    975.407107  \n",
       "PAT2                162.708229                    596.051379  "
      ]
     },
     "execution_count": 4,
     "metadata": {},
     "output_type": "execute_result"
    }
   ],
   "source": [
    "dt.head(2)"
   ]
  },
  {
   "cell_type": "code",
   "execution_count": 5,
   "metadata": {},
   "outputs": [],
   "source": [
    "from sklearn.preprocessing import StandardScaler\n",
    "dt1 = StandardScaler().fit_transform(dt)"
   ]
  },
  {
   "cell_type": "code",
   "execution_count": 6,
   "metadata": {},
   "outputs": [
    {
     "data": {
      "text/html": [
       "<div>\n",
       "<style scoped>\n",
       "    .dataframe tbody tr th:only-of-type {\n",
       "        vertical-align: middle;\n",
       "    }\n",
       "\n",
       "    .dataframe tbody tr th {\n",
       "        vertical-align: top;\n",
       "    }\n",
       "\n",
       "    .dataframe thead th {\n",
       "        text-align: right;\n",
       "    }\n",
       "</style>\n",
       "<table border=\"1\" class=\"dataframe\">\n",
       "  <thead>\n",
       "    <tr style=\"text-align: right;\">\n",
       "      <th></th>\n",
       "      <th>Fatty acid activation (cytosolic)</th>\n",
       "      <th>Fatty acid oxidation</th>\n",
       "      <th>Folate metabolism</th>\n",
       "      <th>Glycolysis / Gluconeogenesis</th>\n",
       "    </tr>\n",
       "  </thead>\n",
       "  <tbody>\n",
       "    <tr>\n",
       "      <th>0</th>\n",
       "      <td>0.916753</td>\n",
       "      <td>-0.417542</td>\n",
       "      <td>0.654750</td>\n",
       "      <td>0.916961</td>\n",
       "    </tr>\n",
       "    <tr>\n",
       "      <th>1</th>\n",
       "      <td>-1.023971</td>\n",
       "      <td>-0.777515</td>\n",
       "      <td>0.350597</td>\n",
       "      <td>-0.806307</td>\n",
       "    </tr>\n",
       "    <tr>\n",
       "      <th>2</th>\n",
       "      <td>0.666127</td>\n",
       "      <td>-1.230996</td>\n",
       "      <td>0.274819</td>\n",
       "      <td>0.087060</td>\n",
       "    </tr>\n",
       "    <tr>\n",
       "      <th>3</th>\n",
       "      <td>-0.248295</td>\n",
       "      <td>-0.612740</td>\n",
       "      <td>0.616088</td>\n",
       "      <td>0.240792</td>\n",
       "    </tr>\n",
       "    <tr>\n",
       "      <th>4</th>\n",
       "      <td>-0.317950</td>\n",
       "      <td>0.785700</td>\n",
       "      <td>0.071320</td>\n",
       "      <td>-0.623378</td>\n",
       "    </tr>\n",
       "  </tbody>\n",
       "</table>\n",
       "</div>"
      ],
      "text/plain": [
       "   Fatty acid activation (cytosolic)  Fatty acid oxidation  Folate metabolism  \\\n",
       "0                           0.916753             -0.417542           0.654750   \n",
       "1                          -1.023971             -0.777515           0.350597   \n",
       "2                           0.666127             -1.230996           0.274819   \n",
       "3                          -0.248295             -0.612740           0.616088   \n",
       "4                          -0.317950              0.785700           0.071320   \n",
       "\n",
       "   Glycolysis / Gluconeogenesis  \n",
       "0                      0.916961  \n",
       "1                     -0.806307  \n",
       "2                      0.087060  \n",
       "3                      0.240792  \n",
       "4                     -0.623378  "
      ]
     },
     "execution_count": 6,
     "metadata": {},
     "output_type": "execute_result"
    }
   ],
   "source": [
    "pd.DataFrame(dt1, columns=dt.columns).head()"
   ]
  },
  {
   "cell_type": "code",
   "execution_count": 7,
   "metadata": {},
   "outputs": [],
   "source": [
    "from sklearn.decomposition import PCA\n",
    "pca_out = PCA().fit(dt1)"
   ]
  },
  {
   "cell_type": "code",
   "execution_count": 8,
   "metadata": {},
   "outputs": [
    {
     "data": {
      "text/plain": [
       "array([0.41650881, 0.3078531 , 0.16090503, 0.11473307])"
      ]
     },
     "execution_count": 8,
     "metadata": {},
     "output_type": "execute_result"
    }
   ],
   "source": [
    "# get the component variance\n",
    "# Proportion of Variance (from PC1 to PC453)\n",
    "pca_out.explained_variance_ratio_"
   ]
  },
  {
   "cell_type": "code",
   "execution_count": 9,
   "metadata": {},
   "outputs": [
    {
     "data": {
      "text/plain": [
       "array([0.41650881, 0.72436191, 0.88526693, 1.        ])"
      ]
     },
     "execution_count": 9,
     "metadata": {},
     "output_type": "execute_result"
    }
   ],
   "source": [
    "# Cumulative proportion of variance (from PC1 to PC453)   \n",
    "np.cumsum(pca_out.explained_variance_ratio_)"
   ]
  },
  {
   "cell_type": "code",
   "execution_count": 10,
   "metadata": {},
   "outputs": [],
   "source": [
    "# get component loadings (correlation coefficient between original variables and the component) \n",
    "# the squared loadings within the PCs always sums to 1"
   ]
  },
  {
   "cell_type": "code",
   "execution_count": 11,
   "metadata": {},
   "outputs": [],
   "source": [
    "loadings = pca_out.components_"
   ]
  },
  {
   "cell_type": "code",
   "execution_count": 12,
   "metadata": {},
   "outputs": [],
   "source": [
    "num_pc = pca_out.n_features_"
   ]
  },
  {
   "cell_type": "code",
   "execution_count": 13,
   "metadata": {},
   "outputs": [
    {
     "data": {
      "text/html": [
       "<div>\n",
       "<style scoped>\n",
       "    .dataframe tbody tr th:only-of-type {\n",
       "        vertical-align: middle;\n",
       "    }\n",
       "\n",
       "    .dataframe tbody tr th {\n",
       "        vertical-align: top;\n",
       "    }\n",
       "\n",
       "    .dataframe thead th {\n",
       "        text-align: right;\n",
       "    }\n",
       "</style>\n",
       "<table border=\"1\" class=\"dataframe\">\n",
       "  <thead>\n",
       "    <tr style=\"text-align: right;\">\n",
       "      <th></th>\n",
       "      <th>PC1</th>\n",
       "      <th>PC2</th>\n",
       "      <th>PC3</th>\n",
       "      <th>PC4</th>\n",
       "    </tr>\n",
       "    <tr>\n",
       "      <th>variable</th>\n",
       "      <th></th>\n",
       "      <th></th>\n",
       "      <th></th>\n",
       "      <th></th>\n",
       "    </tr>\n",
       "  </thead>\n",
       "  <tbody>\n",
       "    <tr>\n",
       "      <th>Fatty acid activation (cytosolic)</th>\n",
       "      <td>0.650045</td>\n",
       "      <td>0.013443</td>\n",
       "      <td>-0.408748</td>\n",
       "      <td>0.640458</td>\n",
       "    </tr>\n",
       "    <tr>\n",
       "      <th>Fatty acid oxidation</th>\n",
       "      <td>0.146812</td>\n",
       "      <td>-0.765800</td>\n",
       "      <td>0.579535</td>\n",
       "      <td>0.236930</td>\n",
       "    </tr>\n",
       "    <tr>\n",
       "      <th>Folate metabolism</th>\n",
       "      <td>0.651890</td>\n",
       "      <td>-0.183041</td>\n",
       "      <td>-0.109509</td>\n",
       "      <td>-0.727697</td>\n",
       "    </tr>\n",
       "    <tr>\n",
       "      <th>Glycolysis / Gluconeogenesis</th>\n",
       "      <td>0.361838</td>\n",
       "      <td>0.616332</td>\n",
       "      <td>0.696471</td>\n",
       "      <td>0.064305</td>\n",
       "    </tr>\n",
       "  </tbody>\n",
       "</table>\n",
       "</div>"
      ],
      "text/plain": [
       "                                        PC1       PC2       PC3       PC4\n",
       "variable                                                                 \n",
       "Fatty acid activation (cytosolic)  0.650045  0.013443 -0.408748  0.640458\n",
       "Fatty acid oxidation               0.146812 -0.765800  0.579535  0.236930\n",
       "Folate metabolism                  0.651890 -0.183041 -0.109509 -0.727697\n",
       "Glycolysis / Gluconeogenesis       0.361838  0.616332  0.696471  0.064305"
      ]
     },
     "execution_count": 13,
     "metadata": {},
     "output_type": "execute_result"
    }
   ],
   "source": [
    "pc_list = [\"PC\"+str(i) for i in list(range(1, num_pc+1))]\n",
    "loadings_df = pd.DataFrame.from_dict(dict(zip(pc_list, loadings)))\n",
    "loadings_df['variable'] = dt.columns.values\n",
    "loadings_df = loadings_df.set_index('variable')\n",
    "loadings_df"
   ]
  },
  {
   "cell_type": "code",
   "execution_count": 14,
   "metadata": {},
   "outputs": [],
   "source": [
    "# positive and negative values in component loadings reflects the positive and negative correlation of the variables\n",
    "# with then PCs. "
   ]
  },
  {
   "cell_type": "code",
   "execution_count": 15,
   "metadata": {},
   "outputs": [],
   "source": [
    "# get correlation matrix plot for loadings\n",
    "import seaborn as sns\n",
    "import matplotlib.pyplot as plt\n",
    "ax = sns.heatmap(loadings_df, annot=True, cmap='Spectral')\n",
    "ax.figure.savefig(\"Correlation of Flux Pathway Analysis.png\",\n",
    "                    format='png',\n",
    "                    dpi=300)"
   ]
  },
  {
   "cell_type": "code",
   "execution_count": 16,
   "metadata": {},
   "outputs": [
    {
     "data": {
      "text/html": [
       "<style  type=\"text/css\" >\n",
       "#T_fa2f3fc6_a554_11eb_aea2_3417ebb72a77row0_col0,#T_fa2f3fc6_a554_11eb_aea2_3417ebb72a77row0_col3,#T_fa2f3fc6_a554_11eb_aea2_3417ebb72a77row2_col0,#T_fa2f3fc6_a554_11eb_aea2_3417ebb72a77row3_col1,#T_fa2f3fc6_a554_11eb_aea2_3417ebb72a77row3_col2{\n",
       "            background-color:  #b40426;\n",
       "            color:  #f1f1f1;\n",
       "        }#T_fa2f3fc6_a554_11eb_aea2_3417ebb72a77row0_col1{\n",
       "            background-color:  #ecd3c5;\n",
       "            color:  #000000;\n",
       "        }#T_fa2f3fc6_a554_11eb_aea2_3417ebb72a77row0_col2,#T_fa2f3fc6_a554_11eb_aea2_3417ebb72a77row1_col0,#T_fa2f3fc6_a554_11eb_aea2_3417ebb72a77row1_col1,#T_fa2f3fc6_a554_11eb_aea2_3417ebb72a77row2_col3{\n",
       "            background-color:  #3b4cc0;\n",
       "            color:  #f1f1f1;\n",
       "        }#T_fa2f3fc6_a554_11eb_aea2_3417ebb72a77row1_col2{\n",
       "            background-color:  #d85646;\n",
       "            color:  #000000;\n",
       "        }#T_fa2f3fc6_a554_11eb_aea2_3417ebb72a77row1_col3{\n",
       "            background-color:  #f7aa8c;\n",
       "            color:  #000000;\n",
       "        }#T_fa2f3fc6_a554_11eb_aea2_3417ebb72a77row2_col1{\n",
       "            background-color:  #c6d6f1;\n",
       "            color:  #000000;\n",
       "        }#T_fa2f3fc6_a554_11eb_aea2_3417ebb72a77row2_col2{\n",
       "            background-color:  #94b6ff;\n",
       "            color:  #000000;\n",
       "        }#T_fa2f3fc6_a554_11eb_aea2_3417ebb72a77row3_col0{\n",
       "            background-color:  #c7d7f0;\n",
       "            color:  #000000;\n",
       "        }#T_fa2f3fc6_a554_11eb_aea2_3417ebb72a77row3_col3{\n",
       "            background-color:  #efcfbf;\n",
       "            color:  #000000;\n",
       "        }</style><table id=\"T_fa2f3fc6_a554_11eb_aea2_3417ebb72a77\" ><thead>    <tr>        <th class=\"blank level0\" ></th>        <th class=\"col_heading level0 col0\" >PC1</th>        <th class=\"col_heading level0 col1\" >PC2</th>        <th class=\"col_heading level0 col2\" >PC3</th>        <th class=\"col_heading level0 col3\" >PC4</th>    </tr>    <tr>        <th class=\"index_name level0\" >variable</th>        <th class=\"blank\" ></th>        <th class=\"blank\" ></th>        <th class=\"blank\" ></th>        <th class=\"blank\" ></th>    </tr></thead><tbody>\n",
       "                <tr>\n",
       "                        <th id=\"T_fa2f3fc6_a554_11eb_aea2_3417ebb72a77level0_row0\" class=\"row_heading level0 row0\" >Fatty acid activation (cytosolic)</th>\n",
       "                        <td id=\"T_fa2f3fc6_a554_11eb_aea2_3417ebb72a77row0_col0\" class=\"data row0 col0\" >0.65</td>\n",
       "                        <td id=\"T_fa2f3fc6_a554_11eb_aea2_3417ebb72a77row0_col1\" class=\"data row0 col1\" >0.01</td>\n",
       "                        <td id=\"T_fa2f3fc6_a554_11eb_aea2_3417ebb72a77row0_col2\" class=\"data row0 col2\" >-0.41</td>\n",
       "                        <td id=\"T_fa2f3fc6_a554_11eb_aea2_3417ebb72a77row0_col3\" class=\"data row0 col3\" >0.64</td>\n",
       "            </tr>\n",
       "            <tr>\n",
       "                        <th id=\"T_fa2f3fc6_a554_11eb_aea2_3417ebb72a77level0_row1\" class=\"row_heading level0 row1\" >Fatty acid oxidation</th>\n",
       "                        <td id=\"T_fa2f3fc6_a554_11eb_aea2_3417ebb72a77row1_col0\" class=\"data row1 col0\" >0.15</td>\n",
       "                        <td id=\"T_fa2f3fc6_a554_11eb_aea2_3417ebb72a77row1_col1\" class=\"data row1 col1\" >-0.77</td>\n",
       "                        <td id=\"T_fa2f3fc6_a554_11eb_aea2_3417ebb72a77row1_col2\" class=\"data row1 col2\" >0.58</td>\n",
       "                        <td id=\"T_fa2f3fc6_a554_11eb_aea2_3417ebb72a77row1_col3\" class=\"data row1 col3\" >0.24</td>\n",
       "            </tr>\n",
       "            <tr>\n",
       "                        <th id=\"T_fa2f3fc6_a554_11eb_aea2_3417ebb72a77level0_row2\" class=\"row_heading level0 row2\" >Folate metabolism</th>\n",
       "                        <td id=\"T_fa2f3fc6_a554_11eb_aea2_3417ebb72a77row2_col0\" class=\"data row2 col0\" >0.65</td>\n",
       "                        <td id=\"T_fa2f3fc6_a554_11eb_aea2_3417ebb72a77row2_col1\" class=\"data row2 col1\" >-0.18</td>\n",
       "                        <td id=\"T_fa2f3fc6_a554_11eb_aea2_3417ebb72a77row2_col2\" class=\"data row2 col2\" >-0.11</td>\n",
       "                        <td id=\"T_fa2f3fc6_a554_11eb_aea2_3417ebb72a77row2_col3\" class=\"data row2 col3\" >-0.73</td>\n",
       "            </tr>\n",
       "            <tr>\n",
       "                        <th id=\"T_fa2f3fc6_a554_11eb_aea2_3417ebb72a77level0_row3\" class=\"row_heading level0 row3\" >Glycolysis / Gluconeogenesis</th>\n",
       "                        <td id=\"T_fa2f3fc6_a554_11eb_aea2_3417ebb72a77row3_col0\" class=\"data row3 col0\" >0.36</td>\n",
       "                        <td id=\"T_fa2f3fc6_a554_11eb_aea2_3417ebb72a77row3_col1\" class=\"data row3 col1\" >0.62</td>\n",
       "                        <td id=\"T_fa2f3fc6_a554_11eb_aea2_3417ebb72a77row3_col2\" class=\"data row3 col2\" >0.70</td>\n",
       "                        <td id=\"T_fa2f3fc6_a554_11eb_aea2_3417ebb72a77row3_col3\" class=\"data row3 col3\" >0.06</td>\n",
       "            </tr>\n",
       "    </tbody></table>"
      ],
      "text/plain": [
       "<pandas.io.formats.style.Styler at 0x244ca11e9c8>"
      ]
     },
     "execution_count": 16,
     "metadata": {},
     "output_type": "execute_result"
    }
   ],
   "source": [
    "corr = loadings_df\n",
    "corr.style.background_gradient(cmap='coolwarm').set_precision(2)"
   ]
  },
  {
   "cell_type": "code",
   "execution_count": 17,
   "metadata": {},
   "outputs": [
    {
     "data": {
      "text/html": [
       "<style  type=\"text/css\" >\n",
       "#T_fa549d9e_a554_11eb_85ac_3417ebb72a77row0_col0{\n",
       "            background-color:  #c0282f;\n",
       "            color:  #f1f1f1;\n",
       "        }#T_fa549d9e_a554_11eb_85ac_3417ebb72a77row0_col1{\n",
       "            background-color:  #e5d8d1;\n",
       "            color:  #000000;\n",
       "        }#T_fa549d9e_a554_11eb_85ac_3417ebb72a77row0_col2{\n",
       "            background-color:  #8badfd;\n",
       "            color:  #000000;\n",
       "        }#T_fa549d9e_a554_11eb_85ac_3417ebb72a77row0_col3{\n",
       "            background-color:  #c12b30;\n",
       "            color:  #f1f1f1;\n",
       "        }#T_fa549d9e_a554_11eb_85ac_3417ebb72a77row1_col0{\n",
       "            background-color:  #f4c5ad;\n",
       "            color:  #000000;\n",
       "        }#T_fa549d9e_a554_11eb_85ac_3417ebb72a77row1_col1{\n",
       "            background-color:  #3b4cc0;\n",
       "            color:  #f1f1f1;\n",
       "        }#T_fa549d9e_a554_11eb_85ac_3417ebb72a77row1_col2{\n",
       "            background-color:  #d0473d;\n",
       "            color:  #f1f1f1;\n",
       "        }#T_fa549d9e_a554_11eb_85ac_3417ebb72a77row1_col3{\n",
       "            background-color:  #f7b194;\n",
       "            color:  #000000;\n",
       "        }#T_fa549d9e_a554_11eb_85ac_3417ebb72a77row2_col0{\n",
       "            background-color:  #be242e;\n",
       "            color:  #f1f1f1;\n",
       "        }#T_fa549d9e_a554_11eb_85ac_3417ebb72a77row2_col1{\n",
       "            background-color:  #c0d4f5;\n",
       "            color:  #000000;\n",
       "        }#T_fa549d9e_a554_11eb_85ac_3417ebb72a77row2_col2{\n",
       "            background-color:  #cedaeb;\n",
       "            color:  #000000;\n",
       "        }#T_fa549d9e_a554_11eb_85ac_3417ebb72a77row2_col3{\n",
       "            background-color:  #4257c9;\n",
       "            color:  #f1f1f1;\n",
       "        }#T_fa549d9e_a554_11eb_85ac_3417ebb72a77row3_col0{\n",
       "            background-color:  #f29072;\n",
       "            color:  #000000;\n",
       "        }#T_fa549d9e_a554_11eb_85ac_3417ebb72a77row3_col1{\n",
       "            background-color:  #c83836;\n",
       "            color:  #f1f1f1;\n",
       "        }#T_fa549d9e_a554_11eb_85ac_3417ebb72a77row3_col2{\n",
       "            background-color:  #b40426;\n",
       "            color:  #f1f1f1;\n",
       "        }#T_fa549d9e_a554_11eb_85ac_3417ebb72a77row3_col3{\n",
       "            background-color:  #edd2c3;\n",
       "            color:  #000000;\n",
       "        }</style><table id=\"T_fa549d9e_a554_11eb_85ac_3417ebb72a77\" ><thead>    <tr>        <th class=\"blank level0\" ></th>        <th class=\"col_heading level0 col0\" >PC1</th>        <th class=\"col_heading level0 col1\" >PC2</th>        <th class=\"col_heading level0 col2\" >PC3</th>        <th class=\"col_heading level0 col3\" >PC4</th>    </tr>    <tr>        <th class=\"index_name level0\" >variable</th>        <th class=\"blank\" ></th>        <th class=\"blank\" ></th>        <th class=\"blank\" ></th>        <th class=\"blank\" ></th>    </tr></thead><tbody>\n",
       "                <tr>\n",
       "                        <th id=\"T_fa549d9e_a554_11eb_85ac_3417ebb72a77level0_row0\" class=\"row_heading level0 row0\" >Fatty acid activation (cytosolic)</th>\n",
       "                        <td id=\"T_fa549d9e_a554_11eb_85ac_3417ebb72a77row0_col0\" class=\"data row0 col0\" >0.650045</td>\n",
       "                        <td id=\"T_fa549d9e_a554_11eb_85ac_3417ebb72a77row0_col1\" class=\"data row0 col1\" >0.013443</td>\n",
       "                        <td id=\"T_fa549d9e_a554_11eb_85ac_3417ebb72a77row0_col2\" class=\"data row0 col2\" >-0.408748</td>\n",
       "                        <td id=\"T_fa549d9e_a554_11eb_85ac_3417ebb72a77row0_col3\" class=\"data row0 col3\" >0.640458</td>\n",
       "            </tr>\n",
       "            <tr>\n",
       "                        <th id=\"T_fa549d9e_a554_11eb_85ac_3417ebb72a77level0_row1\" class=\"row_heading level0 row1\" >Fatty acid oxidation</th>\n",
       "                        <td id=\"T_fa549d9e_a554_11eb_85ac_3417ebb72a77row1_col0\" class=\"data row1 col0\" >0.146812</td>\n",
       "                        <td id=\"T_fa549d9e_a554_11eb_85ac_3417ebb72a77row1_col1\" class=\"data row1 col1\" >-0.765800</td>\n",
       "                        <td id=\"T_fa549d9e_a554_11eb_85ac_3417ebb72a77row1_col2\" class=\"data row1 col2\" >0.579535</td>\n",
       "                        <td id=\"T_fa549d9e_a554_11eb_85ac_3417ebb72a77row1_col3\" class=\"data row1 col3\" >0.236930</td>\n",
       "            </tr>\n",
       "            <tr>\n",
       "                        <th id=\"T_fa549d9e_a554_11eb_85ac_3417ebb72a77level0_row2\" class=\"row_heading level0 row2\" >Folate metabolism</th>\n",
       "                        <td id=\"T_fa549d9e_a554_11eb_85ac_3417ebb72a77row2_col0\" class=\"data row2 col0\" >0.651890</td>\n",
       "                        <td id=\"T_fa549d9e_a554_11eb_85ac_3417ebb72a77row2_col1\" class=\"data row2 col1\" >-0.183041</td>\n",
       "                        <td id=\"T_fa549d9e_a554_11eb_85ac_3417ebb72a77row2_col2\" class=\"data row2 col2\" >-0.109509</td>\n",
       "                        <td id=\"T_fa549d9e_a554_11eb_85ac_3417ebb72a77row2_col3\" class=\"data row2 col3\" >-0.727697</td>\n",
       "            </tr>\n",
       "            <tr>\n",
       "                        <th id=\"T_fa549d9e_a554_11eb_85ac_3417ebb72a77level0_row3\" class=\"row_heading level0 row3\" >Glycolysis / Gluconeogenesis</th>\n",
       "                        <td id=\"T_fa549d9e_a554_11eb_85ac_3417ebb72a77row3_col0\" class=\"data row3 col0\" >0.361838</td>\n",
       "                        <td id=\"T_fa549d9e_a554_11eb_85ac_3417ebb72a77row3_col1\" class=\"data row3 col1\" >0.616332</td>\n",
       "                        <td id=\"T_fa549d9e_a554_11eb_85ac_3417ebb72a77row3_col2\" class=\"data row3 col2\" >0.696471</td>\n",
       "                        <td id=\"T_fa549d9e_a554_11eb_85ac_3417ebb72a77row3_col3\" class=\"data row3 col3\" >0.064305</td>\n",
       "            </tr>\n",
       "    </tbody></table>"
      ],
      "text/plain": [
       "<pandas.io.formats.style.Styler at 0x244c979c8c8>"
      ]
     },
     "execution_count": 17,
     "metadata": {},
     "output_type": "execute_result"
    }
   ],
   "source": [
    "corr.style.background_gradient(cmap='coolwarm', axis=None)"
   ]
  },
  {
   "cell_type": "code",
   "execution_count": 18,
   "metadata": {},
   "outputs": [
    {
     "data": {
      "text/plain": [
       "array([1.669264  , 1.23379884, 0.64486743, 0.45982167])"
      ]
     },
     "execution_count": 18,
     "metadata": {},
     "output_type": "execute_result"
    }
   ],
   "source": [
    "# get eigenvalues (from PC1 to PC453) \n",
    "pca_out.explained_variance_"
   ]
  },
  {
   "cell_type": "code",
   "execution_count": 19,
   "metadata": {},
   "outputs": [],
   "source": [
    "# get scree plot (for scree or elbow test)\n",
    "from bioinfokit.visuz import cluster\n",
    "cluster.screeplot(obj=[pc_list, pca_out.explained_variance_ratio_])\n",
    "\n",
    "# Scree plot will be saved in the same directory with name screeplot.png"
   ]
  },
  {
   "cell_type": "code",
   "execution_count": 20,
   "metadata": {},
   "outputs": [],
   "source": [
    "# get PCA loadings plots (2D and 3D)\n",
    "# 2D\n",
    "\n",
    "cluster.pcaplot(x=loadings[0], y=loadings[1], labels=dt.columns.values, \n",
    "var1=round(pca_out.explained_variance_ratio_[0]*100, 2),\n",
    "var2=round(pca_out.explained_variance_ratio_[1]*100, 2))"
   ]
  },
  {
   "cell_type": "code",
   "execution_count": 21,
   "metadata": {},
   "outputs": [],
   "source": [
    "# get PC scores\n",
    "pca_scores = PCA().fit_transform(dt1)"
   ]
  },
  {
   "cell_type": "code",
   "execution_count": 22,
   "metadata": {},
   "outputs": [],
   "source": [
    "# get 2D biplot\n",
    "cluster.biplot(cscore=pca_scores, loadings=loadings, labels=dt.columns.values, var1=round(pca_out.explained_variance_ratio_[0]*100, 2),\n",
    "var2=round(pca_out.explained_variance_ratio_[1]*100, 2))"
   ]
  },
  {
   "cell_type": "code",
   "execution_count": null,
   "metadata": {},
   "outputs": [],
   "source": []
  }
 ],
 "metadata": {
  "kernelspec": {
   "display_name": "Python 3",
   "language": "python",
   "name": "python3"
  },
  "language_info": {
   "codemirror_mode": {
    "name": "ipython",
    "version": 3
   },
   "file_extension": ".py",
   "mimetype": "text/x-python",
   "name": "python",
   "nbconvert_exporter": "python",
   "pygments_lexer": "ipython3",
   "version": "3.7.4"
  },
  "varInspector": {
   "cols": {
    "lenName": 16,
    "lenType": 16,
    "lenVar": 40
   },
   "kernels_config": {
    "python": {
     "delete_cmd_postfix": "",
     "delete_cmd_prefix": "del ",
     "library": "var_list.py",
     "varRefreshCmd": "print(var_dic_list())"
    },
    "r": {
     "delete_cmd_postfix": ") ",
     "delete_cmd_prefix": "rm(",
     "library": "var_list.r",
     "varRefreshCmd": "cat(var_dic_list()) "
    }
   },
   "types_to_exclude": [
    "module",
    "function",
    "builtin_function_or_method",
    "instance",
    "_Feature"
   ],
   "window_display": false
  }
 },
 "nbformat": 4,
 "nbformat_minor": 2
}
