{
 "cells": [
  {
   "cell_type": "code",
   "execution_count": 1,
   "metadata": {},
   "outputs": [],
   "source": [
    "import numpy as np\n",
    "import pandas as pd\n",
    "import os"
   ]
  },
  {
   "cell_type": "code",
   "execution_count": 2,
   "metadata": {},
   "outputs": [],
   "source": [
    "os.chdir('C:\\\\Users\\\\U0033207PC\\\\Desktop\\\\LUAD FIREHOSE LEGACY DATABASE')"
   ]
  },
  {
   "cell_type": "code",
   "execution_count": 3,
   "metadata": {},
   "outputs": [],
   "source": [
    "# Importing the dataset\n",
    "dt = pd.read_excel('FLUX.xlsx')"
   ]
  },
  {
   "cell_type": "code",
   "execution_count": 4,
   "metadata": {},
   "outputs": [
    {
     "data": {
      "text/html": [
       "<div>\n",
       "<style scoped>\n",
       "    .dataframe tbody tr th:only-of-type {\n",
       "        vertical-align: middle;\n",
       "    }\n",
       "\n",
       "    .dataframe tbody tr th {\n",
       "        vertical-align: top;\n",
       "    }\n",
       "\n",
       "    .dataframe thead th {\n",
       "        text-align: right;\n",
       "    }\n",
       "</style>\n",
       "<table border=\"1\" class=\"dataframe\">\n",
       "  <thead>\n",
       "    <tr style=\"text-align: right;\">\n",
       "      <th></th>\n",
       "      <th>HUG0_SYMBOL</th>\n",
       "      <th>3DSPHR</th>\n",
       "      <th>3HBCOAHLm</th>\n",
       "      <th>ABTArm</th>\n",
       "      <th>ABTD</th>\n",
       "      <th>ACACT1r</th>\n",
       "      <th>ACACT1rm</th>\n",
       "      <th>ACACT1x</th>\n",
       "      <th>ACOAD9m</th>\n",
       "      <th>ACOAO7p</th>\n",
       "      <th>...</th>\n",
       "      <th>1513TACRitr</th>\n",
       "      <th>1531TACRitr</th>\n",
       "      <th>DEOXFVSitx</th>\n",
       "      <th>FVSitx</th>\n",
       "      <th>TACRitr</th>\n",
       "      <th>13DMTitr</th>\n",
       "      <th>15DMTitr</th>\n",
       "      <th>31DMTitr</th>\n",
       "      <th>Patient's Vital Status</th>\n",
       "      <th>Overall Survival (Months)</th>\n",
       "    </tr>\n",
       "  </thead>\n",
       "  <tbody>\n",
       "    <tr>\n",
       "      <th>0</th>\n",
       "      <td>TCGA-05-4244-01</td>\n",
       "      <td>11.448262</td>\n",
       "      <td>154.187481</td>\n",
       "      <td>-583.764387</td>\n",
       "      <td>-14.237357</td>\n",
       "      <td>125.403072</td>\n",
       "      <td>235.338244</td>\n",
       "      <td>457.654536</td>\n",
       "      <td>74.716367</td>\n",
       "      <td>72.493260</td>\n",
       "      <td>...</td>\n",
       "      <td>14.770344</td>\n",
       "      <td>14.770344</td>\n",
       "      <td>-431.370763</td>\n",
       "      <td>431.370763</td>\n",
       "      <td>26.309675</td>\n",
       "      <td>-6.000452</td>\n",
       "      <td>-6.000452</td>\n",
       "      <td>-6.000452</td>\n",
       "      <td>1</td>\n",
       "      <td>0.00</td>\n",
       "    </tr>\n",
       "    <tr>\n",
       "      <th>1</th>\n",
       "      <td>TCGA-05-4249-01</td>\n",
       "      <td>9.173955</td>\n",
       "      <td>162.200877</td>\n",
       "      <td>-442.863722</td>\n",
       "      <td>-5.338254</td>\n",
       "      <td>128.134267</td>\n",
       "      <td>137.492687</td>\n",
       "      <td>149.939274</td>\n",
       "      <td>75.026103</td>\n",
       "      <td>56.620656</td>\n",
       "      <td>...</td>\n",
       "      <td>34.017476</td>\n",
       "      <td>34.017476</td>\n",
       "      <td>-219.803538</td>\n",
       "      <td>219.803538</td>\n",
       "      <td>60.593629</td>\n",
       "      <td>-13.819600</td>\n",
       "      <td>-13.819600</td>\n",
       "      <td>-13.819600</td>\n",
       "      <td>1</td>\n",
       "      <td>50.03</td>\n",
       "    </tr>\n",
       "  </tbody>\n",
       "</table>\n",
       "<p>2 rows × 1964 columns</p>\n",
       "</div>"
      ],
      "text/plain": [
       "       HUG0_SYMBOL     3DSPHR   3HBCOAHLm      ABTArm       ABTD     ACACT1r  \\\n",
       "0  TCGA-05-4244-01  11.448262  154.187481 -583.764387 -14.237357  125.403072   \n",
       "1  TCGA-05-4249-01   9.173955  162.200877 -442.863722  -5.338254  128.134267   \n",
       "\n",
       "     ACACT1rm     ACACT1x    ACOAD9m    ACOAO7p  ...  1513TACRitr  \\\n",
       "0  235.338244  457.654536  74.716367  72.493260  ...    14.770344   \n",
       "1  137.492687  149.939274  75.026103  56.620656  ...    34.017476   \n",
       "\n",
       "   1531TACRitr  DEOXFVSitx      FVSitx    TACRitr   13DMTitr   15DMTitr  \\\n",
       "0    14.770344 -431.370763  431.370763  26.309675  -6.000452  -6.000452   \n",
       "1    34.017476 -219.803538  219.803538  60.593629 -13.819600 -13.819600   \n",
       "\n",
       "    31DMTitr  Patient's Vital Status  Overall Survival (Months)  \n",
       "0  -6.000452                       1                       0.00  \n",
       "1 -13.819600                       1                      50.03  \n",
       "\n",
       "[2 rows x 1964 columns]"
      ]
     },
     "execution_count": 4,
     "metadata": {},
     "output_type": "execute_result"
    }
   ],
   "source": [
    "dt.head(2)"
   ]
  },
  {
   "cell_type": "code",
   "execution_count": 5,
   "metadata": {},
   "outputs": [],
   "source": [
    "del dt['HUG0_SYMBOL']"
   ]
  },
  {
   "cell_type": "code",
   "execution_count": 6,
   "metadata": {},
   "outputs": [
    {
     "data": {
      "text/html": [
       "<div>\n",
       "<style scoped>\n",
       "    .dataframe tbody tr th:only-of-type {\n",
       "        vertical-align: middle;\n",
       "    }\n",
       "\n",
       "    .dataframe tbody tr th {\n",
       "        vertical-align: top;\n",
       "    }\n",
       "\n",
       "    .dataframe thead th {\n",
       "        text-align: right;\n",
       "    }\n",
       "</style>\n",
       "<table border=\"1\" class=\"dataframe\">\n",
       "  <thead>\n",
       "    <tr style=\"text-align: right;\">\n",
       "      <th></th>\n",
       "      <th>3DSPHR</th>\n",
       "      <th>3HBCOAHLm</th>\n",
       "      <th>ABTArm</th>\n",
       "      <th>ABTD</th>\n",
       "      <th>ACACT1r</th>\n",
       "      <th>ACACT1rm</th>\n",
       "      <th>ACACT1x</th>\n",
       "      <th>ACOAD9m</th>\n",
       "      <th>ACOAO7p</th>\n",
       "      <th>ACOATA</th>\n",
       "      <th>...</th>\n",
       "      <th>1513TACRitr</th>\n",
       "      <th>1531TACRitr</th>\n",
       "      <th>DEOXFVSitx</th>\n",
       "      <th>FVSitx</th>\n",
       "      <th>TACRitr</th>\n",
       "      <th>13DMTitr</th>\n",
       "      <th>15DMTitr</th>\n",
       "      <th>31DMTitr</th>\n",
       "      <th>Patient's Vital Status</th>\n",
       "      <th>Overall Survival (Months)</th>\n",
       "    </tr>\n",
       "  </thead>\n",
       "  <tbody>\n",
       "    <tr>\n",
       "      <th>0</th>\n",
       "      <td>11.448262</td>\n",
       "      <td>154.187481</td>\n",
       "      <td>-583.764387</td>\n",
       "      <td>-14.237357</td>\n",
       "      <td>125.403072</td>\n",
       "      <td>235.338244</td>\n",
       "      <td>457.654536</td>\n",
       "      <td>74.716367</td>\n",
       "      <td>72.493260</td>\n",
       "      <td>-165.591744</td>\n",
       "      <td>...</td>\n",
       "      <td>14.770344</td>\n",
       "      <td>14.770344</td>\n",
       "      <td>-431.370763</td>\n",
       "      <td>431.370763</td>\n",
       "      <td>26.309675</td>\n",
       "      <td>-6.000452</td>\n",
       "      <td>-6.000452</td>\n",
       "      <td>-6.000452</td>\n",
       "      <td>1</td>\n",
       "      <td>0.00</td>\n",
       "    </tr>\n",
       "    <tr>\n",
       "      <th>1</th>\n",
       "      <td>9.173955</td>\n",
       "      <td>162.200877</td>\n",
       "      <td>-442.863722</td>\n",
       "      <td>-5.338254</td>\n",
       "      <td>128.134267</td>\n",
       "      <td>137.492687</td>\n",
       "      <td>149.939274</td>\n",
       "      <td>75.026103</td>\n",
       "      <td>56.620656</td>\n",
       "      <td>-73.252506</td>\n",
       "      <td>...</td>\n",
       "      <td>34.017476</td>\n",
       "      <td>34.017476</td>\n",
       "      <td>-219.803538</td>\n",
       "      <td>219.803538</td>\n",
       "      <td>60.593629</td>\n",
       "      <td>-13.819600</td>\n",
       "      <td>-13.819600</td>\n",
       "      <td>-13.819600</td>\n",
       "      <td>1</td>\n",
       "      <td>50.03</td>\n",
       "    </tr>\n",
       "  </tbody>\n",
       "</table>\n",
       "<p>2 rows × 1963 columns</p>\n",
       "</div>"
      ],
      "text/plain": [
       "      3DSPHR   3HBCOAHLm      ABTArm       ABTD     ACACT1r    ACACT1rm  \\\n",
       "0  11.448262  154.187481 -583.764387 -14.237357  125.403072  235.338244   \n",
       "1   9.173955  162.200877 -442.863722  -5.338254  128.134267  137.492687   \n",
       "\n",
       "      ACACT1x    ACOAD9m    ACOAO7p      ACOATA  ...  1513TACRitr  \\\n",
       "0  457.654536  74.716367  72.493260 -165.591744  ...    14.770344   \n",
       "1  149.939274  75.026103  56.620656  -73.252506  ...    34.017476   \n",
       "\n",
       "   1531TACRitr  DEOXFVSitx      FVSitx    TACRitr   13DMTitr   15DMTitr  \\\n",
       "0    14.770344 -431.370763  431.370763  26.309675  -6.000452  -6.000452   \n",
       "1    34.017476 -219.803538  219.803538  60.593629 -13.819600 -13.819600   \n",
       "\n",
       "    31DMTitr  Patient's Vital Status  Overall Survival (Months)  \n",
       "0  -6.000452                       1                       0.00  \n",
       "1 -13.819600                       1                      50.03  \n",
       "\n",
       "[2 rows x 1963 columns]"
      ]
     },
     "execution_count": 6,
     "metadata": {},
     "output_type": "execute_result"
    }
   ],
   "source": [
    "dt.head(2)"
   ]
  },
  {
   "cell_type": "code",
   "execution_count": 7,
   "metadata": {},
   "outputs": [],
   "source": [
    "FLUX_CORRELATION = dt[dt.columns[:]].corr()['Overall Survival (Months)'][:]"
   ]
  },
  {
   "cell_type": "code",
   "execution_count": 8,
   "metadata": {},
   "outputs": [
    {
     "data": {
      "text/plain": [
       "3DSPHR                      -0.106824\n",
       "3HBCOAHLm                    0.006174\n",
       "ABTArm                       0.038161\n",
       "ABTD                         0.033145\n",
       "ACACT1r                     -0.004648\n",
       "                               ...   \n",
       "13DMTitr                     0.099206\n",
       "15DMTitr                     0.099206\n",
       "31DMTitr                     0.099206\n",
       "Patient's Vital Status       0.097668\n",
       "Overall Survival (Months)    1.000000\n",
       "Name: Overall Survival (Months), Length: 1963, dtype: float64"
      ]
     },
     "execution_count": 8,
     "metadata": {},
     "output_type": "execute_result"
    }
   ],
   "source": [
    "FLUX_CORRELATION"
   ]
  },
  {
   "cell_type": "code",
   "execution_count": 9,
   "metadata": {},
   "outputs": [],
   "source": [
    "FLUX_CORRELATION.to_csv(r'C:\\Users\\U0033207PC\\Desktop\\GENE Enrichment\\FLUX_CORRELATION.csv')"
   ]
  },
  {
   "cell_type": "code",
   "execution_count": null,
   "metadata": {},
   "outputs": [],
   "source": []
  }
 ],
 "metadata": {
  "kernelspec": {
   "display_name": "Python 3",
   "language": "python",
   "name": "python3"
  },
  "language_info": {
   "codemirror_mode": {
    "name": "ipython",
    "version": 3
   },
   "file_extension": ".py",
   "mimetype": "text/x-python",
   "name": "python",
   "nbconvert_exporter": "python",
   "pygments_lexer": "ipython3",
   "version": "3.7.4"
  },
  "varInspector": {
   "cols": {
    "lenName": 16,
    "lenType": 16,
    "lenVar": 40
   },
   "kernels_config": {
    "python": {
     "delete_cmd_postfix": "",
     "delete_cmd_prefix": "del ",
     "library": "var_list.py",
     "varRefreshCmd": "print(var_dic_list())"
    },
    "r": {
     "delete_cmd_postfix": ") ",
     "delete_cmd_prefix": "rm(",
     "library": "var_list.r",
     "varRefreshCmd": "cat(var_dic_list()) "
    }
   },
   "types_to_exclude": [
    "module",
    "function",
    "builtin_function_or_method",
    "instance",
    "_Feature"
   ],
   "window_display": false
  }
 },
 "nbformat": 4,
 "nbformat_minor": 2
}
