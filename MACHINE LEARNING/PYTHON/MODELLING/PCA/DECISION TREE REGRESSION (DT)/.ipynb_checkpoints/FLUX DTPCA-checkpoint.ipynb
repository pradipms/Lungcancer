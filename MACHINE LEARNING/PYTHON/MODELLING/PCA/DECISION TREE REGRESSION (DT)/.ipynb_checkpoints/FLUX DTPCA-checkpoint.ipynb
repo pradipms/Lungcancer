{
 "cells": [
  {
   "cell_type": "code",
   "execution_count": 1,
   "metadata": {},
   "outputs": [],
   "source": [
    "# Importing the libraries\n",
    "import numpy as np\n",
    "import matplotlib.pyplot as plt\n",
    "from sklearn import datasets, linear_model\n",
    "from sklearn.model_selection import cross_val_score\n",
    "from sklearn.model_selection import KFold\n",
    "from sklearn.model_selection import RandomizedSearchCV\n",
    "from scipy import stats\n",
    "from math import sqrt\n",
    "import pandas as pd\n",
    "import os"
   ]
  },
  {
   "cell_type": "code",
   "execution_count": 2,
   "metadata": {},
   "outputs": [],
   "source": [
    "os.chdir('C:\\\\Users\\\\U0033207PC\\\\Desktop\\\\LUAD FIREHOSE LEGACY DATABASE')"
   ]
  },
  {
   "cell_type": "code",
   "execution_count": 3,
   "metadata": {},
   "outputs": [],
   "source": [
    "# Importing the dataset\n",
    "dt = pd.read_excel('FLUX.xlsx')"
   ]
  },
  {
   "cell_type": "code",
   "execution_count": 4,
   "metadata": {},
   "outputs": [
    {
     "data": {
      "text/html": [
       "<div>\n",
       "<style scoped>\n",
       "    .dataframe tbody tr th:only-of-type {\n",
       "        vertical-align: middle;\n",
       "    }\n",
       "\n",
       "    .dataframe tbody tr th {\n",
       "        vertical-align: top;\n",
       "    }\n",
       "\n",
       "    .dataframe thead th {\n",
       "        text-align: right;\n",
       "    }\n",
       "</style>\n",
       "<table border=\"1\" class=\"dataframe\">\n",
       "  <thead>\n",
       "    <tr style=\"text-align: right;\">\n",
       "      <th></th>\n",
       "      <th>HUG0_SYMBOL</th>\n",
       "      <th>3DSPHR</th>\n",
       "      <th>3HBCOAHLm</th>\n",
       "      <th>ABTArm</th>\n",
       "      <th>ABTD</th>\n",
       "      <th>ACACT1r</th>\n",
       "      <th>ACACT1rm</th>\n",
       "      <th>ACACT1x</th>\n",
       "      <th>ACOAD9m</th>\n",
       "      <th>ACOAO7p</th>\n",
       "      <th>...</th>\n",
       "      <th>1513TACRitr</th>\n",
       "      <th>1531TACRitr</th>\n",
       "      <th>DEOXFVSitx</th>\n",
       "      <th>FVSitx</th>\n",
       "      <th>TACRitr</th>\n",
       "      <th>13DMTitr</th>\n",
       "      <th>15DMTitr</th>\n",
       "      <th>31DMTitr</th>\n",
       "      <th>Patient's Vital Status</th>\n",
       "      <th>Overall Survival (Months)</th>\n",
       "    </tr>\n",
       "  </thead>\n",
       "  <tbody>\n",
       "    <tr>\n",
       "      <th>0</th>\n",
       "      <td>TCGA-05-4244-01</td>\n",
       "      <td>11.448262</td>\n",
       "      <td>154.187481</td>\n",
       "      <td>-583.764387</td>\n",
       "      <td>-14.237357</td>\n",
       "      <td>125.403072</td>\n",
       "      <td>235.338244</td>\n",
       "      <td>457.654536</td>\n",
       "      <td>74.716367</td>\n",
       "      <td>72.493260</td>\n",
       "      <td>...</td>\n",
       "      <td>14.770344</td>\n",
       "      <td>14.770344</td>\n",
       "      <td>-431.370763</td>\n",
       "      <td>431.370763</td>\n",
       "      <td>26.309675</td>\n",
       "      <td>-6.000452</td>\n",
       "      <td>-6.000452</td>\n",
       "      <td>-6.000452</td>\n",
       "      <td>1</td>\n",
       "      <td>0.00</td>\n",
       "    </tr>\n",
       "    <tr>\n",
       "      <th>1</th>\n",
       "      <td>TCGA-05-4249-01</td>\n",
       "      <td>9.173955</td>\n",
       "      <td>162.200877</td>\n",
       "      <td>-442.863722</td>\n",
       "      <td>-5.338254</td>\n",
       "      <td>128.134267</td>\n",
       "      <td>137.492687</td>\n",
       "      <td>149.939274</td>\n",
       "      <td>75.026103</td>\n",
       "      <td>56.620656</td>\n",
       "      <td>...</td>\n",
       "      <td>34.017476</td>\n",
       "      <td>34.017476</td>\n",
       "      <td>-219.803538</td>\n",
       "      <td>219.803538</td>\n",
       "      <td>60.593629</td>\n",
       "      <td>-13.819600</td>\n",
       "      <td>-13.819600</td>\n",
       "      <td>-13.819600</td>\n",
       "      <td>1</td>\n",
       "      <td>50.03</td>\n",
       "    </tr>\n",
       "  </tbody>\n",
       "</table>\n",
       "<p>2 rows × 1964 columns</p>\n",
       "</div>"
      ],
      "text/plain": [
       "       HUG0_SYMBOL     3DSPHR   3HBCOAHLm      ABTArm       ABTD     ACACT1r  \\\n",
       "0  TCGA-05-4244-01  11.448262  154.187481 -583.764387 -14.237357  125.403072   \n",
       "1  TCGA-05-4249-01   9.173955  162.200877 -442.863722  -5.338254  128.134267   \n",
       "\n",
       "     ACACT1rm     ACACT1x    ACOAD9m    ACOAO7p  ...  1513TACRitr  \\\n",
       "0  235.338244  457.654536  74.716367  72.493260  ...    14.770344   \n",
       "1  137.492687  149.939274  75.026103  56.620656  ...    34.017476   \n",
       "\n",
       "   1531TACRitr  DEOXFVSitx      FVSitx    TACRitr   13DMTitr   15DMTitr  \\\n",
       "0    14.770344 -431.370763  431.370763  26.309675  -6.000452  -6.000452   \n",
       "1    34.017476 -219.803538  219.803538  60.593629 -13.819600 -13.819600   \n",
       "\n",
       "    31DMTitr  Patient's Vital Status  Overall Survival (Months)  \n",
       "0  -6.000452                       1                       0.00  \n",
       "1 -13.819600                       1                      50.03  \n",
       "\n",
       "[2 rows x 1964 columns]"
      ]
     },
     "execution_count": 4,
     "metadata": {},
     "output_type": "execute_result"
    }
   ],
   "source": [
    "dt.head(2)"
   ]
  },
  {
   "cell_type": "code",
   "execution_count": 5,
   "metadata": {},
   "outputs": [],
   "source": [
    "dc = \"Overall Survival (Months)\"; \n",
    "ec = \"Patient\\'s Vital Status\"\n",
    "\n",
    "dt_ = dt.drop('HUG0_SYMBOL', axis=1)\n",
    "\n",
    "y = dt_.pop(dc).values\n",
    "z1 = dt_.pop(ec).values\n",
    "X = dt_"
   ]
  },
  {
   "cell_type": "code",
   "execution_count": 6,
   "metadata": {},
   "outputs": [],
   "source": [
    "# Splitting the dataset into the Training set and Test set\n",
    "from sklearn.model_selection import train_test_split\n",
    "X_train, X_test, y_train, y_test, z1_train, z1_test = train_test_split(X, y, z1, test_size=0.2, random_state=0)\n",
    "X_train, X_val, y_train, y_val, z1_train, z1_val = train_test_split(X_train, y_train, z1_train, test_size=0.2, random_state=0)"
   ]
  },
  {
   "cell_type": "code",
   "execution_count": 7,
   "metadata": {},
   "outputs": [],
   "source": [
    "# Feature Scaling\n",
    "from sklearn.preprocessing import StandardScaler\n",
    "sc_X = StandardScaler()\n",
    "X_train = sc_X.fit_transform(X_train)\n",
    "X_test = sc_X.transform(X_test)\n",
    "X_val = sc_X.transform(X_val)"
   ]
  },
  {
   "cell_type": "code",
   "execution_count": 8,
   "metadata": {},
   "outputs": [],
   "source": [
    "# Applying PCA\n",
    "from sklearn.decomposition import PCA\n",
    "pca = PCA(n_components = None)\n",
    "X_train = pca.fit_transform(X_train)\n",
    "X_val = pca.transform(X_val)\n",
    "X_test = pca.transform(X_test)\n",
    "explained_variance = pca.explained_variance_ratio_"
   ]
  },
  {
   "cell_type": "code",
   "execution_count": 9,
   "metadata": {},
   "outputs": [
    {
     "data": {
      "text/plain": [
       "array([3.43009321e-01, 1.63589318e-01, 8.18302628e-02, 5.51632072e-02,\n",
       "       3.12435152e-02, 2.96008402e-02, 2.49703898e-02, 1.89998346e-02,\n",
       "       1.77110847e-02, 1.69244317e-02, 1.57883808e-02, 1.33805768e-02,\n",
       "       1.19594892e-02, 1.05463754e-02, 9.41835374e-03, 9.02620607e-03,\n",
       "       8.18500571e-03, 7.62006098e-03, 7.08431247e-03, 6.32220512e-03,\n",
       "       5.81445066e-03, 5.68528000e-03, 5.15026831e-03, 4.80437123e-03,\n",
       "       4.66705649e-03, 4.19429093e-03, 4.11594369e-03, 3.89742285e-03,\n",
       "       3.70434119e-03, 3.53690747e-03, 3.40598312e-03, 2.98494772e-03,\n",
       "       2.90957237e-03, 2.83438299e-03, 2.51989819e-03, 2.46376130e-03,\n",
       "       2.32432538e-03, 2.21261952e-03, 2.04305463e-03, 1.93283147e-03,\n",
       "       1.78488908e-03, 1.71029189e-03, 1.59918368e-03, 1.49786572e-03,\n",
       "       1.43362483e-03, 1.37507286e-03, 1.31914066e-03, 1.25193583e-03,\n",
       "       1.21699233e-03, 1.19059659e-03, 1.13273108e-03, 1.06703120e-03,\n",
       "       1.05454926e-03, 9.75913175e-04, 9.39573450e-04, 9.21987292e-04,\n",
       "       8.90295274e-04, 8.62442166e-04, 8.35285753e-04, 7.88645054e-04,\n",
       "       7.35726728e-04, 7.08358094e-04, 6.78107862e-04, 6.24702460e-04,\n",
       "       6.09947887e-04, 5.86181402e-04, 5.62324202e-04, 5.49591547e-04,\n",
       "       5.18491456e-04, 5.05024229e-04, 5.00651422e-04, 4.87675014e-04,\n",
       "       4.62240559e-04, 4.32567842e-04, 4.26811137e-04, 4.18225958e-04,\n",
       "       3.99769619e-04, 3.90562528e-04, 3.70596283e-04, 3.62006503e-04,\n",
       "       3.56259109e-04, 3.45455668e-04, 3.30154918e-04, 3.19354147e-04,\n",
       "       3.10382415e-04, 3.00799048e-04, 2.94305886e-04, 2.74815895e-04,\n",
       "       2.64230326e-04, 2.59929887e-04, 2.48785982e-04, 2.46510060e-04,\n",
       "       2.39640908e-04, 2.37472521e-04, 2.31353541e-04, 2.26684689e-04,\n",
       "       2.13228054e-04, 2.01810092e-04, 2.00276170e-04, 1.96106530e-04,\n",
       "       1.91951764e-04, 1.81425638e-04, 1.72205560e-04, 1.70196447e-04,\n",
       "       1.68256762e-04, 1.66224437e-04, 1.58206543e-04, 1.54479365e-04,\n",
       "       1.53065099e-04, 1.50015206e-04, 1.44416686e-04, 1.38341304e-04,\n",
       "       1.37091366e-04, 1.32232054e-04, 1.29683066e-04, 1.22159895e-04,\n",
       "       1.19419405e-04, 1.14272201e-04, 1.13516585e-04, 1.11584788e-04,\n",
       "       1.06108630e-04, 1.01834274e-04, 9.95144176e-05, 9.79323054e-05,\n",
       "       9.40550652e-05, 9.35393900e-05, 9.02932211e-05, 8.86152419e-05,\n",
       "       8.74420616e-05, 8.49668282e-05, 8.19304698e-05, 8.13081762e-05,\n",
       "       8.02146095e-05, 7.75086268e-05, 7.59496107e-05, 7.23935420e-05,\n",
       "       7.06208994e-05, 6.78863556e-05, 6.64854296e-05, 6.36929445e-05,\n",
       "       6.20851405e-05, 6.14291895e-05, 5.97634391e-05, 5.94064754e-05,\n",
       "       5.79127095e-05, 5.58262808e-05, 5.37578718e-05, 5.11069050e-05,\n",
       "       5.04684180e-05, 4.95469631e-05, 4.94196742e-05, 4.76828698e-05,\n",
       "       4.62079714e-05, 4.55862066e-05, 4.37400230e-05, 4.33009646e-05,\n",
       "       4.31577180e-05, 4.18157645e-05, 3.97243200e-05, 3.89889148e-05,\n",
       "       3.76491673e-05, 3.71407462e-05, 3.61703989e-05, 3.57957183e-05,\n",
       "       3.50360157e-05, 3.43717854e-05, 3.30221438e-05, 3.23230979e-05,\n",
       "       3.10978447e-05, 3.06974858e-05, 2.92595616e-05, 2.87493870e-05,\n",
       "       2.78311713e-05, 2.66836634e-05, 2.60485434e-05, 2.54225044e-05,\n",
       "       2.45679557e-05, 2.39442224e-05, 2.35532927e-05, 2.21923704e-05,\n",
       "       2.18574293e-05, 2.15000519e-05, 2.12122737e-05, 2.03440117e-05,\n",
       "       2.02357576e-05, 1.95625892e-05, 1.90858126e-05, 1.86397372e-05,\n",
       "       1.79082946e-05, 1.75460620e-05, 1.74692912e-05, 1.70429084e-05,\n",
       "       1.66733130e-05, 1.60304082e-05, 1.53534799e-05, 1.49089529e-05,\n",
       "       1.46971657e-05, 1.41919600e-05, 1.38633501e-05, 1.34425270e-05,\n",
       "       1.34338863e-05, 1.28810969e-05, 1.19647189e-05, 1.19112012e-05,\n",
       "       1.13456167e-05, 1.11165119e-05, 1.08629536e-05, 1.03019591e-05,\n",
       "       1.00557008e-05, 9.75655730e-06, 9.59620700e-06, 9.31682413e-06,\n",
       "       8.89769758e-06, 8.82360650e-06, 8.55000077e-06, 8.07905455e-06,\n",
       "       7.87640292e-06, 7.56620649e-06, 7.38115621e-06, 7.05087055e-06,\n",
       "       6.86430161e-06, 6.69865848e-06, 6.54216888e-06, 6.30037062e-06,\n",
       "       6.15501114e-06, 6.00018559e-06, 5.75551222e-06, 5.59020175e-06,\n",
       "       5.39500586e-06, 5.17210443e-06, 5.11825143e-06, 4.87746286e-06,\n",
       "       4.77330694e-06, 4.62842677e-06, 4.40124939e-06, 4.18001342e-06,\n",
       "       4.05132634e-06, 3.98759440e-06, 3.91295604e-06, 3.72442098e-06,\n",
       "       3.59068696e-06, 3.50942060e-06, 3.34731899e-06, 3.18520585e-06,\n",
       "       3.11103891e-06, 3.03938137e-06, 2.94615659e-06, 2.69121500e-06,\n",
       "       2.64024793e-06, 2.48545647e-06])"
      ]
     },
     "execution_count": 9,
     "metadata": {},
     "output_type": "execute_result"
    }
   ],
   "source": [
    "explained_variance[:250]"
   ]
  },
  {
   "cell_type": "code",
   "execution_count": 10,
   "metadata": {},
   "outputs": [],
   "source": [
    "a = explained_variance[:250]> 0.008"
   ]
  },
  {
   "cell_type": "code",
   "execution_count": 11,
   "metadata": {},
   "outputs": [
    {
     "data": {
      "text/plain": [
       "array([ True,  True,  True,  True,  True,  True,  True,  True,  True,\n",
       "        True,  True,  True,  True,  True,  True,  True,  True, False,\n",
       "       False, False, False, False, False, False, False, False, False,\n",
       "       False, False, False, False, False, False, False, False, False,\n",
       "       False, False, False, False, False, False, False, False, False,\n",
       "       False, False, False, False, False, False, False, False, False,\n",
       "       False, False, False, False, False, False, False, False, False,\n",
       "       False, False, False, False, False, False, False, False, False,\n",
       "       False, False, False, False, False, False, False, False, False,\n",
       "       False, False, False, False, False, False, False, False, False,\n",
       "       False, False, False, False, False, False, False, False, False,\n",
       "       False, False, False, False, False, False, False, False, False,\n",
       "       False, False, False, False, False, False, False, False, False,\n",
       "       False, False, False, False, False, False, False, False, False,\n",
       "       False, False, False, False, False, False, False, False, False,\n",
       "       False, False, False, False, False, False, False, False, False,\n",
       "       False, False, False, False, False, False, False, False, False,\n",
       "       False, False, False, False, False, False, False, False, False,\n",
       "       False, False, False, False, False, False, False, False, False,\n",
       "       False, False, False, False, False, False, False, False, False,\n",
       "       False, False, False, False, False, False, False, False, False,\n",
       "       False, False, False, False, False, False, False, False, False,\n",
       "       False, False, False, False, False, False, False, False, False,\n",
       "       False, False, False, False, False, False, False, False, False,\n",
       "       False, False, False, False, False, False, False, False, False,\n",
       "       False, False, False, False, False, False, False, False, False,\n",
       "       False, False, False, False, False, False, False, False, False,\n",
       "       False, False, False, False, False, False, False])"
      ]
     },
     "execution_count": 11,
     "metadata": {},
     "output_type": "execute_result"
    }
   ],
   "source": [
    "a"
   ]
  },
  {
   "cell_type": "code",
   "execution_count": 12,
   "metadata": {},
   "outputs": [],
   "source": [
    "# Applying Selecting Features\n",
    "from sklearn.decomposition import PCA\n",
    "pca = PCA(n_components = 17)\n",
    "X_train = pca.fit_transform(X_train)\n",
    "X_val = pca.transform(X_val)\n",
    "X_test = pca.transform(X_test)\n",
    "explained_variance = pca.explained_variance_ratio_"
   ]
  },
  {
   "cell_type": "code",
   "execution_count": 13,
   "metadata": {},
   "outputs": [
    {
     "data": {
      "text/plain": [
       "array([0.34300932, 0.16358932, 0.08183026, 0.05516321, 0.03124352,\n",
       "       0.02960084, 0.02497039, 0.01899983, 0.01771108, 0.01692443,\n",
       "       0.01578838, 0.01338058, 0.01195949, 0.01054638, 0.00941835,\n",
       "       0.00902621, 0.00818501])"
      ]
     },
     "execution_count": 13,
     "metadata": {},
     "output_type": "execute_result"
    }
   ],
   "source": [
    "explained_variance"
   ]
  },
  {
   "cell_type": "code",
   "execution_count": 14,
   "metadata": {},
   "outputs": [],
   "source": [
    "conc1 = np.vstack(X_train)\n",
    "conc2 = np.vstack(X_test)\n",
    "conc3 = np.vstack(X_val)\n",
    "\n",
    "X_train = pd.DataFrame(conc1, columns=['PC1', 'PC2', 'PC3', 'PC4', 'PC5', 'PC6', 'PC7', 'PC8', 'PC9', 'PC10', 'PC11', 'PC12', 'PC13',\n",
    "                                      'PC14', 'PC15', 'PC16', 'PC17'])\n",
    "X_test = pd.DataFrame(conc2, columns=['PC1', 'PC2', 'PC3', 'PC4', 'PC5', 'PC6', 'PC7', 'PC8', 'PC9', 'PC10', 'PC11', 'PC12', 'PC13',\n",
    "                                      'PC14', 'PC15', 'PC16', 'PC17'])\n",
    "X_val = pd.DataFrame(conc3, columns=['PC1', 'PC2', 'PC3', 'PC4', 'PC5', 'PC6', 'PC7', 'PC8', 'PC9', 'PC10', 'PC11', 'PC12', 'PC13',\n",
    "                                      'PC14', 'PC15', 'PC16', 'PC17'])\n",
    "\n",
    "conc4 = np.vstack(z1_train)\n",
    "conc5 = np.vstack(z1_test)\n",
    "conc6 = np.vstack(z1_val)\n",
    "\n",
    "z1_train = pd.DataFrame(conc4, columns=['Patient\\'s Vital Status'])\n",
    "z1_test = pd.DataFrame(conc5, columns=['Patient\\'s Vital Status'])\n",
    "z1_val = pd.DataFrame(conc6, columns=['Patient\\'s Vital Status'])"
   ]
  },
  {
   "cell_type": "code",
   "execution_count": 15,
   "metadata": {},
   "outputs": [],
   "source": [
    "# number of components\n",
    "n_pcs= pca.components_.shape[0]\n",
    "\n",
    "# get the index of the most important feature on EACH component\n",
    "# LIST COMPREHENSION HERE\n",
    "most_important = [np.abs(pca.components_[i]).argmax() for i in range(n_pcs)]\n",
    "\n",
    "initial_feature_names = ['3DSPHR','3HBCOAHLm','ABTArm','ABTD','ACACT1r','ACACT1rm','ACACT1x','ACOAD9m','ACOAO7p','ACOATA','ACONT','ACONTm','ADK1','ADK1m','ADK3','ADK3m','ADKd','AICART','AKGDm','AKR1C41','AKR1C42','ALAR','ALATA_L','ALCD1','ALDD21','ALOX52','AMACR2p','AMPDA','APAT2rm','ARTPLM3','ASNNm','ASPTA','ASPTAm','BAAT1x','BAAT2x','BAAT4x','BDHm','BTNDe','BUP2','C14STRr','C181CPT1','C181CPT2','C3STDH1Pr','C4STMO1r','CATm','CATp','CDIPTr','CHAT','CHATn','CK','CKc','CLS_hs','CSNAT2x','CSNATer','CSNATm','CSNATp','CSNATr','CYSGLTH','CYSTA','CYTK1','CYTK10','CYTK10n','CYTK11','CYTK11n','CYTK12','CYTK12n','CYTK13','CYTK13n','CYTK14','CYTK14n','CYTK1n','CYTK2','CYTK2n','CYTK3','CYTK3n','CYTK4','CYTK4n','CYTK5','CYTK5n','CYTK6','CYTK6n','CYTK7','CYTK7n','CYTK8','CYTK8n','CYTK9','CYTK9n','D3AIBTm','DAGK_hs','DCK1n','DCK2n','DCMPDA','DESAT18_4','DESAT18_5','DESAT18_6','DHCR241r','DHCR242r','DHCR243r','DHCR71r','DHCR72r','DHCRD1','DHFR','DHORTS','DHPM2','DMATT','DMATTx','DMNONCOACRNCPT1','DPMVDx','DRPA','DSAT','DURAD2','DURIPP','EBP1r','EBP2r','ECOAH12m','ENO','ETF','ETFQO','FA120ACPH','FA140ACPH','FA160ACPH','FA161ACPH','FACOAL161','FACOAL1812','FACOAL1813','FACOAL1821','FACOAL1831','FACOAL205','FACOAL226','FAOXC180x','FAOXC200180x','FAS100COA','FAS120COA','FAS140COA','FAS160COA','FAS80COA_L','FOLR2','FUM','FUMm','G3PD1','G6PDH1rer','G6PDH2rer','GACMTRc','GALT','GALU','GAPD','GCC2cm','GGNG','GGT6','GHMT2r','GLBRAN','GLDBRAN','GLGNS1','GLPASE1','GLPASE2','GLUDxm','GLUDym','GLUNm','GLYAMDTRc','GNMT','GRTT','GRTTx','GULNDer','H2CO3D','H2CO3Dm','HIBDm','HMGCOASi','HMGCOASim','HPYRRy','HSD11B1r','HSD11B2r','HSD17B42x','HSD17B4x','HSD3A1r','HSD3A2r','HSD3B7P','ICDHyrm','ILETA','ILETAm','IMPC','IPDDIx','ITCOAL1m','ITCOALm','LDH_D','LDH_L','LDH_Lm','LEUTA','LEUTAm','LNELDCCPT1','LNSTLSr','LPS2e','LSTO1r','LSTO2r','LTC4CP','LTD4DP','MCCCrm','MCD','MCOATA','MDH','MDHm','MECOALm','MECOAS1m','MEVK1x','MGCHrm','MMEm','MMMm','MMTSADm','MTHFC','MTHFCm','MTHFD','MTHFD2','MTHFD2m','MTHFDm','NDPK1','NDPK10','NDPK10n','NDPK1m','NDPK1n','NDPK2','NDPK2n','NDPK3','NDPK3n','NDPK4','NDPK4n','NDPK5','NDPK5n','NDPK6','NDPK7','NDPK7n','NDPK8','NDPK8m','NDPK8n','NDPK9','NDPK9n','OIVD2m','ORNTArm','P45027A12m','PCHOLP_hs','PCHOLPg_hs','PCHOLPr_hs','PEPCKm','PETOHMr_hs','PGDI','PGI','PGK','PGM','PGMT','PMEVKx','PPCDC','PPM','PRPNCOAHYDm','PSSA1_hs','PUNP1','PUNP2','PUNP3','PUNP4','PUNP5','PUNP6','PUNP7','PYK','PYNP2r','RDH1','RDH1a','RDH2','RDH2a','RDH3','RDH3a','RNDR1','RNDR4','RPE','RPI','SACCD4m','SARDHm','SBTD_D2','SBTR','SCP2x','SERPT','SMS','SQLEr','SQLSr','SUCD1m','SUCOAS1m','SUCOASm','TALA','TKT1','TKT2','TMDK1m','TMDPP','TPI','TYRTA','UGLT','UMPK','UMPK2','UMPK2n','UMPK3','UMPK3n','UMPK4','UMPK4n','UMPK5','UMPK5n','UMPK6','UMPK6n','UMPK7','UMPK7n','UMPKn','VACCCPT1','VACCCPT2','VALTA','VALTAm','XYLUR','r0010','r0021','r0027','r0051','r0055','r0074','r0081','r0086','r0129','r0130','r0139','r0149','r0153','r0157','r0160','r0163','r0165','r0170','r0173','r0178','r0181','r0193','r0224','r0226','r0242','r0245','r0249','r0267','r0268','r0280','r0295','r0317','r0321','r0330','r0331','r0345','r0365','r0380','r0384','r0390','r0392','r0394','r0407','r0408','r0409','r0410','r0413','r0423','r0425','r0426','r0431','r0438','r0444','r0445','r0446','r0463','r0464','r0472','r0474','r0475','r0483','r0494','r0497','r0510','r0511','r0512','r0514','r0525','r0531','r0549','r0552','r0553','r0556','r0560','r0570','r0571','r0575','r0578','r0579','r0580','r0587','r0595','r0596','r0610','r0611','r0614','r0615','r0616','r0617','r0618','r0620','r0627','r0629','r0630','r0637','r0641','r0643','r0648','r0649','r0669','r0678','r0679','r0680','r0681','r0682','r0683','r0688','r0691','r0692','r0693','r0694','r0695','r0696','r0697','r0698','r0707','r0712','r0737','r0747','r0750','r0752','r0753','r0754','r0755','r0756','r0757','r0760','r0761','r0762','r0763','r0764','r0765','r0766','r0767','r0768','r0769','r0770','r0772','r0773','r0774','r0779','r0781','r0783','r0784','r0792','r0795','r0797','r1109','r1135','r1146','r1156','r1380','r1384','r1391','r1392','r1411','r1418','r1472','r1474','r1477','r1481','r1487','r1488','RE0452M','RE0453C','RE0453M','RE0453N','RE0579C','RE0702E','RE0915E','RE0926E','RE0935E','RE0944E','RE0958E','RE1050E','RE1530C','RE1691M','RE1796R','RE1807C','RE1845C','BAAT5x','RE1860E','RE2069C','RE2273E','RE2513E','RE2514E','RE2625M','RE2626C','RE2626M','RE2637C','RE2638C','RE2649C','RE2799C','RE2888E','RE2954C','RE3076X','RE3245C','RE3248X','RE3250X','RE3273C','RE3301C','RE3346C','RE3346M','RE3347C','RE3556C','RE3565C','RE3566C','RE3567C','RE3568C','C80CPT1','FAOXC22C20x','FAOXC24C22x','FAOXC5C5OHm','FAOXC5OHc','OCD11COACPT1','OCD11CRNCPT2','OCTDECCPT1','OCTDECCPT2','DPMVDc','DTMPKm','FADH2ETC','HMGCOARc','IPDDI','MEVK1c','MTHFR3','PMEVKc','PTPATe','SFCYSc','10FTHFtm','2HBt2','2HCO3_NAt','3MOBt2im','3MOPt2im','4ABUTtm','4MOPt2im','5MTHFt2','ABTti','ABUTt2r','ABUTt4_2_r','ACACt2','ACACt2m','ACALDt','ACCOAtn','ACCOAtr','ACHtn','ACRNtm','ACt2m','ACt2r','ADEt','ADNt','ADNt4','ADPtx','ADRNt','AHCYStr','AKGMALtm','AKGt4_3','ALACYSNaEx','ALADGLNexR','ALADGLYexR','ALAGLNexR','ALAGLYexR','ALAt2r','ALAt4','ALAtN1','AMETr','AMPtp','ARACHDt2','ARACHDtr','ARGt4','ARGtiDF','ARGtm','ARTFR12','ASCBt','ASNALANaEx','ASNCYSNaEx','ASNt4','ASNtm','ASNtN1','ATP2ter','ATPS4m','ATPtm','ATPtx','BALAtmr','BHBt','BHBtm','BILDGLCURt','BILGLCURt','BILIRUBt2','BILIRUBtr','BTNt2','BTNt4i','BUTt2r','C226COAtx','CAt7r','CGLYt3_2_','CHOLATEt','CHOLt4','CHOLtg','CHOLtn','CHOLtr','CHOLtu','CHSTEROLt2','CHSTEROLt3','CITRtm','CITt4_2','CITtam','CITtbm','CO2t','CO2ter','CO2tm','CO2tp','COAtm','COAtn','COAtp','COAtr','CREATt4_2_r','CREATtmdiffir','CRNCARtp','CRNt','CRNtim','CRNtuNa','CRNtx','CRVNCtr','CYANt','CYANtm','CYOR_u10m','CYSGLUexR','CYSGLYexR','CYStec','CYTDt','DADNt4','DAGt','DALAt2r','DATPtn','DCTPtn','DGCHOLte','DGCHOLtx','DGSNt','DGTPtn','DHEASt','DHFtm','DHORD9','DIDPtn','DINt','DITPtn','D_LACt2','DMNONCRNt','DNDPt9m','DOPAt4_2_r','DOPAtu','DTDPtn','DTTPtn','DURIt','ELAIDCRNt','ELAIDt','ESTRONESt','FADH2tru','FADtru','FATP1t','FATP2t','FATP5t','FATP6t','FATP7t','FATP8t','FATP9t','FOLt2','FORtr','FRDPtc','FRDPtr','FRUt1r','FRUt4','FUMSO3tm','FUMSO4tm','FUMtm','FUMTSULtm','GALt1r','GALt2_2','GALt4','GCHOLAt','GCHOLAte','GCHOLAtx','GGLUCT','GLCMter','GLCt2_2','GLCt4','GLCter','GLNALANaEx','GLNASNNaEx','GLNCYSNaEx','GLNSERNaEx','GLNt4','GLNTHRNaEx','GLNtm','GLNtN1','GLUt2m','GLUt6','GLYBt4_2_r','GLYt2r','GLYt4','GLYt7_211_r','GLYtm','GLYtp','GSNt','GUAt','H2O2t','H2O2tp','H2Ot','H2Oter','H2Otg','H2Otm','H2Otp','HCO3_CLt','HDCAter','HDCEAtr','HDD2COAtx','HISt4','HISTAtu','HIStiDF','HIStN1','HMGCOAtm','HMGCOAtx','HOMt4','Htg','Htr','Htx','HYXNt','IDPtn','ILEt5m','ILEtec','INSt','INSTt2r','INSTt4','IPDPtx','It','ITPtn','KCC2t','KCCt','LEUKTRA4t','LEUKTRB4t','LEUKTRC4t','LEUKTRD4t','LEUKTRE4t','LEUKTRF4t','LEUt5m','LEUtec','LGNCCOAtx','L_LACt2r','L_LACt4r','L_LACtm','LNLCt','LNLNCGt','LYSt4','LYStiDF','LYStm','MALSO3tm','MALSO4tm','MALtm','MALTSULtm','MANt1r','MANt4','MEOHt2','METtec','MTHGXLt','NADHtru','NADPHtru','NADPtru','NADtru','NAHCO3_HCLt','NAIt','NAt','NAt3_1','NAt5','NAtx','NCKt','NCNt','NH4t3r','NKCC2t','NKCCt','NRPPHRt4_2_r','NRPPHRtu','NRVNCt','O2t','O2ter','O2tm','O2tp','OCCOAtx','OCDCEAtr','ORNt3m','ORNt4m','ORNtiDF','OXAHCOtex','PA_HSter','PA_HStg','PCHOL_HSter','PCHOL_HStg','PCREATtmdiffir','PE_HSter','PEt','PGLYCt','PHEt4','PHEtec','PIt2m','PIt7','PIter','PItx','PPAt','PPItr','PPItx','PRISTANALtx','PRISTtx','PRODt2r','PROSTGD2t','PROSTGE1t','PROSTGE2t','PROSTGE2t2','PROSTGF2t','PROSTGH2t','PROSTGI2t','PROt2r','PROtm','PSt3','PYRt2m','PYRt2p','PYRt2r','RETNt','SARCStm','SCP22x','SERCYSNaEx','SERDGLNexR','SERDGLYexR','SERGLNexR','SERGLYexR','SERt4','SERtN1','SO4CLtex2','SO4HCOtex','SO4OXAtex2','SO4t4_2','SRTNt6_2_r','SRTNtu','SUCCt2m','SUCCt4_2','TAURt4_2_r','TAURtcx','TCHOLAt','TCHOLAte','TCHOLAtx','TCYNTt','TCYNTtm','TDCHOLAte','TDCHOLAtx','THD1m','THFt2','THFtm','THMDt4','THRCYSNaEx','THRGLNexR','THRGLYexR','THRt4','THYMDt1','THYMDtm','THYMt','THYOXt','THYOXt2','TMNDNCt','TRIODTHYt','TRIODTHYt2','TRPt','TRPt4','TSULt4_3','TTDCAtr','TYRt','TYRt4','URAt','UREAt','UREAt5','URIt','VACCt','VALt5m','VALtec','XYLTt','r0002','r0801','r0809','r0812','r0817','r0819','r0821','r0822','r0829','r0830','r0834','r0835','r0836','r0838','r0839','r0840','r0841','r0860','r0879','r0885','r0892','r0899','r0911','r0913','r0915','r0917','r0921','r0934','r0940','r0941','r0942','r0946','r0947','r0954','r0960','r0962','r0963','r0973','r0975','r0990','r0992','r0995','r0997','r1000','r1001','r1002','r1010','r1019','r1027','r1043','r1045','r1051','r1052','r1088','r1116','r1143','r1144','r1147','r1155','r1291','r1318','r1400','r1421','r1423','r1454','r1455','r1456','r1464','r1493','r1499','r1500','r1544','r1546','r1547','r1548','r1549','r1551','r1552','r1553','r1554','r1556','r1557','r1559','r1560','r1561','r1562','r1563','r1564','r1565','r1566','r1567','r1568','r1569','r1570','r1571','r1573','r1574','r1575','r1576','r1578','r1579','r1580','r1581','r1583','r1584','r1585','r1586','r1587','r1588','r1589','r1590','r1591','r1592','r1593','r1594','r1595','r1596','r1597','r1598','r1599','r1600','r1602','r1603','r1604','r1605','r1606','r1607','r1608','r1609','r1610','r1611','r1612','r1613','r1614','r1615','r1616','r1617','r1621','r1625','r1627','r1628','r1629','r1630','r1631','r1632','r1633','r1634','r1635','r1636','r1637','r1638','r1639','r1640','r1641','r1642','r1643','r1645','r1646','r1648','r1649','r1650','r1651','r1652','r1653','r1654','r1655','r1656','r1657','r1658','r1659','r1660','r1661','r1662','r1664','r1665','r1666','r1667','r1668','r1669','r1670','r1671','r1687','r1702','r1705','r1706','r1707','r1708','r1710','r1713','r1715','r1716','r1717','r1732','r1739','r1747','r1762','r1769','r1776','r1777','r1784','r1807','r1822','r1823','r1825','r1826','r1827','r1828','r1829','r1830','r1831','r1832','r1833','r1834','r1835','r1836','r1837','r1842','r1844','r1846','r1850','r1851','r1852','r1860','r1866','r1867',\n",
    "                         'r1881','r1882','r1890','r1919','r1920','r1923','r1924','r1925','r1926','r1929','r1930','r1934','r1935','r1944','r1945','r1946','r1949','r1950','r1963','r1964','r1965','r1966','r1969','r1970','r1971','r1974','r1975','r1976','r1979','r1980','r1981','r1984','r1985','r1992','r1993','r1995','r1996','r1997','r1998','r1999','r2000','r2001','r2003','r2004','r2005','r2006','r2007','r2008','r2009','r2011','r2012','r2013','r2015','r2016','r2017','r2020','r2022','r2023','r2024','r2040','r2048','r2056','r2064','r2079','r2080','r2081','r2082','r2083','r2084','r2085','r2086','r2087','r2088','r2089','r2090','r2091','r2092','r2093','r2094','r2095','r2096','r2097','r2098','r2099','r2100','r2101','r2102','r2103','r2104','r2105','r2106','r2107','r2108','r2109','r2110','r2111','r2112','r2113','r2114','r2115','r2116','r2117','r2118','r2119','r2120','r2121','r2122','r2123','r2124','r2125','r2126','r2127','r2128','r2129','r2130','r2131','r2132','r2133','r2139','r2140','r2141','r2142','r2143','r2144','r2145','r2146','r2147','r2148','r2149','r2150','r2151','r2152','r2153','r2154','r2155','r2156','r2160','r2161','r2162','r2163','r2164','r2165','r2166','r2167','r2168','r2169','r2170','r2171','r2172','r2173','r2174','r2175','r2176','r2177','r2178','r2179','r2180','r2181','r2182','r2183','r2184','r2185','r2186','r2187','r2188','r2189','r2193','r2194','r2195','r2196','r2197','r2198','r2199','r2200','r2201','r2202','r2203','r2204','r2205','r2206','r2207','r2208','r2209','r2210','r2211','r2212','r2213','r2214','r2215','r2216','r2217','r2218','r2219','r2220','r2221','r2222','r2223','r2224','r2225','r2226','r2227','r2228','r2229','r2230','r2231','r2232','r2233','r2234','r2235','r2236','r2237','r2238','r2239','r2240','r2241','r2242','r2243','r2244','r2245','r2246','r2247','r2248','r2249','r2250','r2251','r2252','r2253','r2254','r2255','r2256','r2257','r2258','r2259','r2260','r2261','r2262','r2263','r2264','r2265','r2266','r2267','r2268','r2269','r2270','r2271','r2272','r2273','r2274','r2275','r2276','r2277','r2278','r2279','r2280','r2281','r2282','r2283','r2284','r2285','r2286','r2287','r2288','r2289','r2290','r2291','r2292','r2293','r2294','r2295','r2296','r2297','r2298','r2299','r2300','r2301','r2302','r2303','r2304','r2305','r2306','r2307','r2308','r2309','r2310','r2311','r2312','r2313','r2314','r2315','r2316','r2317','r2318','r2319','r2320','r2321','r2322','r2323','r2324','r2325','r2326','r2327','r2328','r2329','r2330','r2331','r2332','r2333','r2334','r2335','r2338','r2341','r2342','r2343','r2344','r2346','r2347','r2352','r2353','r2354','r2355','r2356','r2357','r2358','r2359','r2360','r2361','r2362','r2363','r2364','r2365','r2366','r2367','r2368','r2369','r2371','r2372','r2373','r2374','r2375','r2376','r2377','r2378','r2379','r2380','r2382','r2386','r2395','r2396','r2397','r2398','r2399','r2400','r2401','r2402','r2403','r2404','r2405','r2406','r2407','r2408','r2409','r2410','r2411','r2413','r2416','r2420','r2433','r2436','r2438','r2444','r2449','r2482','r2483','r2484','r2485','r2486','r2487','r2488','r2489','r2490','r2491','r2492','r2493','r2494','r2495','r2496','r2506','r2507','r2508','r2509','r2514','r2516','r2520','r2521','r2525','r2526','r2532','r2534','r2535','CITt4_4','GLYt7_311_r','HCO3_NAt','INSTt4_2','PIt8','PIt9','PROt4_2_r','CYOOm3','C2tcx','C4tmc','C9BRxtc','HIVCACBP','HIVCRNe','OCD11CRNCACT','OCTDECCACT','4OHPROIMINOtc','ALAATB0tc','ARGATB0tc','ASNATB0tc','CYSATB0tc','CYSSNAT5tc','FOLTle','GLNATB0tc','GLYSNAT5tc','ILEATB0tc','LEUATB0tc','LEUPHELAT2tc','LYSATB0tc','METATB0tc','OCDEAFABP1tc','PHEATB0tc','PROIMINOtc','SERATB0tc','THRATB0tc','THRPHELAT2tc','TRPATB0tc','TYRATB0tc','VALATB0tc','VALLAT1tc','3AIB_Dtm','3HCO3_NAt','4ABUTtcn','4HPROLTASCT1','5MTHFt2le','ADNt5le','CHSTEROLtrc','CRNrtx','Coqe','DATPtm','FOLt2le','FRDPtcr','GLCGLUT2','GLUPROASCT1','GLYCTDle','GSNt5le','INSt5le','KHte','LACLt','PPItm','PRO_Dtde','Q10H2e','SFCYSe','TAURCHAe','THMDt5le','q10h2tc','q10tm','34HPPte','3MOBte','3MOPte','4MOPte','5OXPROt','AICARte','CBASPte','MAL_Lte','OROTGLUt','fumt','dcmpt','HC00342te','glyc3pte','DM_datp_m_','DM_datp_n_','sink_citr(c)','DM_4abut(n)','DM_taur(c)','sink_5hpet(c)','DM_Lcystin','DM_btn','EX_4abut(e)','EX_4nph(e)','EX_5mthf(e)','EX_abt(e)','EX_ac(e)','EX_acac(e)','EX_acald(e)','EX_ach(e)','EX_ade(e)','EX_adn(e)','EX_akg(e)','EX_ala_B(e)','EX_ala_D(e)','EX_ala_L(e)','EX_amp(e)','EX_arg_L(e)','EX_ascb_L(e)','EX_asn_L(e)','EX_asp_L(e)','EX_atp(e)','EX_bhb(e)','EX_biocyt(e)','EX_btn(e)','EX_cgly(e)','EX_chol(e)','EX_cit(e)','EX_cl(e)','EX_cmp(e)','EX_co2(e)','EX_creat(e)','EX_crn(e)','EX_crvnc(e)','EX_cyan(e)','EX_cys_L(e)','EX_cytd(e)','EX_dad_2(e)','EX_dag_hs(e)','EX_dgchol(e)','EX_dgsn(e)','EX_dhdascb(e)','EX_din(e)','EX_duri(e)','EX_elaid(e)','EX_fol(e)','EX_for(e)','EX_fru(e)','EX_gal(e)','EX_gchola(e)','EX_glc(e)','EX_gln_L(e)','EX_gluala(e)','EX_glu_L(e)','EX_gly(e)','EX_glyc(e)','EX_gsn(e)','EX_gthrd(e)','EX_gua(e)','EX_h(e)','EX_h2o(e)','EX_h2o2(e)','EX_hco3(e)','EX_hdca(e)','EX_hdcea(e)','EX_his_L(e)','EX_hxan(e)','EX_idp(e)','EX_ile_L(e)','EX_inost(e)','EX_ins(e)','EX_lac_D(e)','EX_lac_L(e)','EX_lcts(e)','EX_leuktrA4(e)','EX_leuktrC4(e)','EX_leuktrD4(e)','EX_leuktrE4(e)','EX_leuktrF4(e)','EX_leu_L(e)','EX_lgnc(e)','EX_lnlc(e)','EX_lnlncg(e)','EX_lys_L(e)','EX_mag_hs(e)','EX_malttr(e)','EX_meoh(e)','EX_met_L(e)','EX_mthgxl(e)','EX_nh4(e)','EX_o2(e)','EX_ocdcea(e)','EX_orn(e)','EX_pe_hs(e)','EX_pglyc_hs(e)','EX_phe_L(e)','EX_pi(e)','EX_ppa(e)','EX_pro_L(e)','EX_prostgd2(e)','EX_prostge1(e)','EX_prostge2(e)','EX_prostgf2(e)','EX_ps_hs(e)','EX_pyr(e)','EX_Rtotal(e)','EX_ser_L(e)','EX_so4(e)','EX_succ(e)','EX_taur(e)','EX_tchola(e)','EX_tcynt(e)','EX_tdchola(e)','EX_thf(e)','EX_thr_L(e)','EX_thym(e)','EX_thymd(e)','EX_tmndnc(e)','EX_trp_L(e)','EX_tsul(e)','EX_ttdca(e)','EX_tyr_L(e)','EX_ura(e)','EX_urate(e)','EX_urea(e)','EX_uri(e)','EX_utp(e)','EX_vacc(e)','EX_val_L(e)','EX_xylt(e)','EX_ahdt(e)','EX_ctp(e)','EX_dgmp(e)','EX_dgtp(e)','EX_dha(e)','EX_dhap(e)','EX_dtmp(e)','EX_dttp(e)','EX_fald(e)','EX_HC00229(e)','EX_HC00250(e)','EX_HC01104(e)','EX_HC01361(e)','EX_HC01440(e)','EX_HC01441(e)','EX_HC01444(e)','EX_HC01446(e)','EX_HC01577(e)','EX_HC01609(e)','EX_HC01610(e)','EX_HC01700(e)','EX_HC02160(e)','EX_HC02161(e)','EX_itp(e)','EX_orot(e)','EX_prpp(e)','EX_no2(e)','EX_so3(e)','EX_prostgh2(e)','EX_ppi(e)','EX_HC00955(e)','EX_citr_L(e)','EX_HC02192(e)','EX_CE5560(e)','EX_ddca(e)','EX_HC02191(e)','EX_HC02202(e)','EX_HC02203(e)','EX_HC02204(e)','EX_HC02205(e)','EX_HC02206(e)','EX_HC02207(e)','EX_CE2011(e)','EX_maltttr(e)','EX_malthx(e)','EX_malthp(e)','EX_CE2839(e)','EX_CE2838(e)','EX_CE1950(e)','EX_cynt(e)','EX_23cump(e)','EX_3ump(e)','EX_CE5797(e)','EX_CE5798(e)','EX_CE4633(e)','EX_CE4881(e)','EX_CE0074(e)','EX_3ivcrn_','EX_bglc(e)','EX_gum(e)','EX_psyl(e)','EX_sfcys(e)','EX_dpcoa(e)','EX_pan4p(e)','EX_q10(e)','EX_q10h2(e)','EX_34hpp_','EX_3mob(e)','EX_3mop(e)','EX_4mop(e)','EX_5oxpro(e)','EX_aicar(e)','EX_cbasp(e)','EX_mal_L(e)','EX_fum(e)','EX_dcmp(e)','EX_HC00342(e)','EX_glyc3p(e)','biomass_reaction','biomass_protein','biomass_DNA','biomass_RNA','biomass_carbohydrate','biomass_lipid','biomass_other','ACSMCT1','ADNCNT3tc','ALAB0AT3tc','ALAPAT4te','ARGB0AT3tc','ASNB0AT3tc','BETBGTtc','BUTSMCT1','CLCFTRte','CRNATBtc','CYSB0AT3tc','CYSSNAT4te','CYTDt2r','DOPAENT4tc','FOLOAT1tc','FOLOAT2tc','FOLOATPtc','GABABGTtc','GLNB0AT3tc','GLUB0AT3tc','GLYB0AT3tc','GSNt2r','H2OGLYAQPt','ILEB0AT2tc','ILEB0AT3tc','INSt2','LEUB0AT2tc','LEUB0AT3tc','LGNCFATtc','METB0AT2tc','METB0AT3tc','PHEB0AT3tc','PPASMCT1','PROB0AT2tc','PROPAT4te','PYRSMCT1','SERB0AT3tc','SRTNENT4tc','THMDt2r','TRPB0AT3tc','TYRB0AT3tc','URIt2r','VALB0AT2tc','VALB0AT3tc','1331TAALThr','1331TACRhr','1331TACRtev','13DMThr','13DMTtep','1513DTALThr','1513DTACRhr','1513TACRtep','1531TACRhr','1531TACRtev','1531TALThr','15DMThr','15DMTtep','2HATVACIDtep','2HATVACIDthc','2HATVLACtep','2HATVLACthc','31DMThr','31DMTtep','35DHPVStep','35DHPVSthc','3HPVStep','3HPVSthc','3ISPVStep','3ISPVSthc','4HATVACIDtep','4HATVACIDthc','4HATVLACtep','4HATVLACthc','6EPVStep','6EPVSthc','AM1ALCShr','AM1ALCStep','AM1CSAtep','AM4N9CShc','AM4N9CStev','AM4NCShr','AM4NCStep','AM9CSAtep','ATVACIDMCTtu','ATVACIDOATPtu','ATVACIDtdu','ATVLACThc','ATVLACtdhc','CRVStu','CRVSthc','CSAtd','DEOXFVShc','DEOXFVStev','DHGLZhc','DHGLZtev','EX_1331tacr(e)','EX_13dmt(e)','EX_1513tacr(e)','EX_1531tacr(e)','EX_15dmt(e)','EX_31dmt(e)','EX_am1alcs(e)','EX_am1csa(e)','EX_am4n9cs(e)','EX_am4ncs(e)','EX_am9csa(e)','EX_csa(e)','EX_deoxfvs(e)','EX_dhglz(e)','EX_fvs(e)','EX_glz(e)','EX_tacr(e)','FVStep','FVStu','GLZtd','LST4EXPTDhc','LST4EXPthc','LSTNM7TDhc','LSTNM7thc','LSTNRATt','LSTNtd','OXYPthc','OXYPtepv','PTVSTtep','PTVSTtu','PVSHtu','PVSOATPtu','PVStep','RSVtev','RSVtu','SMVtv','SMVthep','TACRDtsc','TMDOATPtsc','TMDOATtev','TMDOATthc','TMDtd','13HTACRitr','1513TACRitr','1531TACRitr','DEOXFVSitx','FVSitx','TACRitr','13DMTitr','15DMTitr','31DMTitr']\n",
    "\n",
    "# get the names\n",
    "most_important_features= [initial_feature_names[most_important[i]] for i in range(n_pcs)]"
   ]
  },
  {
   "cell_type": "code",
   "execution_count": 16,
   "metadata": {},
   "outputs": [
    {
     "data": {
      "text/plain": [
       "['3DSPHR',\n",
       " '3HBCOAHLm',\n",
       " 'ABTArm',\n",
       " 'ABTD',\n",
       " 'ACACT1r',\n",
       " 'ACACT1rm',\n",
       " 'ACACT1x',\n",
       " 'ACOAD9m',\n",
       " 'ACOAO7p',\n",
       " 'ACOATA',\n",
       " 'ACONT',\n",
       " 'ACONTm',\n",
       " 'ADK1',\n",
       " 'ADK1m',\n",
       " 'ADK3',\n",
       " 'ADK3m',\n",
       " 'ADKd']"
      ]
     },
     "execution_count": 16,
     "metadata": {},
     "output_type": "execute_result"
    }
   ],
   "source": [
    "most_important_features"
   ]
  },
  {
   "cell_type": "code",
   "execution_count": 17,
   "metadata": {},
   "outputs": [
    {
     "name": "stdout",
     "output_type": "stream",
     "text": [
      "Feature ranking:\n",
      "1, feature 0 (0.343009)\n",
      "2, feature 1 (0.163589)\n",
      "3, feature 2 (0.081830)\n",
      "4, feature 3 (0.055163)\n",
      "5, feature 4 (0.031244)\n",
      "6, feature 5 (0.029601)\n",
      "7, feature 6 (0.024970)\n",
      "8, feature 7 (0.019000)\n",
      "9, feature 8 (0.017711)\n",
      "10, feature 9 (0.016924)\n",
      "11, feature 10 (0.015788)\n",
      "12, feature 11 (0.013381)\n",
      "13, feature 12 (0.011959)\n",
      "14, feature 13 (0.010546)\n",
      "15, feature 14 (0.009418)\n",
      "16, feature 15 (0.009026)\n",
      "17, feature 16 (0.008185)\n"
     ]
    }
   ],
   "source": [
    "importances= explained_variance\n",
    "indices=np.argsort(importances)[::-1]\n",
    "print(\"Feature ranking:\")\n",
    "for f in range(X_train.shape[1]):\n",
    "    print(\"%d, feature %d (%f)\"%(f+1,indices[f],importances[indices[f]]))"
   ]
  },
  {
   "cell_type": "code",
   "execution_count": 18,
   "metadata": {},
   "outputs": [
    {
     "data": {
      "image/png": "[encoded data removed]",
      "text/plain": [
       "<Figure size 432x288 with 1 Axes>"
      ]
     },
     "metadata": {
      "needs_background": "light"
     },
     "output_type": "display_data"
    }
   ],
   "source": [
    "#plot\n",
    "plt.title(\"Feature Importances\")\n",
    "plt.bar(range(X_train.shape[1]),importances[indices],color=\"g\",align=\"center\")\n",
    "plt.xticks(range(X_train.shape[1]),X_train,rotation=90)\n",
    "plt.xlim([-1,X_train.shape[1]])\n",
    "plt.savefig(r'C:\\Users\\U0033207PC\\Desktop\\LUAD FIREHOSE LEGACY DATABASE\\PDF PLOT\\PCA\\DT\\FLUX\\Corrleation_FLUXDTPCA.pdf')\n",
    "plt.show()"
   ]
  },
  {
   "cell_type": "code",
   "execution_count": 19,
   "metadata": {},
   "outputs": [
    {
     "data": {
      "image/png": "[encoded data removed]",
      "text/plain": [
       "<Figure size 360x576 with 1 Axes>"
      ]
     },
     "metadata": {
      "needs_background": "light"
     },
     "output_type": "display_data"
    }
   ],
   "source": [
    "import matplotlib.pyplot as plt\n",
    "# Plot feature importance\n",
    "feature_importance = importances\n",
    "# make importances relative to max importance\n",
    "feature_importance = 100.0 * (feature_importance / feature_importance.max())\n",
    "sorted_idx = np.argsort(feature_importance)\n",
    "pos = np.arange(sorted_idx.shape[0]) \n",
    "plt.figure(figsize=(5, 8))\n",
    "#plt.subplot(1, 2, 2)\n",
    "plt.barh(pos, feature_importance[sorted_idx], align='center')\n",
    "plt.yticks(pos, X_train)\n",
    "plt.xlabel('Relative Importance')\n",
    "plt.title('Variable Importance')\n",
    "plt.savefig(r'C:\\Users\\U0033207PC\\Desktop\\LUAD FIREHOSE LEGACY DATABASE\\PDF PLOT\\PCA\\DT\\FLUX\\Correlation_FLUXDTPCA1.pdf')\n",
    "plt.show()"
   ]
  },
  {
   "cell_type": "code",
   "execution_count": 20,
   "metadata": {},
   "outputs": [],
   "source": [
    "X_train = X_train.merge(z1_train,left_index=True,right_index=True)\n",
    "X_val = X_val.merge(z1_val,left_index=True,right_index=True)\n",
    "X_test = X_test.merge(z1_test,left_index=True,right_index=True)"
   ]
  },
  {
   "cell_type": "code",
   "execution_count": 21,
   "metadata": {},
   "outputs": [
    {
     "data": {
      "text/plain": [
       "DecisionTreeRegressor(criterion='mse', max_depth=None, max_features=None,\n",
       "                      max_leaf_nodes=None, min_impurity_decrease=0.0,\n",
       "                      min_impurity_split=None, min_samples_leaf=1,\n",
       "                      min_samples_split=2, min_weight_fraction_leaf=0.0,\n",
       "                      presort=False, random_state=None, splitter='best')"
      ]
     },
     "execution_count": 21,
     "metadata": {},
     "output_type": "execute_result"
    }
   ],
   "source": [
    "# Fitting Random Forest Regression to the dataset\n",
    "from sklearn.tree import DecisionTreeRegressor\n",
    "regressor = DecisionTreeRegressor()\n",
    "\n",
    "regressor.fit(X_train, y_train)"
   ]
  },
  {
   "cell_type": "code",
   "execution_count": 22,
   "metadata": {},
   "outputs": [
    {
     "name": "stdout",
     "output_type": "stream",
     "text": [
      "-1.7237999192084943 1.540408799962651\n"
     ]
    }
   ],
   "source": [
    "# KFOlD\n",
    "estimator = regressor\n",
    "kfold = KFold(n_splits=5, random_state=0)\n",
    "results = cross_val_score(estimator, X_train, y_train, cv=kfold)\n",
    "print(results.mean(), results.std())"
   ]
  },
  {
   "cell_type": "code",
   "execution_count": 23,
   "metadata": {},
   "outputs": [
    {
     "name": "stdout",
     "output_type": "stream",
     "text": [
      "26.368423536666352\n",
      "1582.3454813244468\n",
      "39.77870638073147\n",
      "1.3862096800281785\n"
     ]
    }
   ],
   "source": [
    "#Predicting the Validation set results\n",
    "y_predval = regressor.predict(X_val)\n",
    "# Print result of MAE\n",
    "from sklearn import metrics\n",
    "print(metrics.mean_absolute_error(y_val, y_predval))\n",
    "\n",
    "# Print result of MSE\n",
    "print(metrics.mean_squared_error(y_val, y_predval))\n",
    "\n",
    "# Print result of RMSE\n",
    "print(np.sqrt(metrics.mean_squared_error(y_val, y_predval)))\n",
    "\n",
    "# Print result of RELATIVE ROOT MEAN SQUARED ERROR (RRMSE)\n",
    "def rmse_metric(y_val, y_predval):\n",
    "    sum_error = 0.0\n",
    "    for i in range(len(y_val)):\n",
    "        prediction_error = y_predval[i] - y_val[i]\n",
    "        sum_error += (prediction_error ** 2)\n",
    "    mean_error = sum_error / float(len(y_val))\n",
    "    return sqrt(mean_error)\n",
    "\n",
    "rmse = rmse_metric(y_val, y_predval)\n",
    "\n",
    "def meanactual_metric(y_val):\n",
    "    sum_error = 0.0\n",
    "    for i in range(len(y_val)):\n",
    "        prediction_error = y_val[i]\n",
    "        sum_error += prediction_error\n",
    "        mean_error = sum_error / float(len(y_val))\n",
    "    return (mean_error)\n",
    "\n",
    "mean = meanactual_metric(y_val)\n",
    "rrmse = rmse/mean\n",
    "print(rrmse)"
   ]
  },
  {
   "cell_type": "code",
   "execution_count": 24,
   "metadata": {},
   "outputs": [
    {
     "data": {
      "image/png": "[encoded data removed]",
      "text/plain": [
       "<Figure size 1008x576 with 1 Axes>"
      ]
     },
     "metadata": {
      "needs_background": "light"
     },
     "output_type": "display_data"
    },
    {
     "data": {
      "image/png": "[encoded data removed]",
      "text/plain": [
       "<Figure size 432x288 with 1 Axes>"
      ]
     },
     "metadata": {
      "needs_background": "light"
     },
     "output_type": "display_data"
    }
   ],
   "source": [
    "# Visualising the Decision Tree Regression Results\n",
    "# Loading Packages\n",
    "import seaborn as sns\n",
    "import matplotlib.pyplot as plt\n",
    "from sklearn.model_selection import cross_val_predict\n",
    "from sklearn.metrics import r2_score\n",
    "#from sklearn import linear_model\n",
    "from sklearn import datasets\n",
    "from scipy.integrate import simps\n",
    "\n",
    "# Function for Regression Error Characteritic Curve\n",
    "\n",
    "def REC(y_val , y_predval):\n",
    "    \n",
    "    # initilizing the lists\n",
    "    Accuracy = []\n",
    "    \n",
    "    # initializing the values for Epsilon\n",
    "    Begin_Range = 0\n",
    "    End_Range = 1.5\n",
    "    Interval_Size = 0.01\n",
    "    \n",
    "    # List of epsilons\n",
    "    Epsilon = np.arange(Begin_Range , End_Range , Interval_Size)\n",
    "    \n",
    "    # Main Loops\n",
    "    for i in range(len(Epsilon)):\n",
    "        count = 0.0\n",
    "        for j in range(len(y_val)):\n",
    "            if np.linalg.norm(y_val[j] - y_predval[j]) / np.sqrt( np.linalg.norm(y_val[j]) **2 + np.linalg.norm(y_predval[j])**2 ) < Epsilon[i]:\n",
    "                count = count + 1\n",
    "        \n",
    "        Accuracy.append(count/len(y_val))\n",
    "    \n",
    "    # Calculating Area Under Curve using Simpson's rule\n",
    "    AUC = simps(Accuracy , Epsilon ) / End_Range\n",
    "        \n",
    "    # returning epsilon , accuracy , area under curve    \n",
    "    return Epsilon , Accuracy , AUC\n",
    "\n",
    "# finding the deviation and accuracy, and area under curve for plotting\n",
    "Deviation, Accuracy, AUC = REC(y_val, y_predval)\n",
    "\n",
    "# Calculating R^2 of the true and predicted values\n",
    "#RR = r2_score(y_val, y_predval)\n",
    "\n",
    "def pearsonr_ci(y_val , y_predval, alpha=0.05):\n",
    "    PCC, p = stats.pearsonr(y_val , y_predval)\n",
    "    r_z = np.arctanh(PCC)\n",
    "    se = 1/np.sqrt(len(y_val)-3)\n",
    "    z = stats.norm.ppf(1-alpha/2)\n",
    "    lo_z, hi_z = r_z-z*se, r_z+z*se\n",
    "    lo, hi = np.tanh((lo_z, hi_z))\n",
    "    return ('PCC=%0.3f'%PCC, 'lo=%0.3f'%lo, 'hi=%0.3f'%hi,'p=%0.3f'%p)\n",
    "\n",
    "PCC, lo, hi, pearson = pearsonr_ci(y_val , y_predval, alpha=0.05)\n",
    "CI = [lo,hi]\n",
    "\n",
    "# Plotting\n",
    "plt.figure(figsize=(14 , 8))\n",
    "\n",
    "plt.subplot(1, 2, 1)\n",
    "plt.scatter(y_val, y_predval,color = \"darkorange\")\n",
    "plt.xlabel(\"Real Data\", fontname=\"Arial\", fontsize=15)\n",
    "plt.ylabel(\"Predicted\", fontname=\"Arial\", fontsize=15)\n",
    "plt.plot([y_val.min(), y_val.max()], [y_val.min(), y_val.max()], 'k--', lw=4)\n",
    "plt.text(5, 120, PCC , fontname=\"Arial\", fontsize=15)\n",
    "plt.text(50, 120,CI, fontname=\"Arial\", fontsize=15)\n",
    "plt.show()\n",
    "#plt.text(45, -5, r\"$R^2 = %0.4f$\" %RR , fontsize=15)\n",
    "\n",
    "\n",
    "plt.subplot(1, 2, 2)\n",
    "plt.title(\"Regression Error Characteristic (REC)\")\n",
    "plt.plot(Deviation, Accuracy, \"--b\",lw =3)\n",
    "plt.xlabel(\"Deviation\")\n",
    "plt.ylabel(\"Accuracy (%)\")\n",
    "plt.text(1.1, 0.07, \"AUC = %0.4f\" %AUC , fontsize=15)\n",
    "\n",
    "\n",
    "plt.show()"
   ]
  },
  {
   "cell_type": "code",
   "execution_count": 25,
   "metadata": {},
   "outputs": [
    {
     "data": {
      "text/plain": [
       "array([  1.91,   4.96,  27.66,  10.09,  37.29,  25.  ,  24.97,  15.67,\n",
       "        20.57,  47.77,  31.21,  25.99,  14.45,  13.44,  55.85,  35.18,\n",
       "         9.36,  32.46,  18.63,  41.56,  77.79,  42.74,  27.14,  60.68,\n",
       "        15.64,  21.45,  15.41,  23.78,  13.86,   4.37,  31.27,  49.8 ,\n",
       "        33.28,  54.3 ,  45.3 ,   2.86,  88.57, 123.49,   2.43,  14.26,\n",
       "        17.74,  35.22,  30.81,  19.74,  85.25,  24.21,   8.54,  20.57,\n",
       "        27.76,  18.99,  22.01,  66.59,   3.19,  31.11,  38.01,   4.63,\n",
       "        49.01,  19.58,  15.8 ,  22.14,  17.77,  12.32,   7.36,  41.79,\n",
       "        14.29, 110.41,  13.99,   0.  ,  16.85,  44.91,   5.68,  20.27,\n",
       "         5.72,  34.17,  10.18,  56.67,  45.99,  22.9 ,  39.91,   4.3 ,\n",
       "        23.16,  21.81,   7.98])"
      ]
     },
     "execution_count": 25,
     "metadata": {},
     "output_type": "execute_result"
    }
   ],
   "source": [
    "y_val"
   ]
  },
  {
   "cell_type": "code",
   "execution_count": 26,
   "metadata": {},
   "outputs": [
    {
     "data": {
      "text/plain": [
       "array([2.83800000e+01, 9.76700000e+01, 4.92100000e+01, 1.39000000e+01,\n",
       "       2.92000000e+01, 2.94300000e+01, 2.00400000e+01, 3.93200000e+01,\n",
       "       2.92000000e+01, 1.71500000e+01, 5.74900000e+01, 1.79000000e+01,\n",
       "       3.88000000e+00, 1.62980000e+02, 8.50900000e+01, 3.26900000e+01,\n",
       "       2.00400000e+01, 7.16000000e+00, 1.53100000e+01, 1.79000000e+01,\n",
       "       5.67700000e+01, 2.30300000e+01, 1.65900000e+01, 1.98100000e+01,\n",
       "       1.26500000e+01, 2.92000000e+01, 8.02000000e+00, 7.16000000e+00,\n",
       "       4.90000000e-01, 2.97991535e+01, 9.27400000e+01, 3.10100000e+01,\n",
       "       1.58000000e+00, 2.26700000e+01, 4.92100000e+01, 3.82100000e+01,\n",
       "       2.06600000e+01, 4.57000000e+00, 1.23900000e+01, 1.11700000e+01,\n",
       "       2.97300000e+01, 1.81300000e+01, 1.98800000e+01, 1.70800000e+01,\n",
       "       1.91200000e+01, 3.02900000e+01, 3.25000000e+00, 2.88800000e+01,\n",
       "       2.30300000e+01, 6.12400000e+01, 3.98000000e+00, 2.98900000e+01,\n",
       "       1.79000000e+01, 1.30000000e-01, 5.88000000e+01, 4.73700000e+01,\n",
       "       3.28200000e+01, 1.19420000e+02, 1.07130000e+02, 3.24200000e+01,\n",
       "       1.16000000e+01, 2.97000000e+01, 2.30300000e+01, 2.55300000e+01,\n",
       "       1.12700000e+01, 2.60000000e+00, 2.59900000e+01, 9.27400000e+01,\n",
       "       1.35000000e+01, 2.50000000e+01, 4.92400000e+01, 2.64800000e+01,\n",
       "       1.23900000e+01, 2.05700000e+01, 2.75600000e+01, 3.05200000e+01,\n",
       "       1.56400000e+01, 2.13900000e+01, 2.00400000e+01, 3.98000000e+00,\n",
       "       1.53700000e+01, 1.07130000e+02, 2.39800000e+01])"
      ]
     },
     "execution_count": 26,
     "metadata": {},
     "output_type": "execute_result"
    }
   ],
   "source": [
    "y_predval"
   ]
  },
  {
   "cell_type": "code",
   "execution_count": null,
   "metadata": {},
   "outputs": [],
   "source": [
    "------------------------------------------------Testing Set---------------------------------------------------------------------"
   ]
  },
  {
   "cell_type": "code",
   "execution_count": 27,
   "metadata": {},
   "outputs": [
    {
     "name": "stdout",
     "output_type": "stream",
     "text": [
      "26.928533275287705\n",
      "1885.181680114701\n",
      "43.41867893101656\n",
      "1.3552421593420334\n"
     ]
    }
   ],
   "source": [
    "y_pred = regressor.predict(X_test)\n",
    "\n",
    "# Print result of MAE\n",
    "from sklearn import metrics\n",
    "print(metrics.mean_absolute_error(y_test, y_pred))\n",
    "\n",
    "# Print result of MSE\n",
    "print(metrics.mean_squared_error(y_test, y_pred))\n",
    "\n",
    "# Print result of RMSE\n",
    "print(np.sqrt(metrics.mean_squared_error(y_test, y_pred)))\n",
    "\n",
    "# Print result of RELATIVE ROOT MEAN SQUARED ERROR (RRMSE)\n",
    "def rmse_metric(y_test, y_pred):\n",
    "    sum_error = 0.0\n",
    "    for i in range(len(y_test)):\n",
    "        prediction_error = y_pred[i] - y_test[i]\n",
    "        sum_error += (prediction_error ** 2)\n",
    "    mean_error = sum_error / float(len(y_test))\n",
    "    return sqrt(mean_error)\n",
    "\n",
    "rmse = rmse_metric(y_test, y_pred)\n",
    "\n",
    "def meanactual_metric(y_test):\n",
    "    sum_error = 0.0\n",
    "    for i in range(len(y_test)):\n",
    "        prediction_error = y_test[i]\n",
    "        sum_error += prediction_error\n",
    "        mean_error = sum_error / float(len(y_test))\n",
    "    return (mean_error)\n",
    "\n",
    "mean = meanactual_metric(y_test)\n",
    "rrmse = rmse/mean\n",
    "print(rrmse)"
   ]
  },
  {
   "cell_type": "code",
   "execution_count": 28,
   "metadata": {},
   "outputs": [
    {
     "data": {
      "image/png": "[encoded data removed]",
      "text/plain": [
       "<Figure size 1008x576 with 1 Axes>"
      ]
     },
     "metadata": {
      "needs_background": "light"
     },
     "output_type": "display_data"
    },
    {
     "data": {
      "image/png": "[encoded data removed]",
      "text/plain": [
       "<Figure size 432x288 with 1 Axes>"
      ]
     },
     "metadata": {
      "needs_background": "light"
     },
     "output_type": "display_data"
    }
   ],
   "source": [
    "# Visualising the Decision Tree Regression Results\n",
    "# Loading Packages\n",
    "import seaborn as sns\n",
    "import matplotlib.pyplot as plt\n",
    "from sklearn.model_selection import cross_val_predict\n",
    "from sklearn.metrics import r2_score\n",
    "#from sklearn import linear_model\n",
    "from sklearn import datasets\n",
    "from scipy.integrate import simps\n",
    "\n",
    "# Function for Regression Error Characteritic Curve\n",
    "\n",
    "def REC(y_test , y_pred):\n",
    "    \n",
    "    # initilizing the lists\n",
    "    Accuracy = []\n",
    "    \n",
    "    # initializing the values for Epsilon\n",
    "    Begin_Range = 0\n",
    "    End_Range = 1.5\n",
    "    Interval_Size = 0.01\n",
    "    \n",
    "    # List of epsilons\n",
    "    Epsilon = np.arange(Begin_Range , End_Range , Interval_Size)\n",
    "    \n",
    "    # Main Loops\n",
    "    for i in range(len(Epsilon)):\n",
    "        count = 0.0\n",
    "        for j in range(len(y_test)):\n",
    "            if np.linalg.norm(y_test[j] - y_pred[j]) / np.sqrt( np.linalg.norm(y_test[j]) **2 + np.linalg.norm(y_pred[j])**2 ) < Epsilon[i]:\n",
    "                count = count + 1\n",
    "        \n",
    "        Accuracy.append(count/len(y_test))\n",
    "    \n",
    "    # Calculating Area Under Curve using Simpson's rule\n",
    "    AUC = simps(Accuracy , Epsilon ) / End_Range\n",
    "        \n",
    "    # returning epsilon , accuracy , area under curve    \n",
    "    return Epsilon , Accuracy , AUC\n",
    "\n",
    "# finding the deviation and accuracy, and area under curve for plotting\n",
    "Deviation, Accuracy, AUC = REC(y_test, y_pred)\n",
    "\n",
    "# Calculating R^2 of the true and predicted values\n",
    "#RR = r2_score(y_val, y_predval)\n",
    "\n",
    "def pearsonr_ci(y_test , y_pred, alpha=0.05):\n",
    "    PCC, p = stats.pearsonr(y_test , y_pred)\n",
    "    r_z = np.arctanh(PCC)\n",
    "    se = 1/np.sqrt(len(y_test)-3)\n",
    "    z = stats.norm.ppf(1-alpha/2)\n",
    "    lo_z, hi_z = r_z-z*se, r_z+z*se\n",
    "    lo, hi = np.tanh((lo_z, hi_z))\n",
    "    return ('PCC=%0.3f'%PCC, 'lo=%0.3f'%lo, 'hi=%0.3f'%hi,'p=%0.3f'%p)\n",
    "\n",
    "PCC, lo, hi, pearson = pearsonr_ci(y_test , y_pred, alpha=0.05)\n",
    "CI = [lo,hi]\n",
    "\n",
    "# Plotting\n",
    "plt.figure(figsize=(14 , 8))\n",
    "\n",
    "plt.subplot(1, 2, 1)\n",
    "plt.scatter(y_test, y_pred,color = \"darkorange\")\n",
    "plt.xlabel(\"Real Data\", fontname=\"Arial\", fontsize=15)\n",
    "plt.ylabel(\"Predicted\", fontname=\"Arial\", fontsize=15)\n",
    "plt.plot([y_test.min(), y_test.max()], [y_test.min(), y_test.max()], 'k--', lw=4)\n",
    "plt.text(5, 200, PCC , fontname=\"Arial\", fontsize=15)\n",
    "plt.text(80, 200,CI, fontname=\"Arial\", fontsize=15)\n",
    "plt.savefig(r'C:\\Users\\U0033207PC\\Desktop\\LUAD FIREHOSE LEGACY DATABASE\\PDF PLOT\\PCA\\DT\\FLUX\\PCC_FLUXDTPCA.pdf')\n",
    "plt.show()\n",
    "#plt.text(45, -5, r\"$R^2 = %0.4f$\" %RR , fontsize=15)\n",
    "\n",
    "\n",
    "plt.subplot(1, 2, 2)\n",
    "plt.title(\"Regression Error Characteristic (REC)\")\n",
    "plt.plot(Deviation, Accuracy, \"--b\",lw =3)\n",
    "plt.xlabel(\"Deviation\", fontname=\"Arial\", fontsize=15)\n",
    "plt.ylabel(\"Accuracy (%)\", fontname=\"Arial\", fontsize=15)\n",
    "plt.text(1.1, 0.07, \"AUC = %0.4f\" %AUC , fontsize=15)\n",
    "plt.savefig(r'C:\\Users\\U0033207PC\\Desktop\\LUAD FIREHOSE LEGACY DATABASE\\PDF PLOT\\PCA\\DT\\FLUX\\AUC_FLUXDTPCA.pdf')\n",
    "plt.show()"
   ]
  },
  {
   "cell_type": "code",
   "execution_count": 29,
   "metadata": {},
   "outputs": [
    {
     "data": {
      "text/plain": [
       "array([  5.06      ,  27.27      ,  19.48      ,  17.71      ,\n",
       "        15.24      ,   2.99      ,  38.7       ,  58.41      ,\n",
       "         4.07      ,  28.55      ,  20.17      ,  51.22      ,\n",
       "        35.45      ,  40.37      ,  34.36      ,  18.3       ,\n",
       "        72.24      ,   5.49      ,  14.03      ,  14.29      ,\n",
       "         8.67      ,  36.63      ,  12.22      ,  32.06      ,\n",
       "        14.59      ,  23.06      ,  44.58      ,  24.34      ,\n",
       "         9.23      ,  21.98      ,  14.72      ,  16.52      ,\n",
       "        53.29      ,   5.29      ,   4.57      ,  17.61      ,\n",
       "        14.26      ,  36.76      ,  13.67      ,  18.56      ,\n",
       "        19.81      ,   8.8       ,  52.56      ,  55.29      ,\n",
       "        26.28      ,  13.93      ,  17.44      , 156.54      ,\n",
       "        34.26      ,   8.48      ,  32.69      ,  29.79915354,\n",
       "         8.21      ,  29.79915354,  38.47      ,  50.03      ,\n",
       "        16.43      ,  18.99      , 238.11      ,  29.17      ,\n",
       "         9.43      ,  53.12      ,  29.43      ,  15.7       ,\n",
       "        17.54      ,  14.65      ,  53.25      ,   1.45      ,\n",
       "        22.7       ,  86.07      ,  14.52      ,  82.62      ,\n",
       "        47.01      ,  23.59      ,  40.7       ,  19.88      ,\n",
       "        42.21      ,  27.99      ,  26.51      ,  64.85      ,\n",
       "        21.88      ,   0.92      ,  22.63      ,  18.82      ,\n",
       "        12.65      ,  20.27      ,   6.34      , 108.57      ,\n",
       "         1.18      ,  21.45      ,  10.09      ,  25.99      ,\n",
       "       232.        ,  50.3       ,  61.43      ,  11.04      ,\n",
       "         1.97      ,  42.05      ,  13.4       ,  36.96      ,\n",
       "        43.5       ,  14.06      ,  10.12      ,  19.97      ])"
      ]
     },
     "execution_count": 29,
     "metadata": {},
     "output_type": "execute_result"
    }
   ],
   "source": [
    "y_test"
   ]
  },
  {
   "cell_type": "code",
   "execution_count": 30,
   "metadata": {},
   "outputs": [
    {
     "data": {
      "text/plain": [
       "array([ 13.9       ,  12.65      ,  28.09      ,  17.9       ,\n",
       "        13.5       ,  31.18      ,   0.59      ,  18.86      ,\n",
       "        19.71      ,   3.25      ,  24.31      ,  71.42      ,\n",
       "        42.31      ,  73.06      ,  39.95      ,   4.4       ,\n",
       "        60.12      ,  13.73      ,  27.56      ,  26.45      ,\n",
       "        67.84      ,  16.        ,  29.99      ,  39.22      ,\n",
       "        13.63      ,  27.07      ,  32.82      ,  92.74      ,\n",
       "        23.03      , 163.99      ,  19.12      ,   0.        ,\n",
       "        20.5       ,   3.98      ,  17.94      ,  23.62      ,\n",
       "        31.18      ,  23.03      ,  13.63      ,  15.18      ,\n",
       "         4.57      ,  37.12      ,  47.04      ,  39.06      ,\n",
       "        67.84      ,  73.06      ,  19.12      ,  19.65      ,\n",
       "       100.49      ,  47.04      ,  36.04      ,  19.12      ,\n",
       "         3.98      ,  38.21      ,  16.59      ,  20.01      ,\n",
       "        23.03      , 101.64      , 163.99      ,  25.        ,\n",
       "        29.79915354,  19.88      , 107.13      ,  17.94      ,\n",
       "        59.07      ,  59.07      ,   7.16      ,  29.79915354,\n",
       "         6.11      ,  13.73      ,  16.16      ,   0.36      ,\n",
       "        47.04      ,   2.04      ,  92.74      ,  21.42      ,\n",
       "        29.43      , 120.7       ,  15.97      ,  32.62      ,\n",
       "         0.59      ,  17.94      ,  17.9       ,  28.65      ,\n",
       "         1.25      ,  20.01      ,  24.31      ,  85.09      ,\n",
       "        97.67      ,   1.58      ,  85.09      ,  29.79915354,\n",
       "         8.02      ,  19.25      ,   7.16      ,  10.61      ,\n",
       "         6.64      ,  21.62      ,  13.5       ,  23.03      ,\n",
       "        25.        ,   4.57      ,   3.25      ,  14.29      ])"
      ]
     },
     "execution_count": 30,
     "metadata": {},
     "output_type": "execute_result"
    }
   ],
   "source": [
    "y_pred"
   ]
  },
  {
   "cell_type": "code",
   "execution_count": null,
   "metadata": {},
   "outputs": [],
   "source": []
  }
 ],
 "metadata": {
  "kernelspec": {
   "display_name": "Python 3",
   "language": "python",
   "name": "python3"
  },
  "language_info": {
   "codemirror_mode": {
    "name": "ipython",
    "version": 3
   },
   "file_extension": ".py",
   "mimetype": "text/x-python",
   "name": "python",
   "nbconvert_exporter": "python",
   "pygments_lexer": "ipython3",
   "version": "3.7.4"
  },
  "varInspector": {
   "cols": {
    "lenName": 16,
    "lenType": 16,
    "lenVar": 40
   },
   "kernels_config": {
    "python": {
     "delete_cmd_postfix": "",
     "delete_cmd_prefix": "del ",
     "library": "var_list.py",
     "varRefreshCmd": "print(var_dic_list())"
    },
    "r": {
     "delete_cmd_postfix": ") ",
     "delete_cmd_prefix": "rm(",
     "library": "var_list.r",
     "varRefreshCmd": "cat(var_dic_list()) "
    }
   },
   "types_to_exclude": [
    "module",
    "function",
    "builtin_function_or_method",
    "instance",
    "_Feature"
   ],
   "window_display": false
  }
 },
 "nbformat": 4,
 "nbformat_minor": 2
}
