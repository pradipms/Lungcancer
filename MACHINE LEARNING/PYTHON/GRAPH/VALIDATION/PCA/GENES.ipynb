{
 "cells": [
  {
   "cell_type": "code",
   "execution_count": 1,
   "metadata": {},
   "outputs": [],
   "source": [
    "#importing necessary python packages\n",
    "import pandas as pd\n",
    "import numpy as np\n",
    "import os\n",
    "from sklearn.tree import DecisionTreeRegressor\n",
    "from sklearn.ensemble import GradientBoostingRegressor\n",
    "from sklearn.ensemble import RandomForestRegressor\n",
    "from sklearn.svm import SVR\n",
    "from lifelines.utils.sklearn_adapter import sklearn_adapter\n",
    "from lifelines import CoxPHFitter\n",
    "\n",
    "import matplotlib.pyplot as plt\n",
    "import seaborn as sns\n",
    "from sklearn.model_selection import cross_val_predict, cross_val_score\n",
    "from sklearn.metrics import r2_score\n",
    "from sklearn import linear_model\n",
    "from sklearn import datasets, linear_model\n",
    "from scipy.integrate import simps\n",
    "from sklearn import metrics\n",
    "from math import sqrt"
   ]
  },
  {
   "cell_type": "code",
   "execution_count": 2,
   "metadata": {},
   "outputs": [],
   "source": [
    "os.chdir('C:\\\\Users\\\\U0033207PC\\\\Desktop\\\\LUAD FIREHOSE LEGACY DATABASE')#setting the right directory"
   ]
  },
  {
   "cell_type": "code",
   "execution_count": 3,
   "metadata": {},
   "outputs": [],
   "source": [
    "# Importing the dataset\n",
    "dt = pd.read_excel('GENES.xlsx')"
   ]
  },
  {
   "cell_type": "code",
   "execution_count": 4,
   "metadata": {},
   "outputs": [],
   "source": [
    "font = {'family': 'arial',\n",
    "         'size': 14,\n",
    "        }"
   ]
  },
  {
   "cell_type": "code",
   "execution_count": 5,
   "metadata": {},
   "outputs": [
    {
     "data": {
      "text/html": [
       "<div>\n",
       "<style scoped>\n",
       "    .dataframe tbody tr th:only-of-type {\n",
       "        vertical-align: middle;\n",
       "    }\n",
       "\n",
       "    .dataframe tbody tr th {\n",
       "        vertical-align: top;\n",
       "    }\n",
       "\n",
       "    .dataframe thead th {\n",
       "        text-align: right;\n",
       "    }\n",
       "</style>\n",
       "<table border=\"1\" class=\"dataframe\">\n",
       "  <thead>\n",
       "    <tr style=\"text-align: right;\">\n",
       "      <th></th>\n",
       "      <th>Hugo_Symbol</th>\n",
       "      <th>UBE2Q2P2</th>\n",
       "      <th>SSX9</th>\n",
       "      <th>CXORF67</th>\n",
       "      <th>EFCAB8</th>\n",
       "      <th>SDR16C6P</th>\n",
       "      <th>EFCAB12</th>\n",
       "      <th>A1BG</th>\n",
       "      <th>A1CF</th>\n",
       "      <th>RBFOX1</th>\n",
       "      <th>...</th>\n",
       "      <th>SLU7</th>\n",
       "      <th>SLURP1</th>\n",
       "      <th>SMAD2</th>\n",
       "      <th>SMAD3</th>\n",
       "      <th>SMAD4</th>\n",
       "      <th>SMAD5</th>\n",
       "      <th>SMAD6</th>\n",
       "      <th>SMAD7</th>\n",
       "      <th>Patient's Vital Status</th>\n",
       "      <th>Overall Survival (Months)</th>\n",
       "    </tr>\n",
       "  </thead>\n",
       "  <tbody>\n",
       "    <tr>\n",
       "      <th>0</th>\n",
       "      <td>TCGA-05-4244-01</td>\n",
       "      <td>-0.4238</td>\n",
       "      <td>-0.1379</td>\n",
       "      <td>-0.1805</td>\n",
       "      <td>0.4529</td>\n",
       "      <td>-0.3317</td>\n",
       "      <td>-0.1012</td>\n",
       "      <td>-0.6977</td>\n",
       "      <td>-0.1476</td>\n",
       "      <td>-0.2240</td>\n",
       "      <td>...</td>\n",
       "      <td>3.4584</td>\n",
       "      <td>-0.2752</td>\n",
       "      <td>-0.7736</td>\n",
       "      <td>-0.6896</td>\n",
       "      <td>-0.0017</td>\n",
       "      <td>0.1779</td>\n",
       "      <td>-0.6433</td>\n",
       "      <td>0.7445</td>\n",
       "      <td>1</td>\n",
       "      <td>0.00</td>\n",
       "    </tr>\n",
       "    <tr>\n",
       "      <th>1</th>\n",
       "      <td>TCGA-05-4249-01</td>\n",
       "      <td>-0.3291</td>\n",
       "      <td>-0.1379</td>\n",
       "      <td>-0.1805</td>\n",
       "      <td>-0.0869</td>\n",
       "      <td>-0.3317</td>\n",
       "      <td>-0.1661</td>\n",
       "      <td>-0.1483</td>\n",
       "      <td>-0.1371</td>\n",
       "      <td>-0.2260</td>\n",
       "      <td>...</td>\n",
       "      <td>0.7962</td>\n",
       "      <td>-0.2752</td>\n",
       "      <td>-0.6214</td>\n",
       "      <td>0.0881</td>\n",
       "      <td>1.3829</td>\n",
       "      <td>2.3203</td>\n",
       "      <td>-0.4918</td>\n",
       "      <td>0.0368</td>\n",
       "      <td>1</td>\n",
       "      <td>50.03</td>\n",
       "    </tr>\n",
       "    <tr>\n",
       "      <th>2</th>\n",
       "      <td>TCGA-05-4250-01</td>\n",
       "      <td>-0.8531</td>\n",
       "      <td>-0.1379</td>\n",
       "      <td>-0.1805</td>\n",
       "      <td>-0.2629</td>\n",
       "      <td>-0.3317</td>\n",
       "      <td>-0.2317</td>\n",
       "      <td>-0.5528</td>\n",
       "      <td>-0.1476</td>\n",
       "      <td>-0.2508</td>\n",
       "      <td>...</td>\n",
       "      <td>0.0730</td>\n",
       "      <td>-0.2752</td>\n",
       "      <td>-1.3034</td>\n",
       "      <td>1.0473</td>\n",
       "      <td>-0.3628</td>\n",
       "      <td>0.0526</td>\n",
       "      <td>-0.8961</td>\n",
       "      <td>-1.1245</td>\n",
       "      <td>0</td>\n",
       "      <td>3.98</td>\n",
       "    </tr>\n",
       "    <tr>\n",
       "      <th>3</th>\n",
       "      <td>TCGA-05-4382-01</td>\n",
       "      <td>-0.7262</td>\n",
       "      <td>0.3883</td>\n",
       "      <td>0.4908</td>\n",
       "      <td>-0.0666</td>\n",
       "      <td>-0.3317</td>\n",
       "      <td>-0.3948</td>\n",
       "      <td>0.0021</td>\n",
       "      <td>-0.1476</td>\n",
       "      <td>-0.2508</td>\n",
       "      <td>...</td>\n",
       "      <td>-1.5611</td>\n",
       "      <td>-0.2752</td>\n",
       "      <td>0.3948</td>\n",
       "      <td>-0.6485</td>\n",
       "      <td>0.5367</td>\n",
       "      <td>-0.9418</td>\n",
       "      <td>-0.1446</td>\n",
       "      <td>2.2863</td>\n",
       "      <td>1</td>\n",
       "      <td>19.94</td>\n",
       "    </tr>\n",
       "    <tr>\n",
       "      <th>4</th>\n",
       "      <td>TCGA-05-4384-01</td>\n",
       "      <td>-1.0590</td>\n",
       "      <td>-0.1379</td>\n",
       "      <td>-0.1805</td>\n",
       "      <td>-0.0959</td>\n",
       "      <td>-0.3317</td>\n",
       "      <td>-0.3372</td>\n",
       "      <td>-0.1061</td>\n",
       "      <td>-0.1476</td>\n",
       "      <td>-0.2508</td>\n",
       "      <td>...</td>\n",
       "      <td>0.7651</td>\n",
       "      <td>-0.2752</td>\n",
       "      <td>0.2285</td>\n",
       "      <td>-0.4482</td>\n",
       "      <td>0.5020</td>\n",
       "      <td>0.5863</td>\n",
       "      <td>0.3185</td>\n",
       "      <td>-0.3951</td>\n",
       "      <td>1</td>\n",
       "      <td>13.99</td>\n",
       "    </tr>\n",
       "  </tbody>\n",
       "</table>\n",
       "<p>5 rows × 14809 columns</p>\n",
       "</div>"
      ],
      "text/plain": [
       "       Hugo_Symbol  UBE2Q2P2    SSX9  CXORF67  EFCAB8  SDR16C6P  EFCAB12  \\\n",
       "0  TCGA-05-4244-01   -0.4238 -0.1379  -0.1805  0.4529   -0.3317  -0.1012   \n",
       "1  TCGA-05-4249-01   -0.3291 -0.1379  -0.1805 -0.0869   -0.3317  -0.1661   \n",
       "2  TCGA-05-4250-01   -0.8531 -0.1379  -0.1805 -0.2629   -0.3317  -0.2317   \n",
       "3  TCGA-05-4382-01   -0.7262  0.3883   0.4908 -0.0666   -0.3317  -0.3948   \n",
       "4  TCGA-05-4384-01   -1.0590 -0.1379  -0.1805 -0.0959   -0.3317  -0.3372   \n",
       "\n",
       "     A1BG    A1CF  RBFOX1  ...    SLU7  SLURP1   SMAD2   SMAD3   SMAD4  \\\n",
       "0 -0.6977 -0.1476 -0.2240  ...  3.4584 -0.2752 -0.7736 -0.6896 -0.0017   \n",
       "1 -0.1483 -0.1371 -0.2260  ...  0.7962 -0.2752 -0.6214  0.0881  1.3829   \n",
       "2 -0.5528 -0.1476 -0.2508  ...  0.0730 -0.2752 -1.3034  1.0473 -0.3628   \n",
       "3  0.0021 -0.1476 -0.2508  ... -1.5611 -0.2752  0.3948 -0.6485  0.5367   \n",
       "4 -0.1061 -0.1476 -0.2508  ...  0.7651 -0.2752  0.2285 -0.4482  0.5020   \n",
       "\n",
       "    SMAD5   SMAD6   SMAD7  Patient's Vital Status  Overall Survival (Months)  \n",
       "0  0.1779 -0.6433  0.7445                       1                       0.00  \n",
       "1  2.3203 -0.4918  0.0368                       1                      50.03  \n",
       "2  0.0526 -0.8961 -1.1245                       0                       3.98  \n",
       "3 -0.9418 -0.1446  2.2863                       1                      19.94  \n",
       "4  0.5863  0.3185 -0.3951                       1                      13.99  \n",
       "\n",
       "[5 rows x 14809 columns]"
      ]
     },
     "execution_count": 5,
     "metadata": {},
     "output_type": "execute_result"
    }
   ],
   "source": [
    "dt.head()"
   ]
  },
  {
   "cell_type": "code",
   "execution_count": 6,
   "metadata": {},
   "outputs": [],
   "source": [
    "dc = \"Overall Survival (Months)\"; \n",
    "ec = \"Patient\\'s Vital Status\"\n",
    "\n",
    "base_class = sklearn_adapter(CoxPHFitter, event_col=ec)\n",
    "cph = base_class()\n",
    "\n",
    "dt_ = dt.drop('Hugo_Symbol', axis=1)\n",
    "\n",
    "y = dt_.pop(dc).values\n",
    "z1 = dt_.pop(ec).values\n",
    "X = dt_"
   ]
  },
  {
   "cell_type": "code",
   "execution_count": 7,
   "metadata": {},
   "outputs": [],
   "source": [
    "# Splitting the dataset into the Training set and Test set\n",
    "from sklearn.model_selection import train_test_split\n",
    "X_train, X_test, y_train, y_test, z1_train, z1_test = train_test_split(X, y, z1, test_size=0.2, random_state=0)\n",
    "X_train, X_val, y_train, y_val, z1_train, z1_val = train_test_split(X_train, y_train, z1_train, test_size=0.2, random_state=0)"
   ]
  },
  {
   "cell_type": "code",
   "execution_count": 8,
   "metadata": {},
   "outputs": [],
   "source": [
    "# Feature Scaling\n",
    "from sklearn.preprocessing import StandardScaler\n",
    "sc_X = StandardScaler()\n",
    "X_train = sc_X.fit_transform(X_train)\n",
    "X_test = sc_X.transform(X_test)\n",
    "X_val = sc_X.transform(X_val)"
   ]
  },
  {
   "cell_type": "code",
   "execution_count": 9,
   "metadata": {},
   "outputs": [],
   "source": [
    "# Applying Selecting Features\n",
    "from sklearn.decomposition import PCA\n",
    "pca = PCA(n_components = 13)\n",
    "X_train = pca.fit_transform(X_train)\n",
    "X_val = pca.transform(X_val)\n",
    "X_test = pca.transform(X_test)\n",
    "explained_variance = pca.explained_variance_ratio_"
   ]
  },
  {
   "cell_type": "code",
   "execution_count": 10,
   "metadata": {},
   "outputs": [
    {
     "data": {
      "text/plain": [
       "array([0.06835441, 0.05110708, 0.04666306, 0.03691869, 0.02945688,\n",
       "       0.02187725, 0.0207332 , 0.01962045, 0.01585254, 0.01389721,\n",
       "       0.01252413, 0.0119773 , 0.0110991 ])"
      ]
     },
     "execution_count": 10,
     "metadata": {},
     "output_type": "execute_result"
    }
   ],
   "source": [
    "explained_variance"
   ]
  },
  {
   "cell_type": "code",
   "execution_count": 11,
   "metadata": {},
   "outputs": [],
   "source": [
    "conc1 = np.vstack(X_train)\n",
    "conc2 = np.vstack(X_test)\n",
    "conc3 = np.vstack(X_val)\n",
    "\n",
    "X_train = pd.DataFrame(conc1, columns=['PC1', 'PC2', 'PC3', 'PC4', 'PC5', 'PC6', 'PC7', 'PC8', 'PC9', 'PC10', 'PC11', 'PC12', 'PC13'])\n",
    "X_test = pd.DataFrame(conc2, columns=['PC1', 'PC2', 'PC3', 'PC4', 'PC5', 'PC6', 'PC7', 'PC8', 'PC9', 'PC10', 'PC11', 'PC12', 'PC13'])\n",
    "X_val = pd.DataFrame(conc3, columns=['PC1', 'PC2', 'PC3', 'PC4', 'PC5', 'PC6', 'PC7', 'PC8', 'PC9', 'PC10', 'PC11', 'PC12', 'PC13'])\n",
    "\n",
    "conc4 = np.vstack(z1_train)\n",
    "conc5 = np.vstack(z1_test)\n",
    "conc6 = np.vstack(z1_val)\n",
    "\n",
    "z1_train = pd.DataFrame(conc4, columns=['Patient\\'s Vital Status'])\n",
    "z1_test = pd.DataFrame(conc5, columns=['Patient\\'s Vital Status'])\n",
    "z1_val = pd.DataFrame(conc6, columns=['Patient\\'s Vital Status'])"
   ]
  },
  {
   "cell_type": "code",
   "execution_count": 12,
   "metadata": {},
   "outputs": [],
   "source": [
    "X_train = X_train.merge(z1_train,left_index=True,right_index=True)\n",
    "X_val = X_val.merge(z1_val,left_index=True,right_index=True)\n",
    "X_test = X_test.merge(z1_test,left_index=True,right_index=True)"
   ]
  },
  {
   "cell_type": "code",
   "execution_count": 13,
   "metadata": {},
   "outputs": [],
   "source": [
    "base_class = sklearn_adapter(CoxPHFitter, event_col='Patient\\'s Vital Status')\n",
    "cph = base_class(penalizer=700.0, strata=None, tie_method='Efron')"
   ]
  },
  {
   "cell_type": "code",
   "execution_count": 14,
   "metadata": {},
   "outputs": [
    {
     "data": {
      "image/png": "[encoded data removed]",
      "text/plain": [
       "<Figure size 576x576 with 1 Axes>"
      ]
     },
     "metadata": {
      "needs_background": "light"
     },
     "output_type": "display_data"
    }
   ],
   "source": [
    "# Instantiate the classfiers and make a list\n",
    "regressors = [DecisionTreeRegressor(criterion='mse', max_depth=None, max_features=None,\n",
    "                      max_leaf_nodes=None, min_impurity_decrease=0.0,\n",
    "                      min_impurity_split=None, min_samples_leaf=1,\n",
    "                      min_samples_split=2, min_weight_fraction_leaf=0.0,\n",
    "                      presort=False, random_state=None, splitter='best'),\n",
    "              GradientBoostingRegressor(alpha=0.9, criterion='friedman_mse', init=None,\n",
    "                          learning_rate=0.1, loss='ls', max_depth=3,\n",
    "                          max_features=None, max_leaf_nodes=None,\n",
    "                          min_impurity_decrease=0.0, min_impurity_split=None,\n",
    "                          min_samples_leaf=1, min_samples_split=2,\n",
    "                          min_weight_fraction_leaf=0.0, n_estimators=100,\n",
    "                          n_iter_no_change=None, presort='auto',\n",
    "                          random_state=None, subsample=1.0, tol=0.0001,\n",
    "                          validation_fraction=0.1, verbose=0, warm_start=False), \n",
    "              RandomForestRegressor(bootstrap=True, criterion='mse', max_depth=None,\n",
    "                      max_features='auto', max_leaf_nodes=None,\n",
    "                      min_impurity_decrease=0.0, min_impurity_split=None,\n",
    "                      min_samples_leaf=1, min_samples_split=2,\n",
    "                      min_weight_fraction_leaf=0.0, n_estimators=10,\n",
    "                      n_jobs=None, oob_score=False, random_state=None,\n",
    "                      verbose=0, warm_start=False), \n",
    "              SVR(gamma='scale', C=0.8),\n",
    "              cph]\n",
    "\n",
    "# Define a result table as a DataFrame\n",
    "result_table = pd.DataFrame(columns=['regressors', 'Deviation','Accuracy','AUC'])\n",
    "\n",
    "# Train the models and record the results\n",
    "for rls in regressors:\n",
    "    model = rls.fit(X_train, y_train)\n",
    "    y_pred = model.predict(X_test)    \n",
    "    \n",
    "    \n",
    "    def REC(y_test , y_pred):\n",
    "    \n",
    "        # initilizing the lists\n",
    "        Accuracy = []\n",
    "    \n",
    "        # initializing the values for Epsilon\n",
    "        Begin_Range = 0\n",
    "        End_Range = 1.5\n",
    "        Interval_Size = 0.01\n",
    "    \n",
    "        # List of epsilons\n",
    "        Epsilon = np.arange(Begin_Range , End_Range , Interval_Size)\n",
    "        \n",
    "        # Main Loops\n",
    "        for i in range(len(Epsilon)):\n",
    "            count = 0.0\n",
    "            for j in range(len(y_test)):\n",
    "                if np.linalg.norm(y_test[j] - y_pred[j]) / np.sqrt( np.linalg.norm(y_test[j]) **2 + np.linalg.norm(y_pred[j])**2 ) < Epsilon[i]:\n",
    "                    count = count + 1\n",
    "        \n",
    "            Accuracy.append(count/len(y_test))\n",
    "    \n",
    "        # Calculating Area Under Curve using Simpson's rule\n",
    "        AUC = simps(Accuracy , Epsilon ) / End_Range\n",
    "        \n",
    "        # returning epsilon , accuracy , area under curve    \n",
    "        return Epsilon , Accuracy , AUC\n",
    "\n",
    "    # finding the deviation and accuracy, and area under curve for plotting\n",
    "    Deviation, Accuracy, AUC = REC(y_test, y_pred)\n",
    "\n",
    "    # Calculating R^2 of the true and predicted values\n",
    "    #RR = r2_score(y_val, y_predval)\n",
    "\n",
    "    \n",
    "    result_table = result_table.append({'regressors':rls.__class__.__name__,\n",
    "                                        'Deviation':Deviation, \n",
    "                                        'Accuracy':Accuracy, \n",
    "                                        'AUC':AUC}, ignore_index=True)\n",
    "    \n",
    "# Set name of the classifiers as index labels\n",
    "result_table.set_index('regressors', inplace=True)\n",
    "\n",
    "fig = plt.figure(figsize=(8,8))\n",
    "\n",
    "for i in result_table.index:\n",
    "    plt.plot(result_table.loc[i]['Deviation'],\n",
    "            result_table.loc[i]['Accuracy'],\n",
    "            label=\"{}, AUC={:.3f}\".format(i, result_table.loc[i]['AUC']))\n",
    "    \n",
    "        \n",
    "\n",
    "\n",
    "plt.plot([0,1.5], [0,1], color='orange', linestyle='--')\n",
    "plt.title(\"Regression Error Characteristic (REC)\", fontdict=font)\n",
    "#plt.plot(Deviation, Accuracy, \"--b\",lw =3)\n",
    "plt.xticks(np.arange(0.0, 1.5, step=0.1))\n",
    "plt.xlabel(\"Deviation\", fontdict=font)\n",
    "plt.yticks(np.arange(0.0, 1.1, step=0.1))\n",
    "plt.ylabel(\"Accuracy (%)\", fontdict=font)\n",
    "plt.legend(prop={'size':13}, loc='lower right')\n",
    "plt.savefig(r'C:\\Users\\U0033207PC\\Desktop\\GENE Enrichment\\FINAL VISUALISATION\\PLOTS\\AUC_KM\\VALIDATION\\PCA\\GENES\\AUC_GENES.pdf', bbox_inches=\"tight\")\n",
    "plt.show()"
   ]
  },
  {
   "cell_type": "code",
   "execution_count": 15,
   "metadata": {},
   "outputs": [
    {
     "name": "stdout",
     "output_type": "stream",
     "text": [
      "                  regressors        MAE         MSE       RMSE     rRMSE\n",
      "0      DecisionTreeRegressor  22.773966  993.485435  31.519604  1.098396\n",
      "1  GradientBoostingRegressor  17.390667  583.029603  24.146006  0.841441\n",
      "2      RandomForestRegressor  18.182579  628.057717  25.061080  0.873329\n",
      "3                        SVR  16.243773  589.413762  24.277845  0.846035\n",
      "4         SkLearnCoxPHFitter  23.324861  756.645993  27.507199  0.958572\n"
     ]
    }
   ],
   "source": [
    "# Instantiate the classfiers and make a list\n",
    "regressors = [DecisionTreeRegressor(criterion='mse', max_depth=None, max_features=None,\n",
    "                      max_leaf_nodes=None, min_impurity_decrease=0.0,\n",
    "                      min_impurity_split=None, min_samples_leaf=1,\n",
    "                      min_samples_split=2, min_weight_fraction_leaf=0.0,\n",
    "                      presort=False, random_state=None, splitter='best'),\n",
    "              GradientBoostingRegressor(alpha=0.9, criterion='friedman_mse', init=None,\n",
    "                          learning_rate=0.1, loss='ls', max_depth=3,\n",
    "                          max_features=None, max_leaf_nodes=None,\n",
    "                          min_impurity_decrease=0.0, min_impurity_split=None,\n",
    "                          min_samples_leaf=1, min_samples_split=2,\n",
    "                          min_weight_fraction_leaf=0.0, n_estimators=100,\n",
    "                          n_iter_no_change=None, presort='auto',\n",
    "                          random_state=None, subsample=1.0, tol=0.0001,\n",
    "                          validation_fraction=0.1, verbose=0, warm_start=False), \n",
    "              RandomForestRegressor(bootstrap=True, criterion='mse', max_depth=None,\n",
    "                      max_features='auto', max_leaf_nodes=None,\n",
    "                      min_impurity_decrease=0.0, min_impurity_split=None,\n",
    "                      min_samples_leaf=1, min_samples_split=2,\n",
    "                      min_weight_fraction_leaf=0.0, n_estimators=10,\n",
    "                      n_jobs=None, oob_score=False, random_state=None,\n",
    "                      verbose=0, warm_start=False), \n",
    "              SVR(gamma='scale', C=0.8),\n",
    "              cph]\n",
    "\n",
    "# Define a result table as a DataFrame\n",
    "result_table = pd.DataFrame(columns=['regressors', 'MAE','MSE','RMSE', 'rRMSE'])\n",
    "\n",
    "# Train the models and record the results\n",
    "for rls in regressors:\n",
    "    model = rls.fit(X_train, y_train)\n",
    "    y_pred = model.predict(X_val)    \n",
    "    \n",
    "    # Print result of MAE\n",
    "          \n",
    "    MAE = metrics.mean_absolute_error(y_val, y_pred)\n",
    "    #print(metrics.mean_absolute_error(y_test, y_pred))\n",
    "\n",
    "    # Print result of MSE\n",
    "    MSE = metrics.mean_squared_error(y_val, y_pred)\n",
    "    #print(metrics.mean_squared_error(y_test, y_pred))\n",
    "\n",
    "    # Print result of RMSE\n",
    "    RMSE = np.sqrt(metrics.mean_squared_error(y_val, y_pred))\n",
    "    #print(np.sqrt(metrics.mean_squared_error(y_test, y_pred)))\n",
    "    \n",
    "    # Print result of RELATIVE ROOT MEAN SQUARED ERROR (RRMSE)\n",
    "    def rmse_metric(y_val, y_pred):\n",
    "        sum_error = 0.0\n",
    "        for i in range(len(y_val)):\n",
    "            prediction_error = y_pred[i] - y_val[i]\n",
    "            sum_error += (prediction_error ** 2)\n",
    "        mean_error = sum_error / float(len(y_val))\n",
    "        return sqrt(mean_error)\n",
    "\n",
    "    rmse = rmse_metric(y_val, y_pred)\n",
    "\n",
    "    def meanactual_metric(y_val):\n",
    "        sum_error = 0.0\n",
    "        for i in range(len(y_val)):\n",
    "            prediction_error = y_val[i]\n",
    "            sum_error += prediction_error\n",
    "            mean_error = sum_error / float(len(y_val))\n",
    "        return (mean_error)\n",
    "\n",
    "    mean = meanactual_metric(y_val)\n",
    "    rRMSE = rmse/mean\n",
    "\n",
    "    \n",
    "    result_table = result_table.append({'regressors':rls.__class__.__name__,\n",
    "                                        'MAE':MAE, \n",
    "                                        'MSE':MSE, \n",
    "                                        'RMSE':RMSE,\n",
    "                                        'rRMSE':rRMSE}, ignore_index=True)\n",
    "print(result_table)"
   ]
  },
  {
   "cell_type": "code",
   "execution_count": 16,
   "metadata": {},
   "outputs": [],
   "source": [
    "from lifelines import KaplanMeierFitter\n",
    "kmf = KaplanMeierFitter()"
   ]
  },
  {
   "cell_type": "code",
   "execution_count": 17,
   "metadata": {},
   "outputs": [
    {
     "name": "stderr",
     "output_type": "stream",
     "text": [
      "c:\\python\\python37\\lib\\site-packages\\lifelines\\fitters\\kaplan_meier_fitter.py:262: FutureWarning: Support for multi-dimensional indexing (e.g. `obj[:, None]`) is deprecated and will be removed in a future version.  Convert to a numpy array before indexing instead.\n",
      "  self.confidence_interval_ = self._bounds(cumulative_sq_[:, None], alpha, ci_labels)\n"
     ]
    },
    {
     "data": {
      "text/plain": [
       "<lifelines.KaplanMeierFitter:\"KM_estimate\", fitted with 83 total observations, 28 right-censored observations>"
      ]
     },
     "execution_count": 17,
     "metadata": {},
     "output_type": "execute_result"
    }
   ],
   "source": [
    "kmf.fit(y_pred, z1_val)"
   ]
  },
  {
   "cell_type": "code",
   "execution_count": 18,
   "metadata": {},
   "outputs": [
    {
     "data": {
      "image/png": "[encoded data removed]",
      "text/plain": [
       "<Figure size 432x288 with 1 Axes>"
      ]
     },
     "metadata": {
      "needs_background": "light"
     },
     "output_type": "display_data"
    }
   ],
   "source": [
    "kmf.plot_survival_function()\n",
    "plt.title(\"The Kaplan-Meier Estimate for Genes Dataset\", fontdict=font)\n",
    "plt.xlabel(\"Overall Survival Time (Months)\", fontdict=font)\n",
    "plt.ylabel(\"Probability of Patient\", fontdict=font)\n",
    "plt.savefig(r'C:\\Users\\U0033207PC\\Desktop\\GENE Enrichment\\FINAL VISUALISATION\\PLOTS\\AUC_KM\\VALIDATION\\PCA\\GENES\\KM_GENES.pdf', bbox_inches=\"tight\")"
   ]
  },
  {
   "cell_type": "code",
   "execution_count": 19,
   "metadata": {},
   "outputs": [
    {
     "data": {
      "image/png": "[encoded data removed]",
      "text/plain": [
       "<Figure size 432x288 with 1 Axes>"
      ]
     },
     "metadata": {
      "needs_background": "light"
     },
     "output_type": "display_data"
    }
   ],
   "source": [
    "# Plot the cumulative density graph:\n",
    "\n",
    "kmf.plot_cumulative_density()\n",
    "plt.title(\"Cumulative Density Plot\", fontdict=font)\n",
    "plt.xlabel(\"Overall Survival Time (Months)\", fontdict=font)\n",
    "plt.ylabel(\"Probability of patient death\", fontdict=font)\n",
    "plt.savefig(r'C:\\Users\\U0033207PC\\Desktop\\GENE Enrichment\\FINAL VISUALISATION\\PLOTS\\AUC_KM\\VALIDATION\\PCA\\GENES\\CUMULATIVEKM_GENES.pdf', bbox_inches=\"tight\")"
   ]
  },
  {
   "cell_type": "code",
   "execution_count": null,
   "metadata": {},
   "outputs": [],
   "source": []
  }
 ],
 "metadata": {
  "kernelspec": {
   "display_name": "Python 3",
   "language": "python",
   "name": "python3"
  },
  "language_info": {
   "codemirror_mode": {
    "name": "ipython",
    "version": 3
   },
   "file_extension": ".py",
   "mimetype": "text/x-python",
   "name": "python",
   "nbconvert_exporter": "python",
   "pygments_lexer": "ipython3",
   "version": "3.7.4"
  },
  "varInspector": {
   "cols": {
    "lenName": 16,
    "lenType": 16,
    "lenVar": 40
   },
   "kernels_config": {
    "python": {
     "delete_cmd_postfix": "",
     "delete_cmd_prefix": "del ",
     "library": "var_list.py",
     "varRefreshCmd": "print(var_dic_list())"
    },
    "r": {
     "delete_cmd_postfix": ") ",
     "delete_cmd_prefix": "rm(",
     "library": "var_list.r",
     "varRefreshCmd": "cat(var_dic_list()) "
    }
   },
   "types_to_exclude": [
    "module",
    "function",
    "builtin_function_or_method",
    "instance",
    "_Feature"
   ],
   "window_display": false
  }
 },
 "nbformat": 4,
 "nbformat_minor": 2
}
