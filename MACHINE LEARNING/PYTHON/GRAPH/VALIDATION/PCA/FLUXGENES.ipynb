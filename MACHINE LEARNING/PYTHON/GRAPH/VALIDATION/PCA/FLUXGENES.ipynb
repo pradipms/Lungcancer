{
 "cells": [
  {
   "cell_type": "code",
   "execution_count": 1,
   "metadata": {},
   "outputs": [],
   "source": [
    "#importing necessary python packages\n",
    "import pandas as pd\n",
    "import numpy as np\n",
    "import os\n",
    "from sklearn.tree import DecisionTreeRegressor\n",
    "from sklearn.ensemble import GradientBoostingRegressor\n",
    "from sklearn.ensemble import RandomForestRegressor\n",
    "from sklearn.svm import SVR\n",
    "from lifelines.utils.sklearn_adapter import sklearn_adapter\n",
    "from lifelines import CoxPHFitter\n",
    "\n",
    "import matplotlib.pyplot as plt\n",
    "import seaborn as sns\n",
    "from sklearn.model_selection import cross_val_predict, cross_val_score\n",
    "from sklearn.metrics import r2_score\n",
    "from sklearn import linear_model\n",
    "from sklearn import datasets, linear_model\n",
    "from scipy.integrate import simps\n",
    "from sklearn import metrics\n",
    "from math import sqrt"
   ]
  },
  {
   "cell_type": "code",
   "execution_count": 2,
   "metadata": {},
   "outputs": [],
   "source": [
    "os.chdir('C:\\\\Users\\\\U0033207PC\\\\Desktop\\\\LUAD FIREHOSE LEGACY DATABASE')#setting the right directory"
   ]
  },
  {
   "cell_type": "code",
   "execution_count": 3,
   "metadata": {},
   "outputs": [],
   "source": [
    "# Importing the dataset\n",
    "dt1 = pd.read_excel('FLUX.xlsx')\n",
    "dt2 = pd.read_excel('GENES.xlsx')"
   ]
  },
  {
   "cell_type": "code",
   "execution_count": 4,
   "metadata": {},
   "outputs": [],
   "source": [
    "font = {'family': 'arial',\n",
    "         'size': 14,\n",
    "        }"
   ]
  },
  {
   "cell_type": "code",
   "execution_count": 5,
   "metadata": {},
   "outputs": [
    {
     "data": {
      "text/html": [
       "<div>\n",
       "<style scoped>\n",
       "    .dataframe tbody tr th:only-of-type {\n",
       "        vertical-align: middle;\n",
       "    }\n",
       "\n",
       "    .dataframe tbody tr th {\n",
       "        vertical-align: top;\n",
       "    }\n",
       "\n",
       "    .dataframe thead th {\n",
       "        text-align: right;\n",
       "    }\n",
       "</style>\n",
       "<table border=\"1\" class=\"dataframe\">\n",
       "  <thead>\n",
       "    <tr style=\"text-align: right;\">\n",
       "      <th></th>\n",
       "      <th>HUG0_SYMBOL</th>\n",
       "      <th>3DSPHR</th>\n",
       "      <th>3HBCOAHLm</th>\n",
       "      <th>ABTArm</th>\n",
       "      <th>ABTD</th>\n",
       "      <th>ACACT1r</th>\n",
       "      <th>ACACT1rm</th>\n",
       "      <th>ACACT1x</th>\n",
       "      <th>ACOAD9m</th>\n",
       "      <th>ACOAO7p</th>\n",
       "      <th>...</th>\n",
       "      <th>1513TACRitr</th>\n",
       "      <th>1531TACRitr</th>\n",
       "      <th>DEOXFVSitx</th>\n",
       "      <th>FVSitx</th>\n",
       "      <th>TACRitr</th>\n",
       "      <th>13DMTitr</th>\n",
       "      <th>15DMTitr</th>\n",
       "      <th>31DMTitr</th>\n",
       "      <th>Patient's Vital Status</th>\n",
       "      <th>Overall Survival (Months)</th>\n",
       "    </tr>\n",
       "  </thead>\n",
       "  <tbody>\n",
       "    <tr>\n",
       "      <th>0</th>\n",
       "      <td>TCGA-05-4244-01</td>\n",
       "      <td>11.448262</td>\n",
       "      <td>154.187481</td>\n",
       "      <td>-583.764387</td>\n",
       "      <td>-14.237357</td>\n",
       "      <td>125.403072</td>\n",
       "      <td>235.338244</td>\n",
       "      <td>457.654536</td>\n",
       "      <td>74.716367</td>\n",
       "      <td>72.493260</td>\n",
       "      <td>...</td>\n",
       "      <td>14.770344</td>\n",
       "      <td>14.770344</td>\n",
       "      <td>-431.370763</td>\n",
       "      <td>431.370763</td>\n",
       "      <td>26.309675</td>\n",
       "      <td>-6.000452</td>\n",
       "      <td>-6.000452</td>\n",
       "      <td>-6.000452</td>\n",
       "      <td>1</td>\n",
       "      <td>0.00</td>\n",
       "    </tr>\n",
       "    <tr>\n",
       "      <th>1</th>\n",
       "      <td>TCGA-05-4249-01</td>\n",
       "      <td>9.173955</td>\n",
       "      <td>162.200877</td>\n",
       "      <td>-442.863722</td>\n",
       "      <td>-5.338254</td>\n",
       "      <td>128.134267</td>\n",
       "      <td>137.492687</td>\n",
       "      <td>149.939274</td>\n",
       "      <td>75.026103</td>\n",
       "      <td>56.620656</td>\n",
       "      <td>...</td>\n",
       "      <td>34.017476</td>\n",
       "      <td>34.017476</td>\n",
       "      <td>-219.803538</td>\n",
       "      <td>219.803538</td>\n",
       "      <td>60.593629</td>\n",
       "      <td>-13.819600</td>\n",
       "      <td>-13.819600</td>\n",
       "      <td>-13.819600</td>\n",
       "      <td>1</td>\n",
       "      <td>50.03</td>\n",
       "    </tr>\n",
       "  </tbody>\n",
       "</table>\n",
       "<p>2 rows × 1964 columns</p>\n",
       "</div>"
      ],
      "text/plain": [
       "       HUG0_SYMBOL     3DSPHR   3HBCOAHLm      ABTArm       ABTD     ACACT1r  \\\n",
       "0  TCGA-05-4244-01  11.448262  154.187481 -583.764387 -14.237357  125.403072   \n",
       "1  TCGA-05-4249-01   9.173955  162.200877 -442.863722  -5.338254  128.134267   \n",
       "\n",
       "     ACACT1rm     ACACT1x    ACOAD9m    ACOAO7p  ...  1513TACRitr  \\\n",
       "0  235.338244  457.654536  74.716367  72.493260  ...    14.770344   \n",
       "1  137.492687  149.939274  75.026103  56.620656  ...    34.017476   \n",
       "\n",
       "   1531TACRitr  DEOXFVSitx      FVSitx    TACRitr   13DMTitr   15DMTitr  \\\n",
       "0    14.770344 -431.370763  431.370763  26.309675  -6.000452  -6.000452   \n",
       "1    34.017476 -219.803538  219.803538  60.593629 -13.819600 -13.819600   \n",
       "\n",
       "    31DMTitr  Patient's Vital Status  Overall Survival (Months)  \n",
       "0  -6.000452                       1                       0.00  \n",
       "1 -13.819600                       1                      50.03  \n",
       "\n",
       "[2 rows x 1964 columns]"
      ]
     },
     "execution_count": 5,
     "metadata": {},
     "output_type": "execute_result"
    }
   ],
   "source": [
    "dt1.head(2)"
   ]
  },
  {
   "cell_type": "code",
   "execution_count": 6,
   "metadata": {},
   "outputs": [
    {
     "data": {
      "text/html": [
       "<div>\n",
       "<style scoped>\n",
       "    .dataframe tbody tr th:only-of-type {\n",
       "        vertical-align: middle;\n",
       "    }\n",
       "\n",
       "    .dataframe tbody tr th {\n",
       "        vertical-align: top;\n",
       "    }\n",
       "\n",
       "    .dataframe thead th {\n",
       "        text-align: right;\n",
       "    }\n",
       "</style>\n",
       "<table border=\"1\" class=\"dataframe\">\n",
       "  <thead>\n",
       "    <tr style=\"text-align: right;\">\n",
       "      <th></th>\n",
       "      <th>Hugo_Symbol</th>\n",
       "      <th>UBE2Q2P2</th>\n",
       "      <th>SSX9</th>\n",
       "      <th>CXORF67</th>\n",
       "      <th>EFCAB8</th>\n",
       "      <th>SDR16C6P</th>\n",
       "      <th>EFCAB12</th>\n",
       "      <th>A1BG</th>\n",
       "      <th>A1CF</th>\n",
       "      <th>RBFOX1</th>\n",
       "      <th>...</th>\n",
       "      <th>SLU7</th>\n",
       "      <th>SLURP1</th>\n",
       "      <th>SMAD2</th>\n",
       "      <th>SMAD3</th>\n",
       "      <th>SMAD4</th>\n",
       "      <th>SMAD5</th>\n",
       "      <th>SMAD6</th>\n",
       "      <th>SMAD7</th>\n",
       "      <th>Patient's Vital Status</th>\n",
       "      <th>Overall Survival (Months)</th>\n",
       "    </tr>\n",
       "  </thead>\n",
       "  <tbody>\n",
       "    <tr>\n",
       "      <th>0</th>\n",
       "      <td>TCGA-05-4244-01</td>\n",
       "      <td>-0.4238</td>\n",
       "      <td>-0.1379</td>\n",
       "      <td>-0.1805</td>\n",
       "      <td>0.4529</td>\n",
       "      <td>-0.3317</td>\n",
       "      <td>-0.1012</td>\n",
       "      <td>-0.6977</td>\n",
       "      <td>-0.1476</td>\n",
       "      <td>-0.224</td>\n",
       "      <td>...</td>\n",
       "      <td>3.4584</td>\n",
       "      <td>-0.2752</td>\n",
       "      <td>-0.7736</td>\n",
       "      <td>-0.6896</td>\n",
       "      <td>-0.0017</td>\n",
       "      <td>0.1779</td>\n",
       "      <td>-0.6433</td>\n",
       "      <td>0.7445</td>\n",
       "      <td>1</td>\n",
       "      <td>0.00</td>\n",
       "    </tr>\n",
       "    <tr>\n",
       "      <th>1</th>\n",
       "      <td>TCGA-05-4249-01</td>\n",
       "      <td>-0.3291</td>\n",
       "      <td>-0.1379</td>\n",
       "      <td>-0.1805</td>\n",
       "      <td>-0.0869</td>\n",
       "      <td>-0.3317</td>\n",
       "      <td>-0.1661</td>\n",
       "      <td>-0.1483</td>\n",
       "      <td>-0.1371</td>\n",
       "      <td>-0.226</td>\n",
       "      <td>...</td>\n",
       "      <td>0.7962</td>\n",
       "      <td>-0.2752</td>\n",
       "      <td>-0.6214</td>\n",
       "      <td>0.0881</td>\n",
       "      <td>1.3829</td>\n",
       "      <td>2.3203</td>\n",
       "      <td>-0.4918</td>\n",
       "      <td>0.0368</td>\n",
       "      <td>1</td>\n",
       "      <td>50.03</td>\n",
       "    </tr>\n",
       "  </tbody>\n",
       "</table>\n",
       "<p>2 rows × 14809 columns</p>\n",
       "</div>"
      ],
      "text/plain": [
       "       Hugo_Symbol  UBE2Q2P2    SSX9  CXORF67  EFCAB8  SDR16C6P  EFCAB12  \\\n",
       "0  TCGA-05-4244-01   -0.4238 -0.1379  -0.1805  0.4529   -0.3317  -0.1012   \n",
       "1  TCGA-05-4249-01   -0.3291 -0.1379  -0.1805 -0.0869   -0.3317  -0.1661   \n",
       "\n",
       "     A1BG    A1CF  RBFOX1  ...    SLU7  SLURP1   SMAD2   SMAD3   SMAD4  \\\n",
       "0 -0.6977 -0.1476  -0.224  ...  3.4584 -0.2752 -0.7736 -0.6896 -0.0017   \n",
       "1 -0.1483 -0.1371  -0.226  ...  0.7962 -0.2752 -0.6214  0.0881  1.3829   \n",
       "\n",
       "    SMAD5   SMAD6   SMAD7  Patient's Vital Status  Overall Survival (Months)  \n",
       "0  0.1779 -0.6433  0.7445                       1                       0.00  \n",
       "1  2.3203 -0.4918  0.0368                       1                      50.03  \n",
       "\n",
       "[2 rows x 14809 columns]"
      ]
     },
     "execution_count": 6,
     "metadata": {},
     "output_type": "execute_result"
    }
   ],
   "source": [
    "dt2.head(2)"
   ]
  },
  {
   "cell_type": "code",
   "execution_count": 7,
   "metadata": {},
   "outputs": [],
   "source": [
    "del dt1['Overall Survival (Months)']\n",
    "del dt1['Patient\\'s Vital Status']\n",
    "del dt2['Hugo_Symbol']"
   ]
  },
  {
   "cell_type": "code",
   "execution_count": 8,
   "metadata": {},
   "outputs": [],
   "source": [
    "dt = dt1.merge(dt2,left_index=True,right_index=True)"
   ]
  },
  {
   "cell_type": "code",
   "execution_count": 9,
   "metadata": {},
   "outputs": [
    {
     "data": {
      "text/html": [
       "<div>\n",
       "<style scoped>\n",
       "    .dataframe tbody tr th:only-of-type {\n",
       "        vertical-align: middle;\n",
       "    }\n",
       "\n",
       "    .dataframe tbody tr th {\n",
       "        vertical-align: top;\n",
       "    }\n",
       "\n",
       "    .dataframe thead th {\n",
       "        text-align: right;\n",
       "    }\n",
       "</style>\n",
       "<table border=\"1\" class=\"dataframe\">\n",
       "  <thead>\n",
       "    <tr style=\"text-align: right;\">\n",
       "      <th></th>\n",
       "      <th>HUG0_SYMBOL</th>\n",
       "      <th>3DSPHR</th>\n",
       "      <th>3HBCOAHLm</th>\n",
       "      <th>ABTArm</th>\n",
       "      <th>ABTD</th>\n",
       "      <th>ACACT1r</th>\n",
       "      <th>ACACT1rm</th>\n",
       "      <th>ACACT1x</th>\n",
       "      <th>ACOAD9m</th>\n",
       "      <th>ACOAO7p</th>\n",
       "      <th>...</th>\n",
       "      <th>SLU7</th>\n",
       "      <th>SLURP1</th>\n",
       "      <th>SMAD2</th>\n",
       "      <th>SMAD3</th>\n",
       "      <th>SMAD4</th>\n",
       "      <th>SMAD5</th>\n",
       "      <th>SMAD6</th>\n",
       "      <th>SMAD7</th>\n",
       "      <th>Patient's Vital Status</th>\n",
       "      <th>Overall Survival (Months)</th>\n",
       "    </tr>\n",
       "  </thead>\n",
       "  <tbody>\n",
       "    <tr>\n",
       "      <th>0</th>\n",
       "      <td>TCGA-05-4244-01</td>\n",
       "      <td>11.448262</td>\n",
       "      <td>154.187481</td>\n",
       "      <td>-583.764387</td>\n",
       "      <td>-14.237357</td>\n",
       "      <td>125.403072</td>\n",
       "      <td>235.338244</td>\n",
       "      <td>457.654536</td>\n",
       "      <td>74.716367</td>\n",
       "      <td>72.493260</td>\n",
       "      <td>...</td>\n",
       "      <td>3.4584</td>\n",
       "      <td>-0.2752</td>\n",
       "      <td>-0.7736</td>\n",
       "      <td>-0.6896</td>\n",
       "      <td>-0.0017</td>\n",
       "      <td>0.1779</td>\n",
       "      <td>-0.6433</td>\n",
       "      <td>0.7445</td>\n",
       "      <td>1</td>\n",
       "      <td>0.00</td>\n",
       "    </tr>\n",
       "    <tr>\n",
       "      <th>1</th>\n",
       "      <td>TCGA-05-4249-01</td>\n",
       "      <td>9.173955</td>\n",
       "      <td>162.200877</td>\n",
       "      <td>-442.863722</td>\n",
       "      <td>-5.338254</td>\n",
       "      <td>128.134267</td>\n",
       "      <td>137.492687</td>\n",
       "      <td>149.939274</td>\n",
       "      <td>75.026103</td>\n",
       "      <td>56.620656</td>\n",
       "      <td>...</td>\n",
       "      <td>0.7962</td>\n",
       "      <td>-0.2752</td>\n",
       "      <td>-0.6214</td>\n",
       "      <td>0.0881</td>\n",
       "      <td>1.3829</td>\n",
       "      <td>2.3203</td>\n",
       "      <td>-0.4918</td>\n",
       "      <td>0.0368</td>\n",
       "      <td>1</td>\n",
       "      <td>50.03</td>\n",
       "    </tr>\n",
       "  </tbody>\n",
       "</table>\n",
       "<p>2 rows × 16770 columns</p>\n",
       "</div>"
      ],
      "text/plain": [
       "       HUG0_SYMBOL     3DSPHR   3HBCOAHLm      ABTArm       ABTD     ACACT1r  \\\n",
       "0  TCGA-05-4244-01  11.448262  154.187481 -583.764387 -14.237357  125.403072   \n",
       "1  TCGA-05-4249-01   9.173955  162.200877 -442.863722  -5.338254  128.134267   \n",
       "\n",
       "     ACACT1rm     ACACT1x    ACOAD9m    ACOAO7p  ...    SLU7  SLURP1   SMAD2  \\\n",
       "0  235.338244  457.654536  74.716367  72.493260  ...  3.4584 -0.2752 -0.7736   \n",
       "1  137.492687  149.939274  75.026103  56.620656  ...  0.7962 -0.2752 -0.6214   \n",
       "\n",
       "    SMAD3   SMAD4   SMAD5   SMAD6   SMAD7  Patient's Vital Status  \\\n",
       "0 -0.6896 -0.0017  0.1779 -0.6433  0.7445                       1   \n",
       "1  0.0881  1.3829  2.3203 -0.4918  0.0368                       1   \n",
       "\n",
       "   Overall Survival (Months)  \n",
       "0                       0.00  \n",
       "1                      50.03  \n",
       "\n",
       "[2 rows x 16770 columns]"
      ]
     },
     "execution_count": 9,
     "metadata": {},
     "output_type": "execute_result"
    }
   ],
   "source": [
    "dt.head(2)"
   ]
  },
  {
   "cell_type": "code",
   "execution_count": 10,
   "metadata": {},
   "outputs": [],
   "source": [
    "dc = \"Overall Survival (Months)\"; \n",
    "ec = \"Patient\\'s Vital Status\"\n",
    "\n",
    "dt_ = dt.drop('HUG0_SYMBOL', axis=1)\n",
    "\n",
    "y = dt_.pop(dc).values\n",
    "z1 = dt_.pop(ec).values\n",
    "X = dt_"
   ]
  },
  {
   "cell_type": "code",
   "execution_count": 11,
   "metadata": {},
   "outputs": [],
   "source": [
    "# Splitting the dataset into the Training set and Test set\n",
    "from sklearn.model_selection import train_test_split\n",
    "X_train, X_test, y_train, y_test, z1_train, z1_test = train_test_split(X, y, z1, test_size=0.2, random_state=0)\n",
    "X_train, X_val, y_train, y_val, z1_train, z1_val = train_test_split(X_train, y_train, z1_train, test_size=0.2, random_state=0)"
   ]
  },
  {
   "cell_type": "code",
   "execution_count": 12,
   "metadata": {},
   "outputs": [],
   "source": [
    "# Feature Scaling\n",
    "from sklearn.preprocessing import StandardScaler\n",
    "sc_X = StandardScaler()\n",
    "X_train = sc_X.fit_transform(X_train)\n",
    "X_test = sc_X.transform(X_test)\n",
    "X_val = sc_X.transform(X_val)"
   ]
  },
  {
   "cell_type": "code",
   "execution_count": 13,
   "metadata": {},
   "outputs": [],
   "source": [
    "# Applying PCA\n",
    "from sklearn.decomposition import PCA\n",
    "pca = PCA(n_components = None)\n",
    "X_train = pca.fit_transform(X_train)\n",
    "X_val = pca.transform(X_val)\n",
    "X_test = pca.transform(X_test)\n",
    "explained_variance = pca.explained_variance_ratio_"
   ]
  },
  {
   "cell_type": "code",
   "execution_count": 14,
   "metadata": {},
   "outputs": [],
   "source": [
    "# Applying Selecting Features\n",
    "from sklearn.decomposition import PCA\n",
    "pca = PCA(n_components = 15)\n",
    "X_train = pca.fit_transform(X_train)\n",
    "X_val = pca.transform(X_val)\n",
    "X_test = pca.transform(X_test)\n",
    "explained_variance = pca.explained_variance_ratio_"
   ]
  },
  {
   "cell_type": "code",
   "execution_count": 15,
   "metadata": {},
   "outputs": [
    {
     "data": {
      "text/plain": [
       "array([0.06630907, 0.05272993, 0.04489655, 0.03971667, 0.03379048,\n",
       "       0.02693764, 0.0229222 , 0.01997504, 0.01723999, 0.01436369,\n",
       "       0.01282248, 0.01246524, 0.01143812, 0.01069049, 0.01021498])"
      ]
     },
     "execution_count": 15,
     "metadata": {},
     "output_type": "execute_result"
    }
   ],
   "source": [
    "explained_variance"
   ]
  },
  {
   "cell_type": "code",
   "execution_count": 16,
   "metadata": {},
   "outputs": [],
   "source": [
    "conc1 = np.vstack(X_train)\n",
    "conc2 = np.vstack(X_test)\n",
    "conc3 = np.vstack(X_val)\n",
    "\n",
    "X_train = pd.DataFrame(conc1, columns=['PC1', 'PC2', 'PC3', 'PC4', 'PC5', 'PC6', 'PC7', 'PC8', 'PC9', 'PC10', 'PC11', 'PC12', 'PC13',\n",
    "                                      'PC14', 'PC15'])\n",
    "X_test = pd.DataFrame(conc2, columns=['PC1', 'PC2', 'PC3', 'PC4', 'PC5', 'PC6', 'PC7', 'PC8', 'PC9', 'PC10', 'PC11', 'PC12', 'PC13',\n",
    "                                     'PC14', 'PC15'])\n",
    "X_val = pd.DataFrame(conc3, columns=['PC1', 'PC2', 'PC3', 'PC4', 'PC5', 'PC6', 'PC7', 'PC8', 'PC9', 'PC10', 'PC11', 'PC12', 'PC13',\n",
    "                                    'PC14', 'PC15'])\n",
    "\n",
    "conc4 = np.vstack(z1_train)\n",
    "conc5 = np.vstack(z1_test)\n",
    "conc6 = np.vstack(z1_val)\n",
    "\n",
    "z1_train = pd.DataFrame(conc4, columns=['Patient\\'s Vital Status'])\n",
    "z1_test = pd.DataFrame(conc5, columns=['Patient\\'s Vital Status'])\n",
    "z1_val = pd.DataFrame(conc6, columns=['Patient\\'s Vital Status'])"
   ]
  },
  {
   "cell_type": "code",
   "execution_count": 17,
   "metadata": {},
   "outputs": [],
   "source": [
    "X_train = X_train.merge(z1_train,left_index=True,right_index=True)\n",
    "X_val = X_val.merge(z1_val,left_index=True,right_index=True)\n",
    "X_test = X_test.merge(z1_test,left_index=True,right_index=True)"
   ]
  },
  {
   "cell_type": "code",
   "execution_count": 18,
   "metadata": {},
   "outputs": [],
   "source": [
    "base_class = sklearn_adapter(CoxPHFitter, event_col='Patient\\'s Vital Status')\n",
    "cph = base_class(penalizer=200.0, strata=None, tie_method='Efron')"
   ]
  },
  {
   "cell_type": "code",
   "execution_count": 19,
   "metadata": {},
   "outputs": [
    {
     "data": {
      "image/png": "[encoded data removed]",
      "text/plain": [
       "<Figure size 576x576 with 1 Axes>"
      ]
     },
     "metadata": {
      "needs_background": "light"
     },
     "output_type": "display_data"
    }
   ],
   "source": [
    "# Instantiate the classfiers and make a list\n",
    "regressors = [DecisionTreeRegressor(criterion='mse', max_depth=None, max_features=None,\n",
    "                      max_leaf_nodes=None, min_impurity_decrease=0.0,\n",
    "                      min_impurity_split=None, min_samples_leaf=1,\n",
    "                      min_samples_split=2, min_weight_fraction_leaf=0.0,\n",
    "                      presort=False, random_state=None, splitter='best'),\n",
    "              GradientBoostingRegressor(alpha=0.9, criterion='friedman_mse', init=None,\n",
    "                          learning_rate=0.1, loss='ls', max_depth=3,\n",
    "                          max_features=None, max_leaf_nodes=None,\n",
    "                          min_impurity_decrease=0.0, min_impurity_split=None,\n",
    "                          min_samples_leaf=1, min_samples_split=2,\n",
    "                          min_weight_fraction_leaf=0.0, n_estimators=100,\n",
    "                          n_iter_no_change=None, presort='auto',\n",
    "                          random_state=None, subsample=1.0, tol=0.0001,\n",
    "                          validation_fraction=0.1, verbose=0, warm_start=False), \n",
    "              RandomForestRegressor(bootstrap=True, criterion='mse', max_depth=None,\n",
    "                      max_features='auto', max_leaf_nodes=None,\n",
    "                      min_impurity_decrease=0.0, min_impurity_split=None,\n",
    "                      min_samples_leaf=1, min_samples_split=2,\n",
    "                      min_weight_fraction_leaf=0.0, n_estimators=10,\n",
    "                      n_jobs=None, oob_score=False, random_state=None,\n",
    "                      verbose=0, warm_start=False), \n",
    "              SVR(gamma='scale', C=0.8),\n",
    "              cph]\n",
    "\n",
    "# Define a result table as a DataFrame\n",
    "result_table = pd.DataFrame(columns=['regressors', 'Deviation','Accuracy','AUC'])\n",
    "\n",
    "# Train the models and record the results\n",
    "for rls in regressors:\n",
    "    model = rls.fit(X_train, y_train)\n",
    "    y_pred = model.predict(X_val)    \n",
    "    \n",
    "    \n",
    "    def REC(y_val , y_pred):\n",
    "    \n",
    "        # initilizing the lists\n",
    "        Accuracy = []\n",
    "    \n",
    "        # initializing the values for Epsilon\n",
    "        Begin_Range = 0\n",
    "        End_Range = 1.5\n",
    "        Interval_Size = 0.01\n",
    "    \n",
    "        # List of epsilons\n",
    "        Epsilon = np.arange(Begin_Range , End_Range , Interval_Size)\n",
    "        \n",
    "        # Main Loops\n",
    "        for i in range(len(Epsilon)):\n",
    "            count = 0.0\n",
    "            for j in range(len(y_val)):\n",
    "                if np.linalg.norm(y_val[j] - y_pred[j]) / np.sqrt( np.linalg.norm(y_val[j]) **2 + np.linalg.norm(y_pred[j])**2 ) < Epsilon[i]:\n",
    "                    count = count + 1\n",
    "        \n",
    "            Accuracy.append(count/len(y_val))\n",
    "    \n",
    "        # Calculating Area Under Curve using Simpson's rule\n",
    "        AUC = simps(Accuracy , Epsilon ) / End_Range\n",
    "        \n",
    "        # returning epsilon , accuracy , area under curve    \n",
    "        return Epsilon , Accuracy , AUC\n",
    "\n",
    "    # finding the deviation and accuracy, and area under curve for plotting\n",
    "    Deviation, Accuracy, AUC = REC(y_val, y_pred)\n",
    "\n",
    "    # Calculating R^2 of the true and predicted values\n",
    "    #RR = r2_score(y_val, y_predval)\n",
    "\n",
    "    \n",
    "    result_table = result_table.append({'regressors':rls.__class__.__name__,\n",
    "                                        'Deviation':Deviation, \n",
    "                                        'Accuracy':Accuracy, \n",
    "                                        'AUC':AUC}, ignore_index=True)\n",
    "    \n",
    "# Set name of the classifiers as index labels\n",
    "result_table.set_index('regressors', inplace=True)\n",
    "\n",
    "fig = plt.figure(figsize=(8,8))\n",
    "\n",
    "for i in result_table.index:\n",
    "    plt.plot(result_table.loc[i]['Deviation'],\n",
    "            result_table.loc[i]['Accuracy'],\n",
    "            label=\"{}, AUC={:.3f}\".format(i, result_table.loc[i]['AUC']))\n",
    "    \n",
    "        \n",
    "\n",
    "\n",
    "plt.plot([0,1.5], [0,1], color='orange', linestyle='--')\n",
    "plt.title(\"Regression Error Characteristic (REC)\", fontdict=font)\n",
    "#plt.plot(Deviation, Accuracy, \"--b\",lw =3)\n",
    "plt.xticks(np.arange(0.0, 1.5, step=0.1))\n",
    "plt.xlabel(\"Deviation\", fontdict=font)\n",
    "plt.yticks(np.arange(0.0, 1.1, step=0.1))\n",
    "plt.ylabel(\"Accuracy (%)\", fontdict=font)\n",
    "plt.legend(prop={'size':13}, loc='lower right')\n",
    "plt.savefig(r'C:\\Users\\U0033207PC\\Desktop\\GENE Enrichment\\FINAL VISUALISATION\\PLOTS\\AUC_KM\\VALIDATION\\PCA\\FLUXGENES\\AUC_FLUX.pdf', bbox_inches=\"tight\")\n",
    "plt.show()"
   ]
  },
  {
   "cell_type": "code",
   "execution_count": 20,
   "metadata": {},
   "outputs": [
    {
     "name": "stdout",
     "output_type": "stream",
     "text": [
      "                  regressors        MAE         MSE       RMSE     rRMSE\n",
      "0      DecisionTreeRegressor  22.693876  920.560777  30.340744  1.057315\n",
      "1  GradientBoostingRegressor  17.120224  616.522908  24.829879  0.865272\n",
      "2      RandomForestRegressor  19.396591  741.885317  27.237572  0.949176\n",
      "3                        SVR  16.230039  595.834845  24.409728  0.850631\n",
      "4         SkLearnCoxPHFitter  23.745822  793.121965  28.162421  0.981405\n"
     ]
    }
   ],
   "source": [
    "# Instantiate the classfiers and make a list\n",
    "regressors = [DecisionTreeRegressor(criterion='mse', max_depth=None, max_features=None,\n",
    "                      max_leaf_nodes=None, min_impurity_decrease=0.0,\n",
    "                      min_impurity_split=None, min_samples_leaf=1,\n",
    "                      min_samples_split=2, min_weight_fraction_leaf=0.0,\n",
    "                      presort=False, random_state=None, splitter='best'),\n",
    "              GradientBoostingRegressor(alpha=0.9, criterion='friedman_mse', init=None,\n",
    "                          learning_rate=0.1, loss='ls', max_depth=3,\n",
    "                          max_features=None, max_leaf_nodes=None,\n",
    "                          min_impurity_decrease=0.0, min_impurity_split=None,\n",
    "                          min_samples_leaf=1, min_samples_split=2,\n",
    "                          min_weight_fraction_leaf=0.0, n_estimators=100,\n",
    "                          n_iter_no_change=None, presort='auto',\n",
    "                          random_state=None, subsample=1.0, tol=0.0001,\n",
    "                          validation_fraction=0.1, verbose=0, warm_start=False), \n",
    "              RandomForestRegressor(bootstrap=True, criterion='mse', max_depth=None,\n",
    "                      max_features='auto', max_leaf_nodes=None,\n",
    "                      min_impurity_decrease=0.0, min_impurity_split=None,\n",
    "                      min_samples_leaf=1, min_samples_split=2,\n",
    "                      min_weight_fraction_leaf=0.0, n_estimators=10,\n",
    "                      n_jobs=None, oob_score=False, random_state=None,\n",
    "                      verbose=0, warm_start=False), \n",
    "              SVR(gamma='scale', C=0.8),\n",
    "              cph]\n",
    "\n",
    "# Define a result table as a DataFrame\n",
    "result_table = pd.DataFrame(columns=['regressors', 'MAE','MSE','RMSE', 'rRMSE'])\n",
    "\n",
    "# Train the models and record the results\n",
    "for rls in regressors:\n",
    "    model = rls.fit(X_train, y_train)\n",
    "    y_pred = model.predict(X_val)    \n",
    "    \n",
    "    # Print result of MAE\n",
    "          \n",
    "    MAE = metrics.mean_absolute_error(y_val, y_pred)\n",
    "    #print(metrics.mean_absolute_error(y_test, y_pred))\n",
    "\n",
    "    # Print result of MSE\n",
    "    MSE = metrics.mean_squared_error(y_val, y_pred)\n",
    "    #print(metrics.mean_squared_error(y_test, y_pred))\n",
    "\n",
    "    # Print result of RMSE\n",
    "    RMSE = np.sqrt(metrics.mean_squared_error(y_val, y_pred))\n",
    "    #print(np.sqrt(metrics.mean_squared_error(y_test, y_pred)))\n",
    "    \n",
    "    # Print result of RELATIVE ROOT MEAN SQUARED ERROR (RRMSE)\n",
    "    def rmse_metric(y_val, y_pred):\n",
    "        sum_error = 0.0\n",
    "        for i in range(len(y_val)):\n",
    "            prediction_error = y_pred[i] - y_val[i]\n",
    "            sum_error += (prediction_error ** 2)\n",
    "        mean_error = sum_error / float(len(y_val))\n",
    "        return sqrt(mean_error)\n",
    "\n",
    "    rmse = rmse_metric(y_val, y_pred)\n",
    "\n",
    "    def meanactual_metric(y_val):\n",
    "        sum_error = 0.0\n",
    "        for i in range(len(y_val)):\n",
    "            prediction_error = y_val[i]\n",
    "            sum_error += prediction_error\n",
    "            mean_error = sum_error / float(len(y_val))\n",
    "        return (mean_error)\n",
    "\n",
    "    mean = meanactual_metric(y_val)\n",
    "    rRMSE = rmse/mean\n",
    "\n",
    "    \n",
    "    result_table = result_table.append({'regressors':rls.__class__.__name__,\n",
    "                                        'MAE':MAE, \n",
    "                                        'MSE':MSE, \n",
    "                                        'RMSE':RMSE,\n",
    "                                        'rRMSE':rRMSE}, ignore_index=True)\n",
    "print(result_table)"
   ]
  },
  {
   "cell_type": "code",
   "execution_count": 21,
   "metadata": {},
   "outputs": [],
   "source": [
    "from lifelines import KaplanMeierFitter\n",
    "kmf = KaplanMeierFitter()"
   ]
  },
  {
   "cell_type": "code",
   "execution_count": 22,
   "metadata": {},
   "outputs": [
    {
     "name": "stderr",
     "output_type": "stream",
     "text": [
      "c:\\python\\python37\\lib\\site-packages\\lifelines\\fitters\\kaplan_meier_fitter.py:262: FutureWarning: Support for multi-dimensional indexing (e.g. `obj[:, None]`) is deprecated and will be removed in a future version.  Convert to a numpy array before indexing instead.\n",
      "  self.confidence_interval_ = self._bounds(cumulative_sq_[:, None], alpha, ci_labels)\n"
     ]
    },
    {
     "data": {
      "text/plain": [
       "<lifelines.KaplanMeierFitter:\"KM_estimate\", fitted with 83 total observations, 28 right-censored observations>"
      ]
     },
     "execution_count": 22,
     "metadata": {},
     "output_type": "execute_result"
    }
   ],
   "source": [
    "kmf.fit(y_pred, z1_val)"
   ]
  },
  {
   "cell_type": "code",
   "execution_count": 23,
   "metadata": {},
   "outputs": [
    {
     "data": {
      "image/png": "[encoded data removed]",
      "text/plain": [
       "<Figure size 432x288 with 1 Axes>"
      ]
     },
     "metadata": {
      "needs_background": "light"
     },
     "output_type": "display_data"
    }
   ],
   "source": [
    "kmf.plot_survival_function()\n",
    "plt.title(\"The Kaplan-Meier Estimate for Flux + Genes Dataset\", fontdict=font)\n",
    "plt.xlabel(\"Overall Survival Time (Months)\", fontdict=font)\n",
    "plt.ylabel(\"Probability of Patient\", fontdict=font)\n",
    "plt.savefig(r'C:\\Users\\U0033207PC\\Desktop\\GENE Enrichment\\FINAL VISUALISATION\\PLOTS\\AUC_KM\\VALIDATION\\PCA\\FLUXGENES\\KM_FLUXGENES.pdf', bbox_inches=\"tight\")"
   ]
  },
  {
   "cell_type": "code",
   "execution_count": 24,
   "metadata": {},
   "outputs": [
    {
     "data": {
      "image/png": "[encoded data removed]",
      "text/plain": [
       "<Figure size 432x288 with 1 Axes>"
      ]
     },
     "metadata": {
      "needs_background": "light"
     },
     "output_type": "display_data"
    }
   ],
   "source": [
    "# Plot the cumulative density graph:\n",
    "\n",
    "kmf.plot_cumulative_density()\n",
    "plt.title(\"Cumulative Density Plot\", fontdict=font)\n",
    "plt.xlabel(\"Overall Survival Time (Months)\", fontdict=font)\n",
    "plt.ylabel(\"Probability of patient death\", fontdict=font)\n",
    "plt.savefig(r'C:\\Users\\U0033207PC\\Desktop\\GENE Enrichment\\FINAL VISUALISATION\\PLOTS\\AUC_KM\\VALIDATION\\PCA\\FLUXGENES\\CUMULATIVEKM_FLUXGENES.pdf', bbox_inches=\"tight\")"
   ]
  },
  {
   "cell_type": "code",
   "execution_count": null,
   "metadata": {},
   "outputs": [],
   "source": []
  }
 ],
 "metadata": {
  "kernelspec": {
   "display_name": "Python 3",
   "language": "python",
   "name": "python3"
  },
  "language_info": {
   "codemirror_mode": {
    "name": "ipython",
    "version": 3
   },
   "file_extension": ".py",
   "mimetype": "text/x-python",
   "name": "python",
   "nbconvert_exporter": "python",
   "pygments_lexer": "ipython3",
   "version": "3.7.4"
  },
  "varInspector": {
   "cols": {
    "lenName": 16,
    "lenType": 16,
    "lenVar": 40
   },
   "kernels_config": {
    "python": {
     "delete_cmd_postfix": "",
     "delete_cmd_prefix": "del ",
     "library": "var_list.py",
     "varRefreshCmd": "print(var_dic_list())"
    },
    "r": {
     "delete_cmd_postfix": ") ",
     "delete_cmd_prefix": "rm(",
     "library": "var_list.r",
     "varRefreshCmd": "cat(var_dic_list()) "
    }
   },
   "types_to_exclude": [
    "module",
    "function",
    "builtin_function_or_method",
    "instance",
    "_Feature"
   ],
   "window_display": false
  }
 },
 "nbformat": 4,
 "nbformat_minor": 2
}
